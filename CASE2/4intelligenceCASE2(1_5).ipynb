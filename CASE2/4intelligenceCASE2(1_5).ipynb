{
  "nbformat": 4,
  "nbformat_minor": 0,
  "metadata": {
    "colab": {
      "name": "4intelligenceCASE2(1-5).ipynb",
      "provenance": []
    },
    "kernelspec": {
      "name": "python3",
      "display_name": "Python 3"
    }
  },
  "cells": [
    {
      "cell_type": "markdown",
      "metadata": {
        "id": "hBsd_vVBN24l"
      },
      "source": [
        "##Case 2##\r\n",
        "Attached to this test is a .csv file which contains data from Comexstat, which is basically the official data source for brazilian exports e imports, maintened by the government;\r\n",
        "The dataset contains all trackings of monthly imports and exports of a range of products (soybeans, soybean meal, soybean oil, corn, wheat and sugar), by brazilian states, by routes (air, sea, ground, etc) e from/to which country;\r\n",
        "We ask you to address a couple quentions below. Remember that data viz is one important skill to show besides any analytical skill. So we encourage you to use and explore a bunch of graphs and tables to show your point.\r\n",
        "\r\n",
        "1.Show the evolution of total monthly and total annual exports from Brazil (all states and to everywhere) of ‘soybeans’, ‘soybean oil’ and ‘soybean meal’;\r\n",
        "\r\n",
        "2.What are the 3 most important products exported by Brazil in the last 5 years?\r\n",
        "\r\n",
        "3.What are the main routes through which Brazil have been exporting ‘corn’ in the last few years? Are there differences in the relative importancem of routes depending on the product?\r\n",
        "\r\n",
        "4.Which countries have been the most important trade partners for Brazil in terms of ‘corn’ and ‘sugar’ in the last 3 years?\r\n",
        "\r\n",
        "5.For each of the products in the dataset, show the 5 most important states in terms of exports?\r\n",
        "\r\n"
      ]
    },
    {
      "cell_type": "markdown",
      "metadata": {
        "id": "lNc6lfP4OHhh"
      },
      "source": [
        "#SOLUTIONS#"
      ]
    },
    {
      "cell_type": "markdown",
      "metadata": {
        "id": "lPujtoyGOOSy"
      },
      "source": [
        "#1.Show the evolution of total monthly and total annual exports from Brazil (all states and to everywhere) of ‘soybeans’, ‘soybean oil’ and ‘soybean meal’;#\r\n",
        "\r\n"
      ]
    },
    {
      "cell_type": "markdown",
      "metadata": {
        "id": "iQSCaCv_mC_d"
      },
      "source": [
        "##Annual exports##\r\n",
        "\r\n",
        "First, via sql (see sql.txt file), data were agrupped in order to get the necessary data and **annual_exports.csv** was generated."
      ]
    },
    {
      "cell_type": "code",
      "metadata": {
        "id": "Xtrn6IGANzXr"
      },
      "source": [
        "import pandas as pd\r\n",
        "import plotly.graph_objects as go\r\n"
      ],
      "execution_count": 3,
      "outputs": []
    },
    {
      "cell_type": "code",
      "metadata": {
        "id": "6kU1BxE1QCvi"
      },
      "source": [
        "data=pd.read_csv(\"annual_exports.csv\")\r\n",
        "soybeans=data[data['product']==\"soybeans\"]\r\n",
        "soybean_meal=data[data['product']==\"soybean_meal\"]\r\n",
        "soybean_oil=data[data['product']==\"soybean_oil\"]"
      ],
      "execution_count": 4,
      "outputs": []
    },
    {
      "cell_type": "code",
      "metadata": {
        "colab": {
          "base_uri": "https://localhost:8080/",
          "height": 406
        },
        "id": "DrEQ368OVw18",
        "outputId": "f3ef2866-bad1-44cb-918f-18aa37ea0fca"
      },
      "source": [
        "data"
      ],
      "execution_count": 5,
      "outputs": [
        {
          "output_type": "execute_result",
          "data": {
            "text/html": [
              "<div>\n",
              "<style scoped>\n",
              "    .dataframe tbody tr th:only-of-type {\n",
              "        vertical-align: middle;\n",
              "    }\n",
              "\n",
              "    .dataframe tbody tr th {\n",
              "        vertical-align: top;\n",
              "    }\n",
              "\n",
              "    .dataframe thead th {\n",
              "        text-align: right;\n",
              "    }\n",
              "</style>\n",
              "<table border=\"1\" class=\"dataframe\">\n",
              "  <thead>\n",
              "    <tr style=\"text-align: right;\">\n",
              "      <th></th>\n",
              "      <th>product</th>\n",
              "      <th>total_tons</th>\n",
              "      <th>total_usd</th>\n",
              "      <th>year</th>\n",
              "    </tr>\n",
              "  </thead>\n",
              "  <tbody>\n",
              "    <tr>\n",
              "      <th>0</th>\n",
              "      <td>soybean_meal</td>\n",
              "      <td>9.965945e+06</td>\n",
              "      <td>2668177472</td>\n",
              "      <td>1997</td>\n",
              "    </tr>\n",
              "    <tr>\n",
              "      <th>1</th>\n",
              "      <td>soybean_oil</td>\n",
              "      <td>1.117451e+06</td>\n",
              "      <td>592322413</td>\n",
              "      <td>1997</td>\n",
              "    </tr>\n",
              "    <tr>\n",
              "      <th>2</th>\n",
              "      <td>soybeans</td>\n",
              "      <td>8.195025e+06</td>\n",
              "      <td>2407409169</td>\n",
              "      <td>1997</td>\n",
              "    </tr>\n",
              "    <tr>\n",
              "      <th>3</th>\n",
              "      <td>soybean_meal</td>\n",
              "      <td>9.947875e+06</td>\n",
              "      <td>1671167311</td>\n",
              "      <td>1998</td>\n",
              "    </tr>\n",
              "    <tr>\n",
              "      <th>4</th>\n",
              "      <td>soybean_oil</td>\n",
              "      <td>1.300080e+06</td>\n",
              "      <td>791580911</td>\n",
              "      <td>1998</td>\n",
              "    </tr>\n",
              "    <tr>\n",
              "      <th>...</th>\n",
              "      <td>...</td>\n",
              "      <td>...</td>\n",
              "      <td>...</td>\n",
              "      <td>...</td>\n",
              "    </tr>\n",
              "    <tr>\n",
              "      <th>64</th>\n",
              "      <td>soybean_oil</td>\n",
              "      <td>1.414356e+06</td>\n",
              "      <td>1025231907</td>\n",
              "      <td>2018</td>\n",
              "    </tr>\n",
              "    <tr>\n",
              "      <th>65</th>\n",
              "      <td>soybeans</td>\n",
              "      <td>8.214744e+07</td>\n",
              "      <td>32619856907</td>\n",
              "      <td>2018</td>\n",
              "    </tr>\n",
              "    <tr>\n",
              "      <th>66</th>\n",
              "      <td>soybean_meal</td>\n",
              "      <td>1.653038e+07</td>\n",
              "      <td>5796673823</td>\n",
              "      <td>2019</td>\n",
              "    </tr>\n",
              "    <tr>\n",
              "      <th>67</th>\n",
              "      <td>soybean_oil</td>\n",
              "      <td>1.031290e+06</td>\n",
              "      <td>688279611</td>\n",
              "      <td>2019</td>\n",
              "    </tr>\n",
              "    <tr>\n",
              "      <th>68</th>\n",
              "      <td>soybeans</td>\n",
              "      <td>7.030014e+07</td>\n",
              "      <td>24738766153</td>\n",
              "      <td>2019</td>\n",
              "    </tr>\n",
              "  </tbody>\n",
              "</table>\n",
              "<p>69 rows × 4 columns</p>\n",
              "</div>"
            ],
            "text/plain": [
              "         product    total_tons    total_usd  year\n",
              "0   soybean_meal  9.965945e+06   2668177472  1997\n",
              "1    soybean_oil  1.117451e+06    592322413  1997\n",
              "2       soybeans  8.195025e+06   2407409169  1997\n",
              "3   soybean_meal  9.947875e+06   1671167311  1998\n",
              "4    soybean_oil  1.300080e+06    791580911  1998\n",
              "..           ...           ...          ...   ...\n",
              "64   soybean_oil  1.414356e+06   1025231907  2018\n",
              "65      soybeans  8.214744e+07  32619856907  2018\n",
              "66  soybean_meal  1.653038e+07   5796673823  2019\n",
              "67   soybean_oil  1.031290e+06    688279611  2019\n",
              "68      soybeans  7.030014e+07  24738766153  2019\n",
              "\n",
              "[69 rows x 4 columns]"
            ]
          },
          "metadata": {
            "tags": []
          },
          "execution_count": 5
        }
      ]
    },
    {
      "cell_type": "code",
      "metadata": {
        "id": "UiOyD_pnUEmQ"
      },
      "source": [
        "\r\n",
        "def data_conditioning(df):\r\n",
        "  tons=[round(x/1000000,2) for x in df['total_tons']]\r\n",
        "  total_usd=[round(x/1000000,2) for x in df['total_usd']]\r\n",
        "  df['total_tons']=tons\r\n",
        "  df['total_usd']=total_usd\r\n",
        "  return df"
      ],
      "execution_count": 6,
      "outputs": []
    },
    {
      "cell_type": "code",
      "metadata": {
        "colab": {
          "base_uri": "https://localhost:8080/"
        },
        "id": "yTUKuh1aU_7W",
        "outputId": "fdbbde6e-b161-4a16-ce87-fef2ce480077"
      },
      "source": [
        "soybeans=data_conditioning(soybeans)\r\n",
        "soybean_meal=data_conditioning(soybean_meal)\r\n",
        "soybean_oil=data_conditioning(soybean_oil)"
      ],
      "execution_count": 7,
      "outputs": [
        {
          "output_type": "stream",
          "text": [
            "/usr/local/lib/python3.6/dist-packages/ipykernel_launcher.py:5: SettingWithCopyWarning:\n",
            "\n",
            "\n",
            "A value is trying to be set on a copy of a slice from a DataFrame.\n",
            "Try using .loc[row_indexer,col_indexer] = value instead\n",
            "\n",
            "See the caveats in the documentation: https://pandas.pydata.org/pandas-docs/stable/user_guide/indexing.html#returning-a-view-versus-a-copy\n",
            "\n",
            "/usr/local/lib/python3.6/dist-packages/ipykernel_launcher.py:6: SettingWithCopyWarning:\n",
            "\n",
            "\n",
            "A value is trying to be set on a copy of a slice from a DataFrame.\n",
            "Try using .loc[row_indexer,col_indexer] = value instead\n",
            "\n",
            "See the caveats in the documentation: https://pandas.pydata.org/pandas-docs/stable/user_guide/indexing.html#returning-a-view-versus-a-copy\n",
            "\n"
          ],
          "name": "stderr"
        }
      ]
    },
    {
      "cell_type": "code",
      "metadata": {
        "colab": {
          "base_uri": "https://localhost:8080/",
          "height": 542
        },
        "id": "UXsV9AADVl5F",
        "outputId": "2660c495-0ab2-46cc-a84b-6b0188cca3ce"
      },
      "source": [
        "fig=go.Figure()\r\n",
        "fig.add_trace(go.Bar(x=soybeans.year,y=soybeans.total_tons,name='soybeans'))\r\n",
        "fig.add_trace(go.Bar(x=soybean_meal.year,y=soybean_meal.total_tons,name='soybean meal'))\r\n",
        "fig.add_trace(go.Bar(x=soybean_oil.year,y=soybean_oil.total_tons,name='soybean oil'))\r\n",
        "fig.update_layout(title_text=\"Brazil's soybean related products exports (millon of tons)\",\r\n",
        "                  xaxis = dict(\r\n",
        "                  title = 'YEAR',\r\n",
        "                  showgrid = True,\r\n",
        "                  zeroline = True,\r\n",
        "                  showline = True,\r\n",
        "                  showticklabels = True,\r\n",
        "                  type='category'\r\n",
        "                   ),\r\n",
        "                  yaxis=dict(\r\n",
        "                  title=\"Millons of tons\"    \r\n",
        "                  ),yaxis_type=\"log\")\r\n",
        "\r\n",
        "fig.show()"
      ],
      "execution_count": 8,
      "outputs": [
        {
          "output_type": "display_data",
          "data": {
            "text/html": [
              "<html>\n",
              "<head><meta charset=\"utf-8\" /></head>\n",
              "<body>\n",
              "    <div>\n",
              "            <script src=\"https://cdnjs.cloudflare.com/ajax/libs/mathjax/2.7.5/MathJax.js?config=TeX-AMS-MML_SVG\"></script><script type=\"text/javascript\">if (window.MathJax) {MathJax.Hub.Config({SVG: {font: \"STIX-Web\"}});}</script>\n",
              "                <script type=\"text/javascript\">window.PlotlyConfig = {MathJaxConfig: 'local'};</script>\n",
              "        <script src=\"https://cdn.plot.ly/plotly-latest.min.js\"></script>    \n",
              "            <div id=\"3d63e51c-0b0e-479f-aa4f-e200d05f0371\" class=\"plotly-graph-div\" style=\"height:525px; width:100%;\"></div>\n",
              "            <script type=\"text/javascript\">\n",
              "                \n",
              "                    window.PLOTLYENV=window.PLOTLYENV || {};\n",
              "                    \n",
              "                if (document.getElementById(\"3d63e51c-0b0e-479f-aa4f-e200d05f0371\")) {\n",
              "                    Plotly.newPlot(\n",
              "                        '3d63e51c-0b0e-479f-aa4f-e200d05f0371',\n",
              "                        [{\"name\": \"soybeans\", \"type\": \"bar\", \"x\": [1997, 1998, 1999, 2000, 2001, 2002, 2003, 2004, 2005, 2006, 2007, 2008, 2009, 2010, 2011, 2012, 2013, 2014, 2015, 2016, 2017, 2018, 2019], \"y\": [8.2, 8.68, 8.1, 10.73, 14.49, 14.81, 18.39, 17.19, 22.06, 24.87, 23.66, 24.5, 28.56, 29.05, 32.98, 32.89, 42.8, 45.69, 54.3, 51.57, 68.01, 82.15, 70.3]}, {\"name\": \"soybean meal\", \"type\": \"bar\", \"x\": [1997, 1998, 1999, 2000, 2001, 2002, 2003, 2004, 2005, 2006, 2007, 2008, 2009, 2010, 2011, 2012, 2013, 2014, 2015, 2016, 2017, 2018, 2019], \"y\": [9.97, 9.95, 10.05, 9.06, 10.58, 11.87, 13.01, 13.71, 14.33, 12.31, 12.47, 12.28, 12.25, 13.67, 14.33, 14.29, 13.33, 13.72, 14.83, 14.44, 14.18, 16.67, 16.53]}, {\"name\": \"soybean oil\", \"type\": \"bar\", \"x\": [1997, 1998, 1999, 2000, 2001, 2002, 2003, 2004, 2005, 2006, 2007, 2008, 2009, 2010, 2011, 2012, 2013, 2014, 2015, 2016, 2017, 2018, 2019], \"y\": [1.12, 1.3, 1.5, 1.06, 1.54, 1.85, 2.38, 2.5, 2.67, 2.41, 2.34, 2.31, 1.59, 1.56, 1.74, 1.75, 1.36, 1.3, 1.67, 1.25, 1.34, 1.41, 1.03]}],\n",
              "                        {\"template\": {\"data\": {\"bar\": [{\"error_x\": {\"color\": \"#2a3f5f\"}, \"error_y\": {\"color\": \"#2a3f5f\"}, \"marker\": {\"line\": {\"color\": \"#E5ECF6\", \"width\": 0.5}}, \"type\": \"bar\"}], \"barpolar\": [{\"marker\": {\"line\": {\"color\": \"#E5ECF6\", \"width\": 0.5}}, \"type\": \"barpolar\"}], \"carpet\": [{\"aaxis\": {\"endlinecolor\": \"#2a3f5f\", \"gridcolor\": \"white\", \"linecolor\": \"white\", \"minorgridcolor\": \"white\", \"startlinecolor\": \"#2a3f5f\"}, \"baxis\": {\"endlinecolor\": \"#2a3f5f\", \"gridcolor\": \"white\", \"linecolor\": \"white\", \"minorgridcolor\": \"white\", \"startlinecolor\": \"#2a3f5f\"}, \"type\": \"carpet\"}], \"choropleth\": [{\"colorbar\": {\"outlinewidth\": 0, \"ticks\": \"\"}, \"type\": \"choropleth\"}], \"contour\": [{\"colorbar\": {\"outlinewidth\": 0, \"ticks\": \"\"}, \"colorscale\": [[0.0, \"#0d0887\"], [0.1111111111111111, \"#46039f\"], [0.2222222222222222, \"#7201a8\"], [0.3333333333333333, \"#9c179e\"], [0.4444444444444444, \"#bd3786\"], [0.5555555555555556, \"#d8576b\"], [0.6666666666666666, \"#ed7953\"], [0.7777777777777778, \"#fb9f3a\"], [0.8888888888888888, \"#fdca26\"], [1.0, \"#f0f921\"]], \"type\": \"contour\"}], \"contourcarpet\": [{\"colorbar\": {\"outlinewidth\": 0, \"ticks\": \"\"}, \"type\": \"contourcarpet\"}], \"heatmap\": [{\"colorbar\": {\"outlinewidth\": 0, \"ticks\": \"\"}, \"colorscale\": [[0.0, \"#0d0887\"], [0.1111111111111111, \"#46039f\"], [0.2222222222222222, \"#7201a8\"], [0.3333333333333333, \"#9c179e\"], [0.4444444444444444, \"#bd3786\"], [0.5555555555555556, \"#d8576b\"], [0.6666666666666666, \"#ed7953\"], [0.7777777777777778, \"#fb9f3a\"], [0.8888888888888888, \"#fdca26\"], [1.0, \"#f0f921\"]], \"type\": \"heatmap\"}], \"heatmapgl\": [{\"colorbar\": {\"outlinewidth\": 0, \"ticks\": \"\"}, \"colorscale\": [[0.0, \"#0d0887\"], [0.1111111111111111, \"#46039f\"], [0.2222222222222222, \"#7201a8\"], [0.3333333333333333, \"#9c179e\"], [0.4444444444444444, \"#bd3786\"], [0.5555555555555556, \"#d8576b\"], [0.6666666666666666, \"#ed7953\"], [0.7777777777777778, \"#fb9f3a\"], [0.8888888888888888, \"#fdca26\"], [1.0, \"#f0f921\"]], \"type\": \"heatmapgl\"}], \"histogram\": [{\"marker\": {\"colorbar\": {\"outlinewidth\": 0, \"ticks\": \"\"}}, \"type\": \"histogram\"}], \"histogram2d\": [{\"colorbar\": {\"outlinewidth\": 0, \"ticks\": \"\"}, \"colorscale\": [[0.0, \"#0d0887\"], [0.1111111111111111, \"#46039f\"], [0.2222222222222222, \"#7201a8\"], [0.3333333333333333, \"#9c179e\"], [0.4444444444444444, \"#bd3786\"], [0.5555555555555556, \"#d8576b\"], [0.6666666666666666, \"#ed7953\"], [0.7777777777777778, \"#fb9f3a\"], [0.8888888888888888, \"#fdca26\"], [1.0, \"#f0f921\"]], \"type\": \"histogram2d\"}], \"histogram2dcontour\": [{\"colorbar\": {\"outlinewidth\": 0, \"ticks\": \"\"}, \"colorscale\": [[0.0, \"#0d0887\"], [0.1111111111111111, \"#46039f\"], [0.2222222222222222, \"#7201a8\"], [0.3333333333333333, \"#9c179e\"], [0.4444444444444444, \"#bd3786\"], [0.5555555555555556, \"#d8576b\"], [0.6666666666666666, \"#ed7953\"], [0.7777777777777778, \"#fb9f3a\"], [0.8888888888888888, \"#fdca26\"], [1.0, \"#f0f921\"]], \"type\": \"histogram2dcontour\"}], \"mesh3d\": [{\"colorbar\": {\"outlinewidth\": 0, \"ticks\": \"\"}, \"type\": \"mesh3d\"}], \"parcoords\": [{\"line\": {\"colorbar\": {\"outlinewidth\": 0, \"ticks\": \"\"}}, \"type\": \"parcoords\"}], \"pie\": [{\"automargin\": true, \"type\": \"pie\"}], \"scatter\": [{\"marker\": {\"colorbar\": {\"outlinewidth\": 0, \"ticks\": \"\"}}, \"type\": \"scatter\"}], \"scatter3d\": [{\"line\": {\"colorbar\": {\"outlinewidth\": 0, \"ticks\": \"\"}}, \"marker\": {\"colorbar\": {\"outlinewidth\": 0, \"ticks\": \"\"}}, \"type\": \"scatter3d\"}], \"scattercarpet\": [{\"marker\": {\"colorbar\": {\"outlinewidth\": 0, \"ticks\": \"\"}}, \"type\": \"scattercarpet\"}], \"scattergeo\": [{\"marker\": {\"colorbar\": {\"outlinewidth\": 0, \"ticks\": \"\"}}, \"type\": \"scattergeo\"}], \"scattergl\": [{\"marker\": {\"colorbar\": {\"outlinewidth\": 0, \"ticks\": \"\"}}, \"type\": \"scattergl\"}], \"scattermapbox\": [{\"marker\": {\"colorbar\": {\"outlinewidth\": 0, \"ticks\": \"\"}}, \"type\": \"scattermapbox\"}], \"scatterpolar\": [{\"marker\": {\"colorbar\": {\"outlinewidth\": 0, \"ticks\": \"\"}}, \"type\": \"scatterpolar\"}], \"scatterpolargl\": [{\"marker\": {\"colorbar\": {\"outlinewidth\": 0, \"ticks\": \"\"}}, \"type\": \"scatterpolargl\"}], \"scatterternary\": [{\"marker\": {\"colorbar\": {\"outlinewidth\": 0, \"ticks\": \"\"}}, \"type\": \"scatterternary\"}], \"surface\": [{\"colorbar\": {\"outlinewidth\": 0, \"ticks\": \"\"}, \"colorscale\": [[0.0, \"#0d0887\"], [0.1111111111111111, \"#46039f\"], [0.2222222222222222, \"#7201a8\"], [0.3333333333333333, \"#9c179e\"], [0.4444444444444444, \"#bd3786\"], [0.5555555555555556, \"#d8576b\"], [0.6666666666666666, \"#ed7953\"], [0.7777777777777778, \"#fb9f3a\"], [0.8888888888888888, \"#fdca26\"], [1.0, \"#f0f921\"]], \"type\": \"surface\"}], \"table\": [{\"cells\": {\"fill\": {\"color\": \"#EBF0F8\"}, \"line\": {\"color\": \"white\"}}, \"header\": {\"fill\": {\"color\": \"#C8D4E3\"}, \"line\": {\"color\": \"white\"}}, \"type\": \"table\"}]}, \"layout\": {\"annotationdefaults\": {\"arrowcolor\": \"#2a3f5f\", \"arrowhead\": 0, \"arrowwidth\": 1}, \"coloraxis\": {\"colorbar\": {\"outlinewidth\": 0, \"ticks\": \"\"}}, \"colorscale\": {\"diverging\": [[0, \"#8e0152\"], [0.1, \"#c51b7d\"], [0.2, \"#de77ae\"], [0.3, \"#f1b6da\"], [0.4, \"#fde0ef\"], [0.5, \"#f7f7f7\"], [0.6, \"#e6f5d0\"], [0.7, \"#b8e186\"], [0.8, \"#7fbc41\"], [0.9, \"#4d9221\"], [1, \"#276419\"]], \"sequential\": [[0.0, \"#0d0887\"], [0.1111111111111111, \"#46039f\"], [0.2222222222222222, \"#7201a8\"], [0.3333333333333333, \"#9c179e\"], [0.4444444444444444, \"#bd3786\"], [0.5555555555555556, \"#d8576b\"], [0.6666666666666666, \"#ed7953\"], [0.7777777777777778, \"#fb9f3a\"], [0.8888888888888888, \"#fdca26\"], [1.0, \"#f0f921\"]], \"sequentialminus\": [[0.0, \"#0d0887\"], [0.1111111111111111, \"#46039f\"], [0.2222222222222222, \"#7201a8\"], [0.3333333333333333, \"#9c179e\"], [0.4444444444444444, \"#bd3786\"], [0.5555555555555556, \"#d8576b\"], [0.6666666666666666, \"#ed7953\"], [0.7777777777777778, \"#fb9f3a\"], [0.8888888888888888, \"#fdca26\"], [1.0, \"#f0f921\"]]}, \"colorway\": [\"#636efa\", \"#EF553B\", \"#00cc96\", \"#ab63fa\", \"#FFA15A\", \"#19d3f3\", \"#FF6692\", \"#B6E880\", \"#FF97FF\", \"#FECB52\"], \"font\": {\"color\": \"#2a3f5f\"}, \"geo\": {\"bgcolor\": \"white\", \"lakecolor\": \"white\", \"landcolor\": \"#E5ECF6\", \"showlakes\": true, \"showland\": true, \"subunitcolor\": \"white\"}, \"hoverlabel\": {\"align\": \"left\"}, \"hovermode\": \"closest\", \"mapbox\": {\"style\": \"light\"}, \"paper_bgcolor\": \"white\", \"plot_bgcolor\": \"#E5ECF6\", \"polar\": {\"angularaxis\": {\"gridcolor\": \"white\", \"linecolor\": \"white\", \"ticks\": \"\"}, \"bgcolor\": \"#E5ECF6\", \"radialaxis\": {\"gridcolor\": \"white\", \"linecolor\": \"white\", \"ticks\": \"\"}}, \"scene\": {\"xaxis\": {\"backgroundcolor\": \"#E5ECF6\", \"gridcolor\": \"white\", \"gridwidth\": 2, \"linecolor\": \"white\", \"showbackground\": true, \"ticks\": \"\", \"zerolinecolor\": \"white\"}, \"yaxis\": {\"backgroundcolor\": \"#E5ECF6\", \"gridcolor\": \"white\", \"gridwidth\": 2, \"linecolor\": \"white\", \"showbackground\": true, \"ticks\": \"\", \"zerolinecolor\": \"white\"}, \"zaxis\": {\"backgroundcolor\": \"#E5ECF6\", \"gridcolor\": \"white\", \"gridwidth\": 2, \"linecolor\": \"white\", \"showbackground\": true, \"ticks\": \"\", \"zerolinecolor\": \"white\"}}, \"shapedefaults\": {\"line\": {\"color\": \"#2a3f5f\"}}, \"ternary\": {\"aaxis\": {\"gridcolor\": \"white\", \"linecolor\": \"white\", \"ticks\": \"\"}, \"baxis\": {\"gridcolor\": \"white\", \"linecolor\": \"white\", \"ticks\": \"\"}, \"bgcolor\": \"#E5ECF6\", \"caxis\": {\"gridcolor\": \"white\", \"linecolor\": \"white\", \"ticks\": \"\"}}, \"title\": {\"x\": 0.05}, \"xaxis\": {\"automargin\": true, \"gridcolor\": \"white\", \"linecolor\": \"white\", \"ticks\": \"\", \"title\": {\"standoff\": 15}, \"zerolinecolor\": \"white\", \"zerolinewidth\": 2}, \"yaxis\": {\"automargin\": true, \"gridcolor\": \"white\", \"linecolor\": \"white\", \"ticks\": \"\", \"title\": {\"standoff\": 15}, \"zerolinecolor\": \"white\", \"zerolinewidth\": 2}}}, \"title\": {\"text\": \"Brazil's soybean related products exports (millon of tons)\"}, \"xaxis\": {\"showgrid\": true, \"showline\": true, \"showticklabels\": true, \"title\": {\"text\": \"YEAR\"}, \"type\": \"category\", \"zeroline\": true}, \"yaxis\": {\"title\": {\"text\": \"Millons of tons\"}, \"type\": \"log\"}},\n",
              "                        {\"responsive\": true}\n",
              "                    ).then(function(){\n",
              "                            \n",
              "var gd = document.getElementById('3d63e51c-0b0e-479f-aa4f-e200d05f0371');\n",
              "var x = new MutationObserver(function (mutations, observer) {{\n",
              "        var display = window.getComputedStyle(gd).display;\n",
              "        if (!display || display === 'none') {{\n",
              "            console.log([gd, 'removed!']);\n",
              "            Plotly.purge(gd);\n",
              "            observer.disconnect();\n",
              "        }}\n",
              "}});\n",
              "\n",
              "// Listen for the removal of the full notebook cells\n",
              "var notebookContainer = gd.closest('#notebook-container');\n",
              "if (notebookContainer) {{\n",
              "    x.observe(notebookContainer, {childList: true});\n",
              "}}\n",
              "\n",
              "// Listen for the clearing of the current output cell\n",
              "var outputEl = gd.closest('.output');\n",
              "if (outputEl) {{\n",
              "    x.observe(outputEl, {childList: true});\n",
              "}}\n",
              "\n",
              "                        })\n",
              "                };\n",
              "                \n",
              "            </script>\n",
              "        </div>\n",
              "</body>\n",
              "</html>"
            ]
          },
          "metadata": {
            "tags": []
          }
        }
      ]
    },
    {
      "cell_type": "code",
      "metadata": {
        "colab": {
          "base_uri": "https://localhost:8080/",
          "height": 542
        },
        "id": "UQygBsjFWuUN",
        "outputId": "af745474-cb32-486e-ccf5-6da68e99613d"
      },
      "source": [
        "fig=go.Figure()\r\n",
        "fig.add_trace(go.Bar(x=soybeans.year,y=soybeans.total_usd,name='soybeans'))\r\n",
        "fig.add_trace(go.Bar(x=soybean_meal.year,y=soybean_meal.total_usd,name='soybean meal'))\r\n",
        "fig.add_trace(go.Bar(x=soybean_oil.year,y=soybean_oil.total_usd,name='soybean oil'))\r\n",
        "fig.update_layout(title_text=\"Brazil's income of soybean related products exports (millons of USD)\",\r\n",
        "                  xaxis = dict(\r\n",
        "                  title = 'YEAR',\r\n",
        "                  showgrid = True,\r\n",
        "                  zeroline = True,\r\n",
        "                  showline = True,\r\n",
        "                  showticklabels = True,\r\n",
        "                  type='category'\r\n",
        "                  ) ,\r\n",
        "                  yaxis=dict(\r\n",
        "                  title=\"USD Millons\"    \r\n",
        "                  ),yaxis_type=\"log\")\r\n",
        "\r\n",
        "fig.show()"
      ],
      "execution_count": 9,
      "outputs": [
        {
          "output_type": "display_data",
          "data": {
            "text/html": [
              "<html>\n",
              "<head><meta charset=\"utf-8\" /></head>\n",
              "<body>\n",
              "    <div>\n",
              "            <script src=\"https://cdnjs.cloudflare.com/ajax/libs/mathjax/2.7.5/MathJax.js?config=TeX-AMS-MML_SVG\"></script><script type=\"text/javascript\">if (window.MathJax) {MathJax.Hub.Config({SVG: {font: \"STIX-Web\"}});}</script>\n",
              "                <script type=\"text/javascript\">window.PlotlyConfig = {MathJaxConfig: 'local'};</script>\n",
              "        <script src=\"https://cdn.plot.ly/plotly-latest.min.js\"></script>    \n",
              "            <div id=\"ce105167-ecfb-462d-a6f6-21cede43aebf\" class=\"plotly-graph-div\" style=\"height:525px; width:100%;\"></div>\n",
              "            <script type=\"text/javascript\">\n",
              "                \n",
              "                    window.PLOTLYENV=window.PLOTLYENV || {};\n",
              "                    \n",
              "                if (document.getElementById(\"ce105167-ecfb-462d-a6f6-21cede43aebf\")) {\n",
              "                    Plotly.newPlot(\n",
              "                        'ce105167-ecfb-462d-a6f6-21cede43aebf',\n",
              "                        [{\"name\": \"soybeans\", \"type\": \"bar\", \"x\": [1997, 1998, 1999, 2000, 2001, 2002, 2003, 2004, 2005, 2006, 2007, 2008, 2009, 2010, 2011, 2012, 2013, 2014, 2015, 2016, 2017, 2018, 2019], \"y\": [2407.41, 2036.07, 1446.49, 2037.5, 2520.46, 2816.43, 3962.95, 4837.42, 5260.36, 5643.32, 6683.42, 10952.12, 11423.3, 11035.66, 16321.95, 17442.05, 22811.51, 23275.04, 20975.67, 19328.43, 25662.8, 32619.86, 24738.77]}, {\"name\": \"soybean meal\", \"type\": \"bar\", \"x\": [1997, 1998, 1999, 2000, 2001, 2002, 2003, 2004, 2005, 2006, 2007, 2008, 2009, 2010, 2011, 2012, 2013, 2014, 2015, 2016, 2017, 2018, 2019], \"y\": [2668.18, 1671.17, 1449.39, 1593.46, 1938.41, 2086.11, 2489.09, 3089.58, 2847.85, 2415.72, 2957.02, 4361.02, 4591.4, 4718.53, 5689.41, 6595.46, 6787.27, 7000.58, 5821.01, 5192.78, 4973.22, 6624.04, 5796.67]}, {\"name\": \"soybean oil\", \"type\": \"bar\", \"x\": [1997, 1998, 1999, 2000, 2001, 2002, 2003, 2004, 2005, 2006, 2007, 2008, 2009, 2010, 2011, 2012, 2013, 2014, 2015, 2016, 2017, 2018, 2019], \"y\": [592.32, 791.58, 666.13, 355.43, 470.33, 741.12, 1179.85, 1372.67, 1252.78, 1222.66, 1718.75, 2669.13, 1227.76, 1347.65, 2121.98, 2066.57, 1362.68, 1128.08, 1153.97, 897.52, 1030.94, 1025.23, 688.28]}],\n",
              "                        {\"template\": {\"data\": {\"bar\": [{\"error_x\": {\"color\": \"#2a3f5f\"}, \"error_y\": {\"color\": \"#2a3f5f\"}, \"marker\": {\"line\": {\"color\": \"#E5ECF6\", \"width\": 0.5}}, \"type\": \"bar\"}], \"barpolar\": [{\"marker\": {\"line\": {\"color\": \"#E5ECF6\", \"width\": 0.5}}, \"type\": \"barpolar\"}], \"carpet\": [{\"aaxis\": {\"endlinecolor\": \"#2a3f5f\", \"gridcolor\": \"white\", \"linecolor\": \"white\", \"minorgridcolor\": \"white\", \"startlinecolor\": \"#2a3f5f\"}, \"baxis\": {\"endlinecolor\": \"#2a3f5f\", \"gridcolor\": \"white\", \"linecolor\": \"white\", \"minorgridcolor\": \"white\", \"startlinecolor\": \"#2a3f5f\"}, \"type\": \"carpet\"}], \"choropleth\": [{\"colorbar\": {\"outlinewidth\": 0, \"ticks\": \"\"}, \"type\": \"choropleth\"}], \"contour\": [{\"colorbar\": {\"outlinewidth\": 0, \"ticks\": \"\"}, \"colorscale\": [[0.0, \"#0d0887\"], [0.1111111111111111, \"#46039f\"], [0.2222222222222222, \"#7201a8\"], [0.3333333333333333, \"#9c179e\"], [0.4444444444444444, \"#bd3786\"], [0.5555555555555556, \"#d8576b\"], [0.6666666666666666, \"#ed7953\"], [0.7777777777777778, \"#fb9f3a\"], [0.8888888888888888, \"#fdca26\"], [1.0, \"#f0f921\"]], \"type\": \"contour\"}], \"contourcarpet\": [{\"colorbar\": {\"outlinewidth\": 0, \"ticks\": \"\"}, \"type\": \"contourcarpet\"}], \"heatmap\": [{\"colorbar\": {\"outlinewidth\": 0, \"ticks\": \"\"}, \"colorscale\": [[0.0, \"#0d0887\"], [0.1111111111111111, \"#46039f\"], [0.2222222222222222, \"#7201a8\"], [0.3333333333333333, \"#9c179e\"], [0.4444444444444444, \"#bd3786\"], [0.5555555555555556, \"#d8576b\"], [0.6666666666666666, \"#ed7953\"], [0.7777777777777778, \"#fb9f3a\"], [0.8888888888888888, \"#fdca26\"], [1.0, \"#f0f921\"]], \"type\": \"heatmap\"}], \"heatmapgl\": [{\"colorbar\": {\"outlinewidth\": 0, \"ticks\": \"\"}, \"colorscale\": [[0.0, \"#0d0887\"], [0.1111111111111111, \"#46039f\"], [0.2222222222222222, \"#7201a8\"], [0.3333333333333333, \"#9c179e\"], [0.4444444444444444, \"#bd3786\"], [0.5555555555555556, \"#d8576b\"], [0.6666666666666666, \"#ed7953\"], [0.7777777777777778, \"#fb9f3a\"], [0.8888888888888888, \"#fdca26\"], [1.0, \"#f0f921\"]], \"type\": \"heatmapgl\"}], \"histogram\": [{\"marker\": {\"colorbar\": {\"outlinewidth\": 0, \"ticks\": \"\"}}, \"type\": \"histogram\"}], \"histogram2d\": [{\"colorbar\": {\"outlinewidth\": 0, \"ticks\": \"\"}, \"colorscale\": [[0.0, \"#0d0887\"], [0.1111111111111111, \"#46039f\"], [0.2222222222222222, \"#7201a8\"], [0.3333333333333333, \"#9c179e\"], [0.4444444444444444, \"#bd3786\"], [0.5555555555555556, \"#d8576b\"], [0.6666666666666666, \"#ed7953\"], [0.7777777777777778, \"#fb9f3a\"], [0.8888888888888888, \"#fdca26\"], [1.0, \"#f0f921\"]], \"type\": \"histogram2d\"}], \"histogram2dcontour\": [{\"colorbar\": {\"outlinewidth\": 0, \"ticks\": \"\"}, \"colorscale\": [[0.0, \"#0d0887\"], [0.1111111111111111, \"#46039f\"], [0.2222222222222222, \"#7201a8\"], [0.3333333333333333, \"#9c179e\"], [0.4444444444444444, \"#bd3786\"], [0.5555555555555556, \"#d8576b\"], [0.6666666666666666, \"#ed7953\"], [0.7777777777777778, \"#fb9f3a\"], [0.8888888888888888, \"#fdca26\"], [1.0, \"#f0f921\"]], \"type\": \"histogram2dcontour\"}], \"mesh3d\": [{\"colorbar\": {\"outlinewidth\": 0, \"ticks\": \"\"}, \"type\": \"mesh3d\"}], \"parcoords\": [{\"line\": {\"colorbar\": {\"outlinewidth\": 0, \"ticks\": \"\"}}, \"type\": \"parcoords\"}], \"pie\": [{\"automargin\": true, \"type\": \"pie\"}], \"scatter\": [{\"marker\": {\"colorbar\": {\"outlinewidth\": 0, \"ticks\": \"\"}}, \"type\": \"scatter\"}], \"scatter3d\": [{\"line\": {\"colorbar\": {\"outlinewidth\": 0, \"ticks\": \"\"}}, \"marker\": {\"colorbar\": {\"outlinewidth\": 0, \"ticks\": \"\"}}, \"type\": \"scatter3d\"}], \"scattercarpet\": [{\"marker\": {\"colorbar\": {\"outlinewidth\": 0, \"ticks\": \"\"}}, \"type\": \"scattercarpet\"}], \"scattergeo\": [{\"marker\": {\"colorbar\": {\"outlinewidth\": 0, \"ticks\": \"\"}}, \"type\": \"scattergeo\"}], \"scattergl\": [{\"marker\": {\"colorbar\": {\"outlinewidth\": 0, \"ticks\": \"\"}}, \"type\": \"scattergl\"}], \"scattermapbox\": [{\"marker\": {\"colorbar\": {\"outlinewidth\": 0, \"ticks\": \"\"}}, \"type\": \"scattermapbox\"}], \"scatterpolar\": [{\"marker\": {\"colorbar\": {\"outlinewidth\": 0, \"ticks\": \"\"}}, \"type\": \"scatterpolar\"}], \"scatterpolargl\": [{\"marker\": {\"colorbar\": {\"outlinewidth\": 0, \"ticks\": \"\"}}, \"type\": \"scatterpolargl\"}], \"scatterternary\": [{\"marker\": {\"colorbar\": {\"outlinewidth\": 0, \"ticks\": \"\"}}, \"type\": \"scatterternary\"}], \"surface\": [{\"colorbar\": {\"outlinewidth\": 0, \"ticks\": \"\"}, \"colorscale\": [[0.0, \"#0d0887\"], [0.1111111111111111, \"#46039f\"], [0.2222222222222222, \"#7201a8\"], [0.3333333333333333, \"#9c179e\"], [0.4444444444444444, \"#bd3786\"], [0.5555555555555556, \"#d8576b\"], [0.6666666666666666, \"#ed7953\"], [0.7777777777777778, \"#fb9f3a\"], [0.8888888888888888, \"#fdca26\"], [1.0, \"#f0f921\"]], \"type\": \"surface\"}], \"table\": [{\"cells\": {\"fill\": {\"color\": \"#EBF0F8\"}, \"line\": {\"color\": \"white\"}}, \"header\": {\"fill\": {\"color\": \"#C8D4E3\"}, \"line\": {\"color\": \"white\"}}, \"type\": \"table\"}]}, \"layout\": {\"annotationdefaults\": {\"arrowcolor\": \"#2a3f5f\", \"arrowhead\": 0, \"arrowwidth\": 1}, \"coloraxis\": {\"colorbar\": {\"outlinewidth\": 0, \"ticks\": \"\"}}, \"colorscale\": {\"diverging\": [[0, \"#8e0152\"], [0.1, \"#c51b7d\"], [0.2, \"#de77ae\"], [0.3, \"#f1b6da\"], [0.4, \"#fde0ef\"], [0.5, \"#f7f7f7\"], [0.6, \"#e6f5d0\"], [0.7, \"#b8e186\"], [0.8, \"#7fbc41\"], [0.9, \"#4d9221\"], [1, \"#276419\"]], \"sequential\": [[0.0, \"#0d0887\"], [0.1111111111111111, \"#46039f\"], [0.2222222222222222, \"#7201a8\"], [0.3333333333333333, \"#9c179e\"], [0.4444444444444444, \"#bd3786\"], [0.5555555555555556, \"#d8576b\"], [0.6666666666666666, \"#ed7953\"], [0.7777777777777778, \"#fb9f3a\"], [0.8888888888888888, \"#fdca26\"], [1.0, \"#f0f921\"]], \"sequentialminus\": [[0.0, \"#0d0887\"], [0.1111111111111111, \"#46039f\"], [0.2222222222222222, \"#7201a8\"], [0.3333333333333333, \"#9c179e\"], [0.4444444444444444, \"#bd3786\"], [0.5555555555555556, \"#d8576b\"], [0.6666666666666666, \"#ed7953\"], [0.7777777777777778, \"#fb9f3a\"], [0.8888888888888888, \"#fdca26\"], [1.0, \"#f0f921\"]]}, \"colorway\": [\"#636efa\", \"#EF553B\", \"#00cc96\", \"#ab63fa\", \"#FFA15A\", \"#19d3f3\", \"#FF6692\", \"#B6E880\", \"#FF97FF\", \"#FECB52\"], \"font\": {\"color\": \"#2a3f5f\"}, \"geo\": {\"bgcolor\": \"white\", \"lakecolor\": \"white\", \"landcolor\": \"#E5ECF6\", \"showlakes\": true, \"showland\": true, \"subunitcolor\": \"white\"}, \"hoverlabel\": {\"align\": \"left\"}, \"hovermode\": \"closest\", \"mapbox\": {\"style\": \"light\"}, \"paper_bgcolor\": \"white\", \"plot_bgcolor\": \"#E5ECF6\", \"polar\": {\"angularaxis\": {\"gridcolor\": \"white\", \"linecolor\": \"white\", \"ticks\": \"\"}, \"bgcolor\": \"#E5ECF6\", \"radialaxis\": {\"gridcolor\": \"white\", \"linecolor\": \"white\", \"ticks\": \"\"}}, \"scene\": {\"xaxis\": {\"backgroundcolor\": \"#E5ECF6\", \"gridcolor\": \"white\", \"gridwidth\": 2, \"linecolor\": \"white\", \"showbackground\": true, \"ticks\": \"\", \"zerolinecolor\": \"white\"}, \"yaxis\": {\"backgroundcolor\": \"#E5ECF6\", \"gridcolor\": \"white\", \"gridwidth\": 2, \"linecolor\": \"white\", \"showbackground\": true, \"ticks\": \"\", \"zerolinecolor\": \"white\"}, \"zaxis\": {\"backgroundcolor\": \"#E5ECF6\", \"gridcolor\": \"white\", \"gridwidth\": 2, \"linecolor\": \"white\", \"showbackground\": true, \"ticks\": \"\", \"zerolinecolor\": \"white\"}}, \"shapedefaults\": {\"line\": {\"color\": \"#2a3f5f\"}}, \"ternary\": {\"aaxis\": {\"gridcolor\": \"white\", \"linecolor\": \"white\", \"ticks\": \"\"}, \"baxis\": {\"gridcolor\": \"white\", \"linecolor\": \"white\", \"ticks\": \"\"}, \"bgcolor\": \"#E5ECF6\", \"caxis\": {\"gridcolor\": \"white\", \"linecolor\": \"white\", \"ticks\": \"\"}}, \"title\": {\"x\": 0.05}, \"xaxis\": {\"automargin\": true, \"gridcolor\": \"white\", \"linecolor\": \"white\", \"ticks\": \"\", \"title\": {\"standoff\": 15}, \"zerolinecolor\": \"white\", \"zerolinewidth\": 2}, \"yaxis\": {\"automargin\": true, \"gridcolor\": \"white\", \"linecolor\": \"white\", \"ticks\": \"\", \"title\": {\"standoff\": 15}, \"zerolinecolor\": \"white\", \"zerolinewidth\": 2}}}, \"title\": {\"text\": \"Brazil's income of soybean related products exports (millons of USD)\"}, \"xaxis\": {\"showgrid\": true, \"showline\": true, \"showticklabels\": true, \"title\": {\"text\": \"YEAR\"}, \"type\": \"category\", \"zeroline\": true}, \"yaxis\": {\"title\": {\"text\": \"USD Millons\"}, \"type\": \"log\"}},\n",
              "                        {\"responsive\": true}\n",
              "                    ).then(function(){\n",
              "                            \n",
              "var gd = document.getElementById('ce105167-ecfb-462d-a6f6-21cede43aebf');\n",
              "var x = new MutationObserver(function (mutations, observer) {{\n",
              "        var display = window.getComputedStyle(gd).display;\n",
              "        if (!display || display === 'none') {{\n",
              "            console.log([gd, 'removed!']);\n",
              "            Plotly.purge(gd);\n",
              "            observer.disconnect();\n",
              "        }}\n",
              "}});\n",
              "\n",
              "// Listen for the removal of the full notebook cells\n",
              "var notebookContainer = gd.closest('#notebook-container');\n",
              "if (notebookContainer) {{\n",
              "    x.observe(notebookContainer, {childList: true});\n",
              "}}\n",
              "\n",
              "// Listen for the clearing of the current output cell\n",
              "var outputEl = gd.closest('.output');\n",
              "if (outputEl) {{\n",
              "    x.observe(outputEl, {childList: true});\n",
              "}}\n",
              "\n",
              "                        })\n",
              "                };\n",
              "                \n",
              "            </script>\n",
              "        </div>\n",
              "</body>\n",
              "</html>"
            ]
          },
          "metadata": {
            "tags": []
          }
        }
      ]
    },
    {
      "cell_type": "markdown",
      "metadata": {
        "id": "8-IiWq_NmHLr"
      },
      "source": [
        "##Monthly exports##\r\n",
        "\r\n",
        "First, via sql (see sql.txt file), data were agrupped in order to get the necessary data and **monthly_exports.csv** was generated."
      ]
    },
    {
      "cell_type": "code",
      "metadata": {
        "colab": {
          "base_uri": "https://localhost:8080/",
          "height": 406
        },
        "id": "By6KhCrimKqU",
        "outputId": "d9b83008-5d40-4aca-b5cc-701636ea4a08"
      },
      "source": [
        "monthly_data=pd.read_csv(\"monthly_exports.csv\")\r\n",
        "monthly_data"
      ],
      "execution_count": 10,
      "outputs": [
        {
          "output_type": "execute_result",
          "data": {
            "text/html": [
              "<div>\n",
              "<style scoped>\n",
              "    .dataframe tbody tr th:only-of-type {\n",
              "        vertical-align: middle;\n",
              "    }\n",
              "\n",
              "    .dataframe tbody tr th {\n",
              "        vertical-align: top;\n",
              "    }\n",
              "\n",
              "    .dataframe thead th {\n",
              "        text-align: right;\n",
              "    }\n",
              "</style>\n",
              "<table border=\"1\" class=\"dataframe\">\n",
              "  <thead>\n",
              "    <tr style=\"text-align: right;\">\n",
              "      <th></th>\n",
              "      <th>date</th>\n",
              "      <th>product</th>\n",
              "      <th>type</th>\n",
              "      <th>total_tons</th>\n",
              "      <th>total_usd</th>\n",
              "    </tr>\n",
              "  </thead>\n",
              "  <tbody>\n",
              "    <tr>\n",
              "      <th>0</th>\n",
              "      <td>1997-01-01</td>\n",
              "      <td>soybean_meal</td>\n",
              "      <td>Export</td>\n",
              "      <td>486775.060</td>\n",
              "      <td>133239012</td>\n",
              "    </tr>\n",
              "    <tr>\n",
              "      <th>1</th>\n",
              "      <td>1997-01-01</td>\n",
              "      <td>soybean_oil</td>\n",
              "      <td>Export</td>\n",
              "      <td>66915.872</td>\n",
              "      <td>34717077</td>\n",
              "    </tr>\n",
              "    <tr>\n",
              "      <th>2</th>\n",
              "      <td>1997-01-01</td>\n",
              "      <td>soybeans</td>\n",
              "      <td>Export</td>\n",
              "      <td>14030.000</td>\n",
              "      <td>4118740</td>\n",
              "    </tr>\n",
              "    <tr>\n",
              "      <th>3</th>\n",
              "      <td>1997-02-01</td>\n",
              "      <td>soybean_meal</td>\n",
              "      <td>Export</td>\n",
              "      <td>176535.716</td>\n",
              "      <td>47590539</td>\n",
              "    </tr>\n",
              "    <tr>\n",
              "      <th>4</th>\n",
              "      <td>1997-02-01</td>\n",
              "      <td>soybean_oil</td>\n",
              "      <td>Export</td>\n",
              "      <td>34560.978</td>\n",
              "      <td>18351677</td>\n",
              "    </tr>\n",
              "    <tr>\n",
              "      <th>...</th>\n",
              "      <td>...</td>\n",
              "      <td>...</td>\n",
              "      <td>...</td>\n",
              "      <td>...</td>\n",
              "      <td>...</td>\n",
              "    </tr>\n",
              "    <tr>\n",
              "      <th>823</th>\n",
              "      <td>2019-11-01</td>\n",
              "      <td>soybean_oil</td>\n",
              "      <td>Export</td>\n",
              "      <td>21891.986</td>\n",
              "      <td>17694618</td>\n",
              "    </tr>\n",
              "    <tr>\n",
              "      <th>824</th>\n",
              "      <td>2019-11-01</td>\n",
              "      <td>soybeans</td>\n",
              "      <td>Export</td>\n",
              "      <td>4448635.317</td>\n",
              "      <td>1625916800</td>\n",
              "    </tr>\n",
              "    <tr>\n",
              "      <th>825</th>\n",
              "      <td>2019-12-01</td>\n",
              "      <td>soybean_meal</td>\n",
              "      <td>Export</td>\n",
              "      <td>1618020.166</td>\n",
              "      <td>543725029</td>\n",
              "    </tr>\n",
              "    <tr>\n",
              "      <th>826</th>\n",
              "      <td>2019-12-01</td>\n",
              "      <td>soybean_oil</td>\n",
              "      <td>Export</td>\n",
              "      <td>37520.537</td>\n",
              "      <td>29863391</td>\n",
              "    </tr>\n",
              "    <tr>\n",
              "      <th>827</th>\n",
              "      <td>2019-12-01</td>\n",
              "      <td>soybeans</td>\n",
              "      <td>Export</td>\n",
              "      <td>2906495.291</td>\n",
              "      <td>1061904048</td>\n",
              "    </tr>\n",
              "  </tbody>\n",
              "</table>\n",
              "<p>828 rows × 5 columns</p>\n",
              "</div>"
            ],
            "text/plain": [
              "           date       product    type   total_tons   total_usd\n",
              "0    1997-01-01  soybean_meal  Export   486775.060   133239012\n",
              "1    1997-01-01   soybean_oil  Export    66915.872    34717077\n",
              "2    1997-01-01      soybeans  Export    14030.000     4118740\n",
              "3    1997-02-01  soybean_meal  Export   176535.716    47590539\n",
              "4    1997-02-01   soybean_oil  Export    34560.978    18351677\n",
              "..          ...           ...     ...          ...         ...\n",
              "823  2019-11-01   soybean_oil  Export    21891.986    17694618\n",
              "824  2019-11-01      soybeans  Export  4448635.317  1625916800\n",
              "825  2019-12-01  soybean_meal  Export  1618020.166   543725029\n",
              "826  2019-12-01   soybean_oil  Export    37520.537    29863391\n",
              "827  2019-12-01      soybeans  Export  2906495.291  1061904048\n",
              "\n",
              "[828 rows x 5 columns]"
            ]
          },
          "metadata": {
            "tags": []
          },
          "execution_count": 10
        }
      ]
    },
    {
      "cell_type": "code",
      "metadata": {
        "colab": {
          "base_uri": "https://localhost:8080/"
        },
        "id": "qGPiIERD3bvN",
        "outputId": "7b9906b3-da3a-4199-8434-791f717528f7"
      },
      "source": [
        "soybeans_monthly=data_conditioning(monthly_data[monthly_data['product']=='soybeans'])\r\n",
        "soybean_meal_monthly=data_conditioning(monthly_data[monthly_data['product']=='soybean_meal'])\r\n",
        "soybean_oil_monthly=data_conditioning(monthly_data[monthly_data['product']=='soybean_oil'])\r\n"
      ],
      "execution_count": 11,
      "outputs": [
        {
          "output_type": "stream",
          "text": [
            "/usr/local/lib/python3.6/dist-packages/ipykernel_launcher.py:5: SettingWithCopyWarning:\n",
            "\n",
            "\n",
            "A value is trying to be set on a copy of a slice from a DataFrame.\n",
            "Try using .loc[row_indexer,col_indexer] = value instead\n",
            "\n",
            "See the caveats in the documentation: https://pandas.pydata.org/pandas-docs/stable/user_guide/indexing.html#returning-a-view-versus-a-copy\n",
            "\n",
            "/usr/local/lib/python3.6/dist-packages/ipykernel_launcher.py:6: SettingWithCopyWarning:\n",
            "\n",
            "\n",
            "A value is trying to be set on a copy of a slice from a DataFrame.\n",
            "Try using .loc[row_indexer,col_indexer] = value instead\n",
            "\n",
            "See the caveats in the documentation: https://pandas.pydata.org/pandas-docs/stable/user_guide/indexing.html#returning-a-view-versus-a-copy\n",
            "\n"
          ],
          "name": "stderr"
        }
      ]
    },
    {
      "cell_type": "code",
      "metadata": {
        "colab": {
          "base_uri": "https://localhost:8080/",
          "height": 542
        },
        "id": "85gzJ5Z85G5R",
        "outputId": "f1d9f247-6bdb-4b04-da57-ffbdcfa48c98"
      },
      "source": [
        "fig=go.Figure()\r\n",
        "fig.add_trace(go.Scatter(x=soybeans_monthly['date'],y=soybeans_monthly['total_tons'],mode='lines',name='soybeans'))\r\n",
        "fig.add_trace(go.Scatter(x=soybean_meal_monthly['date'],y=soybean_meal_monthly['total_tons'],mode='lines',name='soybean meal'))\r\n",
        "fig.add_trace(go.Scatter(x=soybean_oil_monthly['date'],y=soybean_oil_monthly['total_tons'],mode='lines',name='soybean oil'))\r\n",
        "fig.update_layout(title_text=\"Brazil's soybean related products exports (monthly millon of tons)\",\r\n",
        "                  xaxis = dict(\r\n",
        "                  title = 'date',\r\n",
        "                  showgrid = True,\r\n",
        "                  zeroline = True,\r\n",
        "                  showline = True,\r\n",
        "                  showticklabels = True,\r\n",
        "                  type='category'\r\n",
        "                  ) ,\r\n",
        "                  yaxis=dict(\r\n",
        "                  title=\"Millons of tons\"\r\n",
        "                     \r\n",
        "                  ),yaxis_type=\"log\")\r\n",
        "\r\n",
        "fig.show()   "
      ],
      "execution_count": 12,
      "outputs": [
        {
          "output_type": "display_data",
          "data": {
            "text/html": [
              "<html>\n",
              "<head><meta charset=\"utf-8\" /></head>\n",
              "<body>\n",
              "    <div>\n",
              "            <script src=\"https://cdnjs.cloudflare.com/ajax/libs/mathjax/2.7.5/MathJax.js?config=TeX-AMS-MML_SVG\"></script><script type=\"text/javascript\">if (window.MathJax) {MathJax.Hub.Config({SVG: {font: \"STIX-Web\"}});}</script>\n",
              "                <script type=\"text/javascript\">window.PlotlyConfig = {MathJaxConfig: 'local'};</script>\n",
              "        <script src=\"https://cdn.plot.ly/plotly-latest.min.js\"></script>    \n",
              "            <div id=\"91849332-b7c0-40ed-bc35-cadb2530543f\" class=\"plotly-graph-div\" style=\"height:525px; width:100%;\"></div>\n",
              "            <script type=\"text/javascript\">\n",
              "                \n",
              "                    window.PLOTLYENV=window.PLOTLYENV || {};\n",
              "                    \n",
              "                if (document.getElementById(\"91849332-b7c0-40ed-bc35-cadb2530543f\")) {\n",
              "                    Plotly.newPlot(\n",
              "                        '91849332-b7c0-40ed-bc35-cadb2530543f',\n",
              "                        [{\"mode\": \"lines\", \"name\": \"soybeans\", \"type\": \"scatter\", \"x\": [\"1997-01-01\", \"1997-02-01\", \"1997-03-01\", \"1997-04-01\", \"1997-05-01\", \"1997-06-01\", \"1997-07-01\", \"1997-08-01\", \"1997-09-01\", \"1997-10-01\", \"1997-11-01\", \"1997-12-01\", \"1998-01-01\", \"1998-02-01\", \"1998-03-01\", \"1998-04-01\", \"1998-05-01\", \"1998-06-01\", \"1998-07-01\", \"1998-08-01\", \"1998-09-01\", \"1998-10-01\", \"1998-11-01\", \"1998-12-01\", \"1999-01-01\", \"1999-02-01\", \"1999-03-01\", \"1999-04-01\", \"1999-05-01\", \"1999-06-01\", \"1999-07-01\", \"1999-08-01\", \"1999-09-01\", \"1999-10-01\", \"1999-11-01\", \"1999-12-01\", \"2000-01-01\", \"2000-02-01\", \"2000-03-01\", \"2000-04-01\", \"2000-05-01\", \"2000-06-01\", \"2000-07-01\", \"2000-08-01\", \"2000-09-01\", \"2000-10-01\", \"2000-11-01\", \"2000-12-01\", \"2001-01-01\", \"2001-02-01\", \"2001-03-01\", \"2001-04-01\", \"2001-05-01\", \"2001-06-01\", \"2001-07-01\", \"2001-08-01\", \"2001-09-01\", \"2001-10-01\", \"2001-11-01\", \"2001-12-01\", \"2002-01-01\", \"2002-02-01\", \"2002-03-01\", \"2002-04-01\", \"2002-05-01\", \"2002-06-01\", \"2002-07-01\", \"2002-08-01\", \"2002-09-01\", \"2002-10-01\", \"2002-11-01\", \"2002-12-01\", \"2003-01-01\", \"2003-02-01\", \"2003-03-01\", \"2003-04-01\", \"2003-05-01\", \"2003-06-01\", \"2003-07-01\", \"2003-08-01\", \"2003-09-01\", \"2003-10-01\", \"2003-11-01\", \"2003-12-01\", \"2004-01-01\", \"2004-02-01\", \"2004-03-01\", \"2004-04-01\", \"2004-05-01\", \"2004-06-01\", \"2004-07-01\", \"2004-08-01\", \"2004-09-01\", \"2004-10-01\", \"2004-11-01\", \"2004-12-01\", \"2005-01-01\", \"2005-02-01\", \"2005-03-01\", \"2005-04-01\", \"2005-05-01\", \"2005-06-01\", \"2005-07-01\", \"2005-08-01\", \"2005-09-01\", \"2005-10-01\", \"2005-11-01\", \"2005-12-01\", \"2006-01-01\", \"2006-02-01\", \"2006-03-01\", \"2006-04-01\", \"2006-05-01\", \"2006-06-01\", \"2006-07-01\", \"2006-08-01\", \"2006-09-01\", \"2006-10-01\", \"2006-11-01\", \"2006-12-01\", \"2007-01-01\", \"2007-02-01\", \"2007-03-01\", \"2007-04-01\", \"2007-05-01\", \"2007-06-01\", \"2007-07-01\", \"2007-08-01\", \"2007-09-01\", \"2007-10-01\", \"2007-11-01\", \"2007-12-01\", \"2008-01-01\", \"2008-02-01\", \"2008-03-01\", \"2008-04-01\", \"2008-05-01\", \"2008-06-01\", \"2008-07-01\", \"2008-08-01\", \"2008-09-01\", \"2008-10-01\", \"2008-11-01\", \"2008-12-01\", \"2009-01-01\", \"2009-02-01\", \"2009-03-01\", \"2009-04-01\", \"2009-05-01\", \"2009-06-01\", \"2009-07-01\", \"2009-08-01\", \"2009-09-01\", \"2009-10-01\", \"2009-11-01\", \"2009-12-01\", \"2010-01-01\", \"2010-02-01\", \"2010-03-01\", \"2010-04-01\", \"2010-05-01\", \"2010-06-01\", \"2010-07-01\", \"2010-08-01\", \"2010-09-01\", \"2010-10-01\", \"2010-11-01\", \"2010-12-01\", \"2011-01-01\", \"2011-02-01\", \"2011-03-01\", \"2011-04-01\", \"2011-05-01\", \"2011-06-01\", \"2011-07-01\", \"2011-08-01\", \"2011-09-01\", \"2011-10-01\", \"2011-11-01\", \"2011-12-01\", \"2012-01-01\", \"2012-02-01\", \"2012-03-01\", \"2012-04-01\", \"2012-05-01\", \"2012-06-01\", \"2012-07-01\", \"2012-08-01\", \"2012-09-01\", \"2012-10-01\", \"2012-11-01\", \"2012-12-01\", \"2013-01-01\", \"2013-02-01\", \"2013-03-01\", \"2013-04-01\", \"2013-05-01\", \"2013-06-01\", \"2013-07-01\", \"2013-08-01\", \"2013-09-01\", \"2013-10-01\", \"2013-11-01\", \"2013-12-01\", \"2014-01-01\", \"2014-02-01\", \"2014-03-01\", \"2014-04-01\", \"2014-05-01\", \"2014-06-01\", \"2014-07-01\", \"2014-08-01\", \"2014-09-01\", \"2014-10-01\", \"2014-11-01\", \"2014-12-01\", \"2015-01-01\", \"2015-02-01\", \"2015-03-01\", \"2015-04-01\", \"2015-05-01\", \"2015-06-01\", \"2015-07-01\", \"2015-08-01\", \"2015-09-01\", \"2015-10-01\", \"2015-11-01\", \"2015-12-01\", \"2016-01-01\", \"2016-02-01\", \"2016-03-01\", \"2016-04-01\", \"2016-05-01\", \"2016-06-01\", \"2016-07-01\", \"2016-08-01\", \"2016-09-01\", \"2016-10-01\", \"2016-11-01\", \"2016-12-01\", \"2017-01-01\", \"2017-02-01\", \"2017-03-01\", \"2017-04-01\", \"2017-05-01\", \"2017-06-01\", \"2017-07-01\", \"2017-08-01\", \"2017-09-01\", \"2017-10-01\", \"2017-11-01\", \"2017-12-01\", \"2018-01-01\", \"2018-02-01\", \"2018-03-01\", \"2018-04-01\", \"2018-05-01\", \"2018-06-01\", \"2018-07-01\", \"2018-08-01\", \"2018-09-01\", \"2018-10-01\", \"2018-11-01\", \"2018-12-01\", \"2019-01-01\", \"2019-02-01\", \"2019-03-01\", \"2019-04-01\", \"2019-05-01\", \"2019-06-01\", \"2019-07-01\", \"2019-08-01\", \"2019-09-01\", \"2019-10-01\", \"2019-11-01\", \"2019-12-01\"], \"y\": [0.01, 0.02, 0.55, 1.59, 1.64, 1.33, 1.63, 0.97, 0.34, 0.1, 0.0, 0.0, 0.0, 0.0, 0.39, 1.77, 1.76, 1.37, 1.07, 0.81, 0.9, 0.37, 0.17, 0.06, 0.04, 0.14, 0.48, 1.46, 1.65, 1.3, 1.07, 0.72, 0.64, 0.32, 0.19, 0.08, 0.03, 0.05, 0.49, 1.46, 1.6, 1.72, 1.74, 1.91, 0.76, 0.56, 0.33, 0.09, 0.24, 0.09, 0.75, 1.76, 2.32, 2.49, 1.9, 2.37, 1.38, 0.8, 0.17, 0.21, 0.13, 0.07, 0.59, 1.39, 1.13, 1.12, 2.56, 1.52, 3.75, 1.55, 0.47, 0.53, 0.25, 0.18, 1.16, 2.72, 3.05, 2.32, 1.73, 2.27, 1.94, 2.0, 0.49, 0.29, 0.34, 0.37, 1.24, 1.66, 2.25, 3.53, 2.16, 1.87, 2.12, 0.87, 0.44, 0.33, 0.28, 0.34, 1.75, 2.69, 2.3, 2.95, 2.69, 2.75, 2.2, 1.79, 1.36, 0.95, 0.72, 0.72, 2.65, 2.9, 3.17, 2.29, 4.38, 2.9, 1.99, 1.68, 1.0, 0.47, 0.53, 0.77, 2.05, 3.17, 3.15, 3.07, 3.09, 2.67, 1.82, 2.02, 0.79, 0.52, 0.6, 0.43, 1.4, 3.35, 4.44, 3.54, 3.98, 2.36, 1.86, 1.06, 0.72, 0.75, 0.61, 0.69, 2.64, 4.49, 4.68, 6.17, 3.35, 2.98, 1.83, 0.72, 0.19, 0.2, 0.09, 0.66, 3.09, 4.89, 5.7, 4.04, 4.0, 2.97, 2.01, 1.01, 0.3, 0.29, 0.21, 0.22, 2.73, 5.09, 5.31, 4.55, 3.74, 3.68, 2.8, 1.41, 1.76, 1.47, 1.01, 1.57, 4.24, 4.43, 7.27, 4.84, 4.12, 2.43, 1.68, 0.91, 0.26, 0.14, 0.0, 0.96, 3.54, 7.15, 7.95, 6.5, 5.66, 5.38, 3.47, 1.5, 0.65, 0.04, 0.03, 2.79, 6.23, 8.25, 7.61, 6.89, 6.04, 4.12, 2.67, 0.74, 0.18, 0.14, 0.09, 0.87, 5.59, 6.53, 9.34, 9.81, 8.44, 5.16, 3.71, 2.59, 1.44, 0.73, 0.39, 2.04, 8.37, 10.09, 9.91, 7.76, 5.79, 3.82, 1.44, 1.0, 0.32, 0.65, 0.91, 3.51, 8.95, 10.4, 10.9, 9.17, 6.95, 5.95, 4.27, 2.49, 2.14, 2.36, 1.56, 2.86, 8.81, 10.26, 12.33, 10.4, 10.2, 8.09, 4.42, 4.92, 4.53, 3.77, 1.96, 5.26, 8.24, 8.96, 9.56, 8.1, 7.11, 4.63, 4.41, 4.74, 4.45, 2.91]}, {\"mode\": \"lines\", \"name\": \"soybean meal\", \"type\": \"scatter\", \"x\": [\"1997-01-01\", \"1997-02-01\", \"1997-03-01\", \"1997-04-01\", \"1997-05-01\", \"1997-06-01\", \"1997-07-01\", \"1997-08-01\", \"1997-09-01\", \"1997-10-01\", \"1997-11-01\", \"1997-12-01\", \"1998-01-01\", \"1998-02-01\", \"1998-03-01\", \"1998-04-01\", \"1998-05-01\", \"1998-06-01\", \"1998-07-01\", \"1998-08-01\", \"1998-09-01\", \"1998-10-01\", \"1998-11-01\", \"1998-12-01\", \"1999-01-01\", \"1999-02-01\", \"1999-03-01\", \"1999-04-01\", \"1999-05-01\", \"1999-06-01\", \"1999-07-01\", \"1999-08-01\", \"1999-09-01\", \"1999-10-01\", \"1999-11-01\", \"1999-12-01\", \"2000-01-01\", \"2000-02-01\", \"2000-03-01\", \"2000-04-01\", \"2000-05-01\", \"2000-06-01\", \"2000-07-01\", \"2000-08-01\", \"2000-09-01\", \"2000-10-01\", \"2000-11-01\", \"2000-12-01\", \"2001-01-01\", \"2001-02-01\", \"2001-03-01\", \"2001-04-01\", \"2001-05-01\", \"2001-06-01\", \"2001-07-01\", \"2001-08-01\", \"2001-09-01\", \"2001-10-01\", \"2001-11-01\", \"2001-12-01\", \"2002-01-01\", \"2002-02-01\", \"2002-03-01\", \"2002-04-01\", \"2002-05-01\", \"2002-06-01\", \"2002-07-01\", \"2002-08-01\", \"2002-09-01\", \"2002-10-01\", \"2002-11-01\", \"2002-12-01\", \"2003-01-01\", \"2003-02-01\", \"2003-03-01\", \"2003-04-01\", \"2003-05-01\", \"2003-06-01\", \"2003-07-01\", \"2003-08-01\", \"2003-09-01\", \"2003-10-01\", \"2003-11-01\", \"2003-12-01\", \"2004-01-01\", \"2004-02-01\", \"2004-03-01\", \"2004-04-01\", \"2004-05-01\", \"2004-06-01\", \"2004-07-01\", \"2004-08-01\", \"2004-09-01\", \"2004-10-01\", \"2004-11-01\", \"2004-12-01\", \"2005-01-01\", \"2005-02-01\", \"2005-03-01\", \"2005-04-01\", \"2005-05-01\", \"2005-06-01\", \"2005-07-01\", \"2005-08-01\", \"2005-09-01\", \"2005-10-01\", \"2005-11-01\", \"2005-12-01\", \"2006-01-01\", \"2006-02-01\", \"2006-03-01\", \"2006-04-01\", \"2006-05-01\", \"2006-06-01\", \"2006-07-01\", \"2006-08-01\", \"2006-09-01\", \"2006-10-01\", \"2006-11-01\", \"2006-12-01\", \"2007-01-01\", \"2007-02-01\", \"2007-03-01\", \"2007-04-01\", \"2007-05-01\", \"2007-06-01\", \"2007-07-01\", \"2007-08-01\", \"2007-09-01\", \"2007-10-01\", \"2007-11-01\", \"2007-12-01\", \"2008-01-01\", \"2008-02-01\", \"2008-03-01\", \"2008-04-01\", \"2008-05-01\", \"2008-06-01\", \"2008-07-01\", \"2008-08-01\", \"2008-09-01\", \"2008-10-01\", \"2008-11-01\", \"2008-12-01\", \"2009-01-01\", \"2009-02-01\", \"2009-03-01\", \"2009-04-01\", \"2009-05-01\", \"2009-06-01\", \"2009-07-01\", \"2009-08-01\", \"2009-09-01\", \"2009-10-01\", \"2009-11-01\", \"2009-12-01\", \"2010-01-01\", \"2010-02-01\", \"2010-03-01\", \"2010-04-01\", \"2010-05-01\", \"2010-06-01\", \"2010-07-01\", \"2010-08-01\", \"2010-09-01\", \"2010-10-01\", \"2010-11-01\", \"2010-12-01\", \"2011-01-01\", \"2011-02-01\", \"2011-03-01\", \"2011-04-01\", \"2011-05-01\", \"2011-06-01\", \"2011-07-01\", \"2011-08-01\", \"2011-09-01\", \"2011-10-01\", \"2011-11-01\", \"2011-12-01\", \"2012-01-01\", \"2012-02-01\", \"2012-03-01\", \"2012-04-01\", \"2012-05-01\", \"2012-06-01\", \"2012-07-01\", \"2012-08-01\", \"2012-09-01\", \"2012-10-01\", \"2012-11-01\", \"2012-12-01\", \"2013-01-01\", \"2013-02-01\", \"2013-03-01\", \"2013-04-01\", \"2013-05-01\", \"2013-06-01\", \"2013-07-01\", \"2013-08-01\", \"2013-09-01\", \"2013-10-01\", \"2013-11-01\", \"2013-12-01\", \"2014-01-01\", \"2014-02-01\", \"2014-03-01\", \"2014-04-01\", \"2014-05-01\", \"2014-06-01\", \"2014-07-01\", \"2014-08-01\", \"2014-09-01\", \"2014-10-01\", \"2014-11-01\", \"2014-12-01\", \"2015-01-01\", \"2015-02-01\", \"2015-03-01\", \"2015-04-01\", \"2015-05-01\", \"2015-06-01\", \"2015-07-01\", \"2015-08-01\", \"2015-09-01\", \"2015-10-01\", \"2015-11-01\", \"2015-12-01\", \"2016-01-01\", \"2016-02-01\", \"2016-03-01\", \"2016-04-01\", \"2016-05-01\", \"2016-06-01\", \"2016-07-01\", \"2016-08-01\", \"2016-09-01\", \"2016-10-01\", \"2016-11-01\", \"2016-12-01\", \"2017-01-01\", \"2017-02-01\", \"2017-03-01\", \"2017-04-01\", \"2017-05-01\", \"2017-06-01\", \"2017-07-01\", \"2017-08-01\", \"2017-09-01\", \"2017-10-01\", \"2017-11-01\", \"2017-12-01\", \"2018-01-01\", \"2018-02-01\", \"2018-03-01\", \"2018-04-01\", \"2018-05-01\", \"2018-06-01\", \"2018-07-01\", \"2018-08-01\", \"2018-09-01\", \"2018-10-01\", \"2018-11-01\", \"2018-12-01\", \"2019-01-01\", \"2019-02-01\", \"2019-03-01\", \"2019-04-01\", \"2019-05-01\", \"2019-06-01\", \"2019-07-01\", \"2019-08-01\", \"2019-09-01\", \"2019-10-01\", \"2019-11-01\", \"2019-12-01\"], \"y\": [0.49, 0.18, 0.58, 1.21, 1.27, 1.33, 1.31, 1.22, 1.01, 0.68, 0.25, 0.45, 0.31, 0.21, 0.49, 0.92, 1.3, 1.36, 1.0, 0.95, 1.28, 0.77, 0.77, 0.6, 0.73, 0.42, 0.3, 0.61, 1.23, 1.17, 1.02, 0.8, 0.92, 1.19, 0.69, 0.96, 0.43, 0.57, 0.53, 0.72, 1.13, 0.9, 0.97, 1.0, 0.6, 0.87, 0.86, 0.47, 0.86, 0.58, 0.66, 0.64, 1.15, 1.08, 0.81, 1.06, 0.94, 1.14, 0.93, 0.72, 0.75, 0.43, 0.44, 0.7, 0.64, 0.73, 1.45, 1.12, 2.24, 1.59, 1.03, 0.76, 0.96, 0.61, 0.64, 0.7, 1.26, 1.43, 1.0, 1.46, 1.53, 1.37, 0.85, 1.22, 0.92, 0.74, 0.98, 0.71, 1.14, 2.05, 1.22, 1.07, 1.69, 1.3, 0.98, 0.9, 1.01, 0.91, 1.08, 1.26, 1.32, 1.42, 1.38, 1.46, 1.02, 1.1, 1.35, 1.02, 0.86, 0.54, 1.07, 0.76, 0.77, 0.85, 1.67, 1.56, 1.31, 1.03, 0.92, 0.98, 0.8, 0.64, 0.99, 1.06, 1.39, 1.19, 1.23, 1.38, 1.1, 1.19, 0.59, 0.92, 0.67, 0.65, 0.77, 0.82, 1.74, 1.25, 1.39, 0.95, 1.09, 1.12, 1.04, 0.78, 0.94, 0.57, 0.84, 1.3, 1.43, 1.38, 1.33, 1.11, 1.09, 0.84, 0.75, 0.67, 0.63, 0.7, 1.15, 1.12, 1.5, 1.42, 1.48, 1.04, 1.47, 1.23, 1.06, 0.88, 0.95, 0.57, 1.14, 1.23, 1.54, 1.68, 1.18, 1.2, 1.27, 1.38, 1.2, 0.98, 1.05, 1.0, 1.05, 1.14, 1.61, 1.23, 1.54, 1.36, 1.14, 1.38, 0.97, 0.82, 0.62, 0.67, 0.62, 1.26, 1.38, 1.27, 1.6, 1.25, 1.41, 1.09, 1.27, 0.91, 0.9, 0.51, 0.73, 1.33, 1.42, 1.68, 1.25, 1.64, 1.23, 1.18, 0.98, 0.87, 0.91, 0.69, 1.34, 1.2, 1.59, 1.62, 1.71, 1.11, 1.1, 1.4, 1.13, 1.04, 1.18, 0.84, 1.5, 1.43, 1.93, 1.57, 1.39, 1.09, 0.92, 0.72, 0.87, 1.01, 1.39, 0.71, 1.16, 1.33, 1.63, 1.39, 1.16, 1.23, 1.16, 1.28, 1.07, 0.67, 1.13, 1.35, 1.32, 1.55, 1.65, 1.56, 1.73, 1.46, 1.25, 1.12, 1.05, 1.49, 1.24, 0.9, 1.41, 1.43, 1.59, 1.61, 1.47, 1.35, 1.35, 1.39, 1.17, 1.62]}, {\"mode\": \"lines\", \"name\": \"soybean oil\", \"type\": \"scatter\", \"x\": [\"1997-01-01\", \"1997-02-01\", \"1997-03-01\", \"1997-04-01\", \"1997-05-01\", \"1997-06-01\", \"1997-07-01\", \"1997-08-01\", \"1997-09-01\", \"1997-10-01\", \"1997-11-01\", \"1997-12-01\", \"1998-01-01\", \"1998-02-01\", \"1998-03-01\", \"1998-04-01\", \"1998-05-01\", \"1998-06-01\", \"1998-07-01\", \"1998-08-01\", \"1998-09-01\", \"1998-10-01\", \"1998-11-01\", \"1998-12-01\", \"1999-01-01\", \"1999-02-01\", \"1999-03-01\", \"1999-04-01\", \"1999-05-01\", \"1999-06-01\", \"1999-07-01\", \"1999-08-01\", \"1999-09-01\", \"1999-10-01\", \"1999-11-01\", \"1999-12-01\", \"2000-01-01\", \"2000-02-01\", \"2000-03-01\", \"2000-04-01\", \"2000-05-01\", \"2000-06-01\", \"2000-07-01\", \"2000-08-01\", \"2000-09-01\", \"2000-10-01\", \"2000-11-01\", \"2000-12-01\", \"2001-01-01\", \"2001-02-01\", \"2001-03-01\", \"2001-04-01\", \"2001-05-01\", \"2001-06-01\", \"2001-07-01\", \"2001-08-01\", \"2001-09-01\", \"2001-10-01\", \"2001-11-01\", \"2001-12-01\", \"2002-01-01\", \"2002-02-01\", \"2002-03-01\", \"2002-04-01\", \"2002-05-01\", \"2002-06-01\", \"2002-07-01\", \"2002-08-01\", \"2002-09-01\", \"2002-10-01\", \"2002-11-01\", \"2002-12-01\", \"2003-01-01\", \"2003-02-01\", \"2003-03-01\", \"2003-04-01\", \"2003-05-01\", \"2003-06-01\", \"2003-07-01\", \"2003-08-01\", \"2003-09-01\", \"2003-10-01\", \"2003-11-01\", \"2003-12-01\", \"2004-01-01\", \"2004-02-01\", \"2004-03-01\", \"2004-04-01\", \"2004-05-01\", \"2004-06-01\", \"2004-07-01\", \"2004-08-01\", \"2004-09-01\", \"2004-10-01\", \"2004-11-01\", \"2004-12-01\", \"2005-01-01\", \"2005-02-01\", \"2005-03-01\", \"2005-04-01\", \"2005-05-01\", \"2005-06-01\", \"2005-07-01\", \"2005-08-01\", \"2005-09-01\", \"2005-10-01\", \"2005-11-01\", \"2005-12-01\", \"2006-01-01\", \"2006-02-01\", \"2006-03-01\", \"2006-04-01\", \"2006-05-01\", \"2006-06-01\", \"2006-07-01\", \"2006-08-01\", \"2006-09-01\", \"2006-10-01\", \"2006-11-01\", \"2006-12-01\", \"2007-01-01\", \"2007-02-01\", \"2007-03-01\", \"2007-04-01\", \"2007-05-01\", \"2007-06-01\", \"2007-07-01\", \"2007-08-01\", \"2007-09-01\", \"2007-10-01\", \"2007-11-01\", \"2007-12-01\", \"2008-01-01\", \"2008-02-01\", \"2008-03-01\", \"2008-04-01\", \"2008-05-01\", \"2008-06-01\", \"2008-07-01\", \"2008-08-01\", \"2008-09-01\", \"2008-10-01\", \"2008-11-01\", \"2008-12-01\", \"2009-01-01\", \"2009-02-01\", \"2009-03-01\", \"2009-04-01\", \"2009-05-01\", \"2009-06-01\", \"2009-07-01\", \"2009-08-01\", \"2009-09-01\", \"2009-10-01\", \"2009-11-01\", \"2009-12-01\", \"2010-01-01\", \"2010-02-01\", \"2010-03-01\", \"2010-04-01\", \"2010-05-01\", \"2010-06-01\", \"2010-07-01\", \"2010-08-01\", \"2010-09-01\", \"2010-10-01\", \"2010-11-01\", \"2010-12-01\", \"2011-01-01\", \"2011-02-01\", \"2011-03-01\", \"2011-04-01\", \"2011-05-01\", \"2011-06-01\", \"2011-07-01\", \"2011-08-01\", \"2011-09-01\", \"2011-10-01\", \"2011-11-01\", \"2011-12-01\", \"2012-01-01\", \"2012-02-01\", \"2012-03-01\", \"2012-04-01\", \"2012-05-01\", \"2012-06-01\", \"2012-07-01\", \"2012-08-01\", \"2012-09-01\", \"2012-10-01\", \"2012-11-01\", \"2012-12-01\", \"2013-01-01\", \"2013-02-01\", \"2013-03-01\", \"2013-04-01\", \"2013-05-01\", \"2013-06-01\", \"2013-07-01\", \"2013-08-01\", \"2013-09-01\", \"2013-10-01\", \"2013-11-01\", \"2013-12-01\", \"2014-01-01\", \"2014-02-01\", \"2014-03-01\", \"2014-04-01\", \"2014-05-01\", \"2014-06-01\", \"2014-07-01\", \"2014-08-01\", \"2014-09-01\", \"2014-10-01\", \"2014-11-01\", \"2014-12-01\", \"2015-01-01\", \"2015-02-01\", \"2015-03-01\", \"2015-04-01\", \"2015-05-01\", \"2015-06-01\", \"2015-07-01\", \"2015-08-01\", \"2015-09-01\", \"2015-10-01\", \"2015-11-01\", \"2015-12-01\", \"2016-01-01\", \"2016-02-01\", \"2016-03-01\", \"2016-04-01\", \"2016-05-01\", \"2016-06-01\", \"2016-07-01\", \"2016-08-01\", \"2016-09-01\", \"2016-10-01\", \"2016-11-01\", \"2016-12-01\", \"2017-01-01\", \"2017-02-01\", \"2017-03-01\", \"2017-04-01\", \"2017-05-01\", \"2017-06-01\", \"2017-07-01\", \"2017-08-01\", \"2017-09-01\", \"2017-10-01\", \"2017-11-01\", \"2017-12-01\", \"2018-01-01\", \"2018-02-01\", \"2018-03-01\", \"2018-04-01\", \"2018-05-01\", \"2018-06-01\", \"2018-07-01\", \"2018-08-01\", \"2018-09-01\", \"2018-10-01\", \"2018-11-01\", \"2018-12-01\", \"2019-01-01\", \"2019-02-01\", \"2019-03-01\", \"2019-04-01\", \"2019-05-01\", \"2019-06-01\", \"2019-07-01\", \"2019-08-01\", \"2019-09-01\", \"2019-10-01\", \"2019-11-01\", \"2019-12-01\"], \"y\": [0.07, 0.03, 0.02, 0.16, 0.16, 0.2, 0.18, 0.11, 0.12, 0.03, 0.02, 0.03, 0.02, 0.01, 0.05, 0.16, 0.11, 0.22, 0.23, 0.14, 0.14, 0.06, 0.1, 0.09, 0.06, 0.08, 0.09, 0.13, 0.22, 0.27, 0.03, 0.16, 0.1, 0.19, 0.03, 0.13, 0.03, 0.03, 0.04, 0.09, 0.11, 0.1, 0.12, 0.16, 0.08, 0.06, 0.12, 0.12, 0.09, 0.04, 0.11, 0.12, 0.11, 0.18, 0.12, 0.22, 0.14, 0.13, 0.14, 0.13, 0.06, 0.07, 0.07, 0.06, 0.12, 0.09, 0.2, 0.14, 0.49, 0.31, 0.19, 0.05, 0.22, 0.1, 0.12, 0.14, 0.22, 0.2, 0.24, 0.26, 0.21, 0.29, 0.16, 0.22, 0.15, 0.17, 0.17, 0.11, 0.15, 0.43, 0.28, 0.34, 0.24, 0.12, 0.18, 0.17, 0.16, 0.19, 0.22, 0.14, 0.23, 0.28, 0.3, 0.25, 0.16, 0.25, 0.25, 0.25, 0.16, 0.15, 0.2, 0.15, 0.13, 0.18, 0.29, 0.28, 0.18, 0.26, 0.21, 0.23, 0.06, 0.08, 0.19, 0.2, 0.27, 0.23, 0.27, 0.25, 0.21, 0.28, 0.2, 0.11, 0.23, 0.14, 0.11, 0.14, 0.22, 0.18, 0.32, 0.21, 0.25, 0.22, 0.15, 0.14, 0.11, 0.05, 0.17, 0.18, 0.13, 0.18, 0.24, 0.21, 0.11, 0.13, 0.05, 0.02, 0.02, 0.07, 0.07, 0.13, 0.13, 0.25, 0.28, 0.19, 0.12, 0.11, 0.13, 0.08, 0.09, 0.13, 0.16, 0.08, 0.17, 0.19, 0.2, 0.15, 0.19, 0.09, 0.19, 0.11, 0.1, 0.1, 0.2, 0.14, 0.32, 0.15, 0.16, 0.19, 0.13, 0.13, 0.07, 0.05, 0.03, 0.03, 0.14, 0.12, 0.13, 0.12, 0.12, 0.11, 0.18, 0.18, 0.1, 0.09, 0.08, 0.04, 0.13, 0.12, 0.12, 0.15, 0.15, 0.15, 0.07, 0.12, 0.1, 0.08, 0.1, 0.1, 0.07, 0.13, 0.13, 0.14, 0.1, 0.27, 0.17, 0.17, 0.12, 0.18, 0.08, 0.05, 0.12, 0.09, 0.18, 0.17, 0.08, 0.17, 0.15, 0.01, 0.07, 0.07, 0.07, 0.08, 0.12, 0.18, 0.12, 0.18, 0.15, 0.15, 0.03, 0.13, 0.08, 0.05, 0.05, 0.13, 0.11, 0.17, 0.13, 0.13, 0.22, 0.21, 0.09, 0.09, 0.03, 0.05, 0.05, 0.04, 0.08, 0.07, 0.21, 0.14, 0.13, 0.11, 0.08, 0.06, 0.02, 0.04]}],\n",
              "                        {\"template\": {\"data\": {\"bar\": [{\"error_x\": {\"color\": \"#2a3f5f\"}, \"error_y\": {\"color\": \"#2a3f5f\"}, \"marker\": {\"line\": {\"color\": \"#E5ECF6\", \"width\": 0.5}}, \"type\": \"bar\"}], \"barpolar\": [{\"marker\": {\"line\": {\"color\": \"#E5ECF6\", \"width\": 0.5}}, \"type\": \"barpolar\"}], \"carpet\": [{\"aaxis\": {\"endlinecolor\": \"#2a3f5f\", \"gridcolor\": \"white\", \"linecolor\": \"white\", \"minorgridcolor\": \"white\", \"startlinecolor\": \"#2a3f5f\"}, \"baxis\": {\"endlinecolor\": \"#2a3f5f\", \"gridcolor\": \"white\", \"linecolor\": \"white\", \"minorgridcolor\": \"white\", \"startlinecolor\": \"#2a3f5f\"}, \"type\": \"carpet\"}], \"choropleth\": [{\"colorbar\": {\"outlinewidth\": 0, \"ticks\": \"\"}, \"type\": \"choropleth\"}], \"contour\": [{\"colorbar\": {\"outlinewidth\": 0, \"ticks\": \"\"}, \"colorscale\": [[0.0, \"#0d0887\"], [0.1111111111111111, \"#46039f\"], [0.2222222222222222, \"#7201a8\"], [0.3333333333333333, \"#9c179e\"], [0.4444444444444444, \"#bd3786\"], [0.5555555555555556, \"#d8576b\"], [0.6666666666666666, \"#ed7953\"], [0.7777777777777778, \"#fb9f3a\"], [0.8888888888888888, \"#fdca26\"], [1.0, \"#f0f921\"]], \"type\": \"contour\"}], \"contourcarpet\": [{\"colorbar\": {\"outlinewidth\": 0, \"ticks\": \"\"}, \"type\": \"contourcarpet\"}], \"heatmap\": [{\"colorbar\": {\"outlinewidth\": 0, \"ticks\": \"\"}, \"colorscale\": [[0.0, \"#0d0887\"], [0.1111111111111111, \"#46039f\"], [0.2222222222222222, \"#7201a8\"], [0.3333333333333333, \"#9c179e\"], [0.4444444444444444, \"#bd3786\"], [0.5555555555555556, \"#d8576b\"], [0.6666666666666666, \"#ed7953\"], [0.7777777777777778, \"#fb9f3a\"], [0.8888888888888888, \"#fdca26\"], [1.0, \"#f0f921\"]], \"type\": \"heatmap\"}], \"heatmapgl\": [{\"colorbar\": {\"outlinewidth\": 0, \"ticks\": \"\"}, \"colorscale\": [[0.0, \"#0d0887\"], [0.1111111111111111, \"#46039f\"], [0.2222222222222222, \"#7201a8\"], [0.3333333333333333, \"#9c179e\"], [0.4444444444444444, \"#bd3786\"], [0.5555555555555556, \"#d8576b\"], [0.6666666666666666, \"#ed7953\"], [0.7777777777777778, \"#fb9f3a\"], [0.8888888888888888, \"#fdca26\"], [1.0, \"#f0f921\"]], \"type\": \"heatmapgl\"}], \"histogram\": [{\"marker\": {\"colorbar\": {\"outlinewidth\": 0, \"ticks\": \"\"}}, \"type\": \"histogram\"}], \"histogram2d\": [{\"colorbar\": {\"outlinewidth\": 0, \"ticks\": \"\"}, \"colorscale\": [[0.0, \"#0d0887\"], [0.1111111111111111, \"#46039f\"], [0.2222222222222222, \"#7201a8\"], [0.3333333333333333, \"#9c179e\"], [0.4444444444444444, \"#bd3786\"], [0.5555555555555556, \"#d8576b\"], [0.6666666666666666, \"#ed7953\"], [0.7777777777777778, \"#fb9f3a\"], [0.8888888888888888, \"#fdca26\"], [1.0, \"#f0f921\"]], \"type\": \"histogram2d\"}], \"histogram2dcontour\": [{\"colorbar\": {\"outlinewidth\": 0, \"ticks\": \"\"}, \"colorscale\": [[0.0, \"#0d0887\"], [0.1111111111111111, \"#46039f\"], [0.2222222222222222, \"#7201a8\"], [0.3333333333333333, \"#9c179e\"], [0.4444444444444444, \"#bd3786\"], [0.5555555555555556, \"#d8576b\"], [0.6666666666666666, \"#ed7953\"], [0.7777777777777778, \"#fb9f3a\"], [0.8888888888888888, \"#fdca26\"], [1.0, \"#f0f921\"]], \"type\": \"histogram2dcontour\"}], \"mesh3d\": [{\"colorbar\": {\"outlinewidth\": 0, \"ticks\": \"\"}, \"type\": \"mesh3d\"}], \"parcoords\": [{\"line\": {\"colorbar\": {\"outlinewidth\": 0, \"ticks\": \"\"}}, \"type\": \"parcoords\"}], \"pie\": [{\"automargin\": true, \"type\": \"pie\"}], \"scatter\": [{\"marker\": {\"colorbar\": {\"outlinewidth\": 0, \"ticks\": \"\"}}, \"type\": \"scatter\"}], \"scatter3d\": [{\"line\": {\"colorbar\": {\"outlinewidth\": 0, \"ticks\": \"\"}}, \"marker\": {\"colorbar\": {\"outlinewidth\": 0, \"ticks\": \"\"}}, \"type\": \"scatter3d\"}], \"scattercarpet\": [{\"marker\": {\"colorbar\": {\"outlinewidth\": 0, \"ticks\": \"\"}}, \"type\": \"scattercarpet\"}], \"scattergeo\": [{\"marker\": {\"colorbar\": {\"outlinewidth\": 0, \"ticks\": \"\"}}, \"type\": \"scattergeo\"}], \"scattergl\": [{\"marker\": {\"colorbar\": {\"outlinewidth\": 0, \"ticks\": \"\"}}, \"type\": \"scattergl\"}], \"scattermapbox\": [{\"marker\": {\"colorbar\": {\"outlinewidth\": 0, \"ticks\": \"\"}}, \"type\": \"scattermapbox\"}], \"scatterpolar\": [{\"marker\": {\"colorbar\": {\"outlinewidth\": 0, \"ticks\": \"\"}}, \"type\": \"scatterpolar\"}], \"scatterpolargl\": [{\"marker\": {\"colorbar\": {\"outlinewidth\": 0, \"ticks\": \"\"}}, \"type\": \"scatterpolargl\"}], \"scatterternary\": [{\"marker\": {\"colorbar\": {\"outlinewidth\": 0, \"ticks\": \"\"}}, \"type\": \"scatterternary\"}], \"surface\": [{\"colorbar\": {\"outlinewidth\": 0, \"ticks\": \"\"}, \"colorscale\": [[0.0, \"#0d0887\"], [0.1111111111111111, \"#46039f\"], [0.2222222222222222, \"#7201a8\"], [0.3333333333333333, \"#9c179e\"], [0.4444444444444444, \"#bd3786\"], [0.5555555555555556, \"#d8576b\"], [0.6666666666666666, \"#ed7953\"], [0.7777777777777778, \"#fb9f3a\"], [0.8888888888888888, \"#fdca26\"], [1.0, \"#f0f921\"]], \"type\": \"surface\"}], \"table\": [{\"cells\": {\"fill\": {\"color\": \"#EBF0F8\"}, \"line\": {\"color\": \"white\"}}, \"header\": {\"fill\": {\"color\": \"#C8D4E3\"}, \"line\": {\"color\": \"white\"}}, \"type\": \"table\"}]}, \"layout\": {\"annotationdefaults\": {\"arrowcolor\": \"#2a3f5f\", \"arrowhead\": 0, \"arrowwidth\": 1}, \"coloraxis\": {\"colorbar\": {\"outlinewidth\": 0, \"ticks\": \"\"}}, \"colorscale\": {\"diverging\": [[0, \"#8e0152\"], [0.1, \"#c51b7d\"], [0.2, \"#de77ae\"], [0.3, \"#f1b6da\"], [0.4, \"#fde0ef\"], [0.5, \"#f7f7f7\"], [0.6, \"#e6f5d0\"], [0.7, \"#b8e186\"], [0.8, \"#7fbc41\"], [0.9, \"#4d9221\"], [1, \"#276419\"]], \"sequential\": [[0.0, \"#0d0887\"], [0.1111111111111111, \"#46039f\"], [0.2222222222222222, \"#7201a8\"], [0.3333333333333333, \"#9c179e\"], [0.4444444444444444, \"#bd3786\"], [0.5555555555555556, \"#d8576b\"], [0.6666666666666666, \"#ed7953\"], [0.7777777777777778, \"#fb9f3a\"], [0.8888888888888888, \"#fdca26\"], [1.0, \"#f0f921\"]], \"sequentialminus\": [[0.0, \"#0d0887\"], [0.1111111111111111, \"#46039f\"], [0.2222222222222222, \"#7201a8\"], [0.3333333333333333, \"#9c179e\"], [0.4444444444444444, \"#bd3786\"], [0.5555555555555556, \"#d8576b\"], [0.6666666666666666, \"#ed7953\"], [0.7777777777777778, \"#fb9f3a\"], [0.8888888888888888, \"#fdca26\"], [1.0, \"#f0f921\"]]}, \"colorway\": [\"#636efa\", \"#EF553B\", \"#00cc96\", \"#ab63fa\", \"#FFA15A\", \"#19d3f3\", \"#FF6692\", \"#B6E880\", \"#FF97FF\", \"#FECB52\"], \"font\": {\"color\": \"#2a3f5f\"}, \"geo\": {\"bgcolor\": \"white\", \"lakecolor\": \"white\", \"landcolor\": \"#E5ECF6\", \"showlakes\": true, \"showland\": true, \"subunitcolor\": \"white\"}, \"hoverlabel\": {\"align\": \"left\"}, \"hovermode\": \"closest\", \"mapbox\": {\"style\": \"light\"}, \"paper_bgcolor\": \"white\", \"plot_bgcolor\": \"#E5ECF6\", \"polar\": {\"angularaxis\": {\"gridcolor\": \"white\", \"linecolor\": \"white\", \"ticks\": \"\"}, \"bgcolor\": \"#E5ECF6\", \"radialaxis\": {\"gridcolor\": \"white\", \"linecolor\": \"white\", \"ticks\": \"\"}}, \"scene\": {\"xaxis\": {\"backgroundcolor\": \"#E5ECF6\", \"gridcolor\": \"white\", \"gridwidth\": 2, \"linecolor\": \"white\", \"showbackground\": true, \"ticks\": \"\", \"zerolinecolor\": \"white\"}, \"yaxis\": {\"backgroundcolor\": \"#E5ECF6\", \"gridcolor\": \"white\", \"gridwidth\": 2, \"linecolor\": \"white\", \"showbackground\": true, \"ticks\": \"\", \"zerolinecolor\": \"white\"}, \"zaxis\": {\"backgroundcolor\": \"#E5ECF6\", \"gridcolor\": \"white\", \"gridwidth\": 2, \"linecolor\": \"white\", \"showbackground\": true, \"ticks\": \"\", \"zerolinecolor\": \"white\"}}, \"shapedefaults\": {\"line\": {\"color\": \"#2a3f5f\"}}, \"ternary\": {\"aaxis\": {\"gridcolor\": \"white\", \"linecolor\": \"white\", \"ticks\": \"\"}, \"baxis\": {\"gridcolor\": \"white\", \"linecolor\": \"white\", \"ticks\": \"\"}, \"bgcolor\": \"#E5ECF6\", \"caxis\": {\"gridcolor\": \"white\", \"linecolor\": \"white\", \"ticks\": \"\"}}, \"title\": {\"x\": 0.05}, \"xaxis\": {\"automargin\": true, \"gridcolor\": \"white\", \"linecolor\": \"white\", \"ticks\": \"\", \"title\": {\"standoff\": 15}, \"zerolinecolor\": \"white\", \"zerolinewidth\": 2}, \"yaxis\": {\"automargin\": true, \"gridcolor\": \"white\", \"linecolor\": \"white\", \"ticks\": \"\", \"title\": {\"standoff\": 15}, \"zerolinecolor\": \"white\", \"zerolinewidth\": 2}}}, \"title\": {\"text\": \"Brazil's soybean related products exports (monthly millon of tons)\"}, \"xaxis\": {\"showgrid\": true, \"showline\": true, \"showticklabels\": true, \"title\": {\"text\": \"date\"}, \"type\": \"category\", \"zeroline\": true}, \"yaxis\": {\"title\": {\"text\": \"Millons of tons\"}, \"type\": \"log\"}},\n",
              "                        {\"responsive\": true}\n",
              "                    ).then(function(){\n",
              "                            \n",
              "var gd = document.getElementById('91849332-b7c0-40ed-bc35-cadb2530543f');\n",
              "var x = new MutationObserver(function (mutations, observer) {{\n",
              "        var display = window.getComputedStyle(gd).display;\n",
              "        if (!display || display === 'none') {{\n",
              "            console.log([gd, 'removed!']);\n",
              "            Plotly.purge(gd);\n",
              "            observer.disconnect();\n",
              "        }}\n",
              "}});\n",
              "\n",
              "// Listen for the removal of the full notebook cells\n",
              "var notebookContainer = gd.closest('#notebook-container');\n",
              "if (notebookContainer) {{\n",
              "    x.observe(notebookContainer, {childList: true});\n",
              "}}\n",
              "\n",
              "// Listen for the clearing of the current output cell\n",
              "var outputEl = gd.closest('.output');\n",
              "if (outputEl) {{\n",
              "    x.observe(outputEl, {childList: true});\n",
              "}}\n",
              "\n",
              "                        })\n",
              "                };\n",
              "                \n",
              "            </script>\n",
              "        </div>\n",
              "</body>\n",
              "</html>"
            ]
          },
          "metadata": {
            "tags": []
          }
        }
      ]
    },
    {
      "cell_type": "code",
      "metadata": {
        "colab": {
          "base_uri": "https://localhost:8080/",
          "height": 542
        },
        "id": "cvXQz5FR-WKl",
        "outputId": "cd1821d7-c3a8-45d8-e57d-7c3264286ce1"
      },
      "source": [
        "fig=go.Figure()\r\n",
        "fig.add_trace(go.Scatter(x=soybeans_monthly['date'],y=soybeans_monthly['total_usd'],mode='lines',name='soybeans'))\r\n",
        "fig.add_trace(go.Scatter(x=soybean_meal_monthly['date'],y=soybean_meal_monthly['total_usd'],mode='lines',name='soybean meal'))\r\n",
        "fig.add_trace(go.Scatter(x=soybean_oil_monthly['date'],y=soybean_oil_monthly['total_usd'],mode='lines',name='soybean oil'))\r\n",
        "fig.update_layout(title_text=\"Brazil's soybean related products exports (monthly millon of USD)\",\r\n",
        "                  xaxis = dict(\r\n",
        "                  title = 'date',\r\n",
        "                  showgrid = True,\r\n",
        "                  zeroline = True,\r\n",
        "                  showline = True,\r\n",
        "                  showticklabels = True,\r\n",
        "                  type='category'\r\n",
        "                  ) ,\r\n",
        "                  yaxis=dict(\r\n",
        "                  title=\"USD Millions\"    \r\n",
        "                  ),yaxis_type=\"log\")\r\n",
        "\r\n",
        "fig.show()   "
      ],
      "execution_count": 13,
      "outputs": [
        {
          "output_type": "display_data",
          "data": {
            "text/html": [
              "<html>\n",
              "<head><meta charset=\"utf-8\" /></head>\n",
              "<body>\n",
              "    <div>\n",
              "            <script src=\"https://cdnjs.cloudflare.com/ajax/libs/mathjax/2.7.5/MathJax.js?config=TeX-AMS-MML_SVG\"></script><script type=\"text/javascript\">if (window.MathJax) {MathJax.Hub.Config({SVG: {font: \"STIX-Web\"}});}</script>\n",
              "                <script type=\"text/javascript\">window.PlotlyConfig = {MathJaxConfig: 'local'};</script>\n",
              "        <script src=\"https://cdn.plot.ly/plotly-latest.min.js\"></script>    \n",
              "            <div id=\"fdc984cd-6f04-454f-be0d-566e5f6a7f99\" class=\"plotly-graph-div\" style=\"height:525px; width:100%;\"></div>\n",
              "            <script type=\"text/javascript\">\n",
              "                \n",
              "                    window.PLOTLYENV=window.PLOTLYENV || {};\n",
              "                    \n",
              "                if (document.getElementById(\"fdc984cd-6f04-454f-be0d-566e5f6a7f99\")) {\n",
              "                    Plotly.newPlot(\n",
              "                        'fdc984cd-6f04-454f-be0d-566e5f6a7f99',\n",
              "                        [{\"mode\": \"lines\", \"name\": \"soybeans\", \"type\": \"scatter\", \"x\": [\"1997-01-01\", \"1997-02-01\", \"1997-03-01\", \"1997-04-01\", \"1997-05-01\", \"1997-06-01\", \"1997-07-01\", \"1997-08-01\", \"1997-09-01\", \"1997-10-01\", \"1997-11-01\", \"1997-12-01\", \"1998-01-01\", \"1998-02-01\", \"1998-03-01\", \"1998-04-01\", \"1998-05-01\", \"1998-06-01\", \"1998-07-01\", \"1998-08-01\", \"1998-09-01\", \"1998-10-01\", \"1998-11-01\", \"1998-12-01\", \"1999-01-01\", \"1999-02-01\", \"1999-03-01\", \"1999-04-01\", \"1999-05-01\", \"1999-06-01\", \"1999-07-01\", \"1999-08-01\", \"1999-09-01\", \"1999-10-01\", \"1999-11-01\", \"1999-12-01\", \"2000-01-01\", \"2000-02-01\", \"2000-03-01\", \"2000-04-01\", \"2000-05-01\", \"2000-06-01\", \"2000-07-01\", \"2000-08-01\", \"2000-09-01\", \"2000-10-01\", \"2000-11-01\", \"2000-12-01\", \"2001-01-01\", \"2001-02-01\", \"2001-03-01\", \"2001-04-01\", \"2001-05-01\", \"2001-06-01\", \"2001-07-01\", \"2001-08-01\", \"2001-09-01\", \"2001-10-01\", \"2001-11-01\", \"2001-12-01\", \"2002-01-01\", \"2002-02-01\", \"2002-03-01\", \"2002-04-01\", \"2002-05-01\", \"2002-06-01\", \"2002-07-01\", \"2002-08-01\", \"2002-09-01\", \"2002-10-01\", \"2002-11-01\", \"2002-12-01\", \"2003-01-01\", \"2003-02-01\", \"2003-03-01\", \"2003-04-01\", \"2003-05-01\", \"2003-06-01\", \"2003-07-01\", \"2003-08-01\", \"2003-09-01\", \"2003-10-01\", \"2003-11-01\", \"2003-12-01\", \"2004-01-01\", \"2004-02-01\", \"2004-03-01\", \"2004-04-01\", \"2004-05-01\", \"2004-06-01\", \"2004-07-01\", \"2004-08-01\", \"2004-09-01\", \"2004-10-01\", \"2004-11-01\", \"2004-12-01\", \"2005-01-01\", \"2005-02-01\", \"2005-03-01\", \"2005-04-01\", \"2005-05-01\", \"2005-06-01\", \"2005-07-01\", \"2005-08-01\", \"2005-09-01\", \"2005-10-01\", \"2005-11-01\", \"2005-12-01\", \"2006-01-01\", \"2006-02-01\", \"2006-03-01\", \"2006-04-01\", \"2006-05-01\", \"2006-06-01\", \"2006-07-01\", \"2006-08-01\", \"2006-09-01\", \"2006-10-01\", \"2006-11-01\", \"2006-12-01\", \"2007-01-01\", \"2007-02-01\", \"2007-03-01\", \"2007-04-01\", \"2007-05-01\", \"2007-06-01\", \"2007-07-01\", \"2007-08-01\", \"2007-09-01\", \"2007-10-01\", \"2007-11-01\", \"2007-12-01\", \"2008-01-01\", \"2008-02-01\", \"2008-03-01\", \"2008-04-01\", \"2008-05-01\", \"2008-06-01\", \"2008-07-01\", \"2008-08-01\", \"2008-09-01\", \"2008-10-01\", \"2008-11-01\", \"2008-12-01\", \"2009-01-01\", \"2009-02-01\", \"2009-03-01\", \"2009-04-01\", \"2009-05-01\", \"2009-06-01\", \"2009-07-01\", \"2009-08-01\", \"2009-09-01\", \"2009-10-01\", \"2009-11-01\", \"2009-12-01\", \"2010-01-01\", \"2010-02-01\", \"2010-03-01\", \"2010-04-01\", \"2010-05-01\", \"2010-06-01\", \"2010-07-01\", \"2010-08-01\", \"2010-09-01\", \"2010-10-01\", \"2010-11-01\", \"2010-12-01\", \"2011-01-01\", \"2011-02-01\", \"2011-03-01\", \"2011-04-01\", \"2011-05-01\", \"2011-06-01\", \"2011-07-01\", \"2011-08-01\", \"2011-09-01\", \"2011-10-01\", \"2011-11-01\", \"2011-12-01\", \"2012-01-01\", \"2012-02-01\", \"2012-03-01\", \"2012-04-01\", \"2012-05-01\", \"2012-06-01\", \"2012-07-01\", \"2012-08-01\", \"2012-09-01\", \"2012-10-01\", \"2012-11-01\", \"2012-12-01\", \"2013-01-01\", \"2013-02-01\", \"2013-03-01\", \"2013-04-01\", \"2013-05-01\", \"2013-06-01\", \"2013-07-01\", \"2013-08-01\", \"2013-09-01\", \"2013-10-01\", \"2013-11-01\", \"2013-12-01\", \"2014-01-01\", \"2014-02-01\", \"2014-03-01\", \"2014-04-01\", \"2014-05-01\", \"2014-06-01\", \"2014-07-01\", \"2014-08-01\", \"2014-09-01\", \"2014-10-01\", \"2014-11-01\", \"2014-12-01\", \"2015-01-01\", \"2015-02-01\", \"2015-03-01\", \"2015-04-01\", \"2015-05-01\", \"2015-06-01\", \"2015-07-01\", \"2015-08-01\", \"2015-09-01\", \"2015-10-01\", \"2015-11-01\", \"2015-12-01\", \"2016-01-01\", \"2016-02-01\", \"2016-03-01\", \"2016-04-01\", \"2016-05-01\", \"2016-06-01\", \"2016-07-01\", \"2016-08-01\", \"2016-09-01\", \"2016-10-01\", \"2016-11-01\", \"2016-12-01\", \"2017-01-01\", \"2017-02-01\", \"2017-03-01\", \"2017-04-01\", \"2017-05-01\", \"2017-06-01\", \"2017-07-01\", \"2017-08-01\", \"2017-09-01\", \"2017-10-01\", \"2017-11-01\", \"2017-12-01\", \"2018-01-01\", \"2018-02-01\", \"2018-03-01\", \"2018-04-01\", \"2018-05-01\", \"2018-06-01\", \"2018-07-01\", \"2018-08-01\", \"2018-09-01\", \"2018-10-01\", \"2018-11-01\", \"2018-12-01\", \"2019-01-01\", \"2019-02-01\", \"2019-03-01\", \"2019-04-01\", \"2019-05-01\", \"2019-06-01\", \"2019-07-01\", \"2019-08-01\", \"2019-09-01\", \"2019-10-01\", \"2019-11-01\", \"2019-12-01\"], \"y\": [4.12, 4.9, 156.2, 460.04, 487.26, 390.85, 482.32, 286.58, 102.11, 31.77, 1.13, 0.12, 0.68, 0.16, 95.93, 424.11, 414.48, 322.46, 248.61, 185.97, 206.46, 85.27, 38.66, 13.28, 9.12, 28.39, 86.91, 265.07, 296.81, 227.18, 188.63, 124.68, 112.78, 58.8, 34.27, 13.87, 5.51, 9.7, 90.88, 275.89, 303.19, 331.37, 331.85, 361.43, 143.44, 105.35, 62.31, 16.59, 47.97, 19.68, 135.38, 298.53, 379.89, 409.35, 329.43, 422.97, 256.18, 152.19, 31.17, 37.71, 24.21, 12.07, 100.74, 235.45, 193.46, 195.72, 469.24, 302.02, 747.79, 322.52, 99.04, 114.18, 50.68, 39.02, 240.53, 555.45, 642.09, 484.35, 382.75, 495.62, 417.66, 458.64, 120.88, 75.27, 99.17, 102.35, 357.03, 480.65, 629.64, 998.58, 619.2, 541.32, 598.99, 226.14, 104.53, 79.82, 61.47, 74.92, 383.16, 611.8, 527.64, 695.74, 659.8, 686.76, 543.27, 441.2, 340.66, 233.95, 179.0, 171.61, 618.75, 650.79, 695.94, 510.39, 978.04, 657.75, 449.12, 379.28, 235.97, 116.68, 138.46, 206.56, 561.78, 844.9, 825.73, 817.43, 859.56, 763.42, 543.68, 664.04, 267.37, 190.49, 250.72, 186.18, 561.76, 1397.62, 1860.24, 1506.03, 1901.28, 1219.81, 900.39, 524.6, 311.2, 332.31, 252.96, 264.4, 973.43, 1541.85, 1722.97, 2576.87, 1467.99, 1306.23, 817.74, 315.67, 84.13, 99.04, 45.34, 265.51, 1164.53, 1790.57, 2089.59, 1488.41, 1495.98, 1155.82, 823.95, 430.48, 139.52, 145.96, 107.13, 111.01, 1383.49, 2417.29, 2558.51, 2231.99, 1841.15, 1898.84, 1458.15, 739.96, 878.2, 696.24, 461.79, 715.52, 2062.71, 2261.5, 3837.8, 2591.1, 2246.27, 1426.02, 1009.44, 573.74, 166.14, 90.02, 0.26, 516.59, 1910.23, 3797.34, 4152.65, 3436.77, 3059.71, 2894.1, 1851.42, 819.71, 349.31, 23.42, 17.81, 1385.78, 3146.41, 4133.62, 3866.21, 3572.0, 3151.18, 2135.35, 1347.5, 363.99, 81.6, 73.57, 35.1, 346.16, 2211.79, 2527.3, 3611.78, 3762.21, 3224.05, 2004.89, 1429.98, 989.57, 551.13, 281.72, 147.64, 715.35, 2924.9, 3532.2, 3599.73, 2969.55, 2424.23, 1590.49, 606.52, 413.79, 130.91, 273.12, 364.83, 1404.18, 3522.91, 3937.13, 4041.99, 3342.56, 2534.39, 2236.1, 1610.5, 939.52, 815.38, 913.31, 594.24, 1092.88, 3432.76, 4112.13, 4986.94, 4191.53, 4078.53, 3198.6, 1760.33, 1932.02, 1784.59, 1455.3, 740.01, 1871.1, 2942.62, 3145.23, 3252.86, 2728.05, 2475.7, 1628.52, 1562.37, 1704.49, 1625.92, 1061.9]}, {\"mode\": \"lines\", \"name\": \"soybean meal\", \"type\": \"scatter\", \"x\": [\"1997-01-01\", \"1997-02-01\", \"1997-03-01\", \"1997-04-01\", \"1997-05-01\", \"1997-06-01\", \"1997-07-01\", \"1997-08-01\", \"1997-09-01\", \"1997-10-01\", \"1997-11-01\", \"1997-12-01\", \"1998-01-01\", \"1998-02-01\", \"1998-03-01\", \"1998-04-01\", \"1998-05-01\", \"1998-06-01\", \"1998-07-01\", \"1998-08-01\", \"1998-09-01\", \"1998-10-01\", \"1998-11-01\", \"1998-12-01\", \"1999-01-01\", \"1999-02-01\", \"1999-03-01\", \"1999-04-01\", \"1999-05-01\", \"1999-06-01\", \"1999-07-01\", \"1999-08-01\", \"1999-09-01\", \"1999-10-01\", \"1999-11-01\", \"1999-12-01\", \"2000-01-01\", \"2000-02-01\", \"2000-03-01\", \"2000-04-01\", \"2000-05-01\", \"2000-06-01\", \"2000-07-01\", \"2000-08-01\", \"2000-09-01\", \"2000-10-01\", \"2000-11-01\", \"2000-12-01\", \"2001-01-01\", \"2001-02-01\", \"2001-03-01\", \"2001-04-01\", \"2001-05-01\", \"2001-06-01\", \"2001-07-01\", \"2001-08-01\", \"2001-09-01\", \"2001-10-01\", \"2001-11-01\", \"2001-12-01\", \"2002-01-01\", \"2002-02-01\", \"2002-03-01\", \"2002-04-01\", \"2002-05-01\", \"2002-06-01\", \"2002-07-01\", \"2002-08-01\", \"2002-09-01\", \"2002-10-01\", \"2002-11-01\", \"2002-12-01\", \"2003-01-01\", \"2003-02-01\", \"2003-03-01\", \"2003-04-01\", \"2003-05-01\", \"2003-06-01\", \"2003-07-01\", \"2003-08-01\", \"2003-09-01\", \"2003-10-01\", \"2003-11-01\", \"2003-12-01\", \"2004-01-01\", \"2004-02-01\", \"2004-03-01\", \"2004-04-01\", \"2004-05-01\", \"2004-06-01\", \"2004-07-01\", \"2004-08-01\", \"2004-09-01\", \"2004-10-01\", \"2004-11-01\", \"2004-12-01\", \"2005-01-01\", \"2005-02-01\", \"2005-03-01\", \"2005-04-01\", \"2005-05-01\", \"2005-06-01\", \"2005-07-01\", \"2005-08-01\", \"2005-09-01\", \"2005-10-01\", \"2005-11-01\", \"2005-12-01\", \"2006-01-01\", \"2006-02-01\", \"2006-03-01\", \"2006-04-01\", \"2006-05-01\", \"2006-06-01\", \"2006-07-01\", \"2006-08-01\", \"2006-09-01\", \"2006-10-01\", \"2006-11-01\", \"2006-12-01\", \"2007-01-01\", \"2007-02-01\", \"2007-03-01\", \"2007-04-01\", \"2007-05-01\", \"2007-06-01\", \"2007-07-01\", \"2007-08-01\", \"2007-09-01\", \"2007-10-01\", \"2007-11-01\", \"2007-12-01\", \"2008-01-01\", \"2008-02-01\", \"2008-03-01\", \"2008-04-01\", \"2008-05-01\", \"2008-06-01\", \"2008-07-01\", \"2008-08-01\", \"2008-09-01\", \"2008-10-01\", \"2008-11-01\", \"2008-12-01\", \"2009-01-01\", \"2009-02-01\", \"2009-03-01\", \"2009-04-01\", \"2009-05-01\", \"2009-06-01\", \"2009-07-01\", \"2009-08-01\", \"2009-09-01\", \"2009-10-01\", \"2009-11-01\", \"2009-12-01\", \"2010-01-01\", \"2010-02-01\", \"2010-03-01\", \"2010-04-01\", \"2010-05-01\", \"2010-06-01\", \"2010-07-01\", \"2010-08-01\", \"2010-09-01\", \"2010-10-01\", \"2010-11-01\", \"2010-12-01\", \"2011-01-01\", \"2011-02-01\", \"2011-03-01\", \"2011-04-01\", \"2011-05-01\", \"2011-06-01\", \"2011-07-01\", \"2011-08-01\", \"2011-09-01\", \"2011-10-01\", \"2011-11-01\", \"2011-12-01\", \"2012-01-01\", \"2012-02-01\", \"2012-03-01\", \"2012-04-01\", \"2012-05-01\", \"2012-06-01\", \"2012-07-01\", \"2012-08-01\", \"2012-09-01\", \"2012-10-01\", \"2012-11-01\", \"2012-12-01\", \"2013-01-01\", \"2013-02-01\", \"2013-03-01\", \"2013-04-01\", \"2013-05-01\", \"2013-06-01\", \"2013-07-01\", \"2013-08-01\", \"2013-09-01\", \"2013-10-01\", \"2013-11-01\", \"2013-12-01\", \"2014-01-01\", \"2014-02-01\", \"2014-03-01\", \"2014-04-01\", \"2014-05-01\", \"2014-06-01\", \"2014-07-01\", \"2014-08-01\", \"2014-09-01\", \"2014-10-01\", \"2014-11-01\", \"2014-12-01\", \"2015-01-01\", \"2015-02-01\", \"2015-03-01\", \"2015-04-01\", \"2015-05-01\", \"2015-06-01\", \"2015-07-01\", \"2015-08-01\", \"2015-09-01\", \"2015-10-01\", \"2015-11-01\", \"2015-12-01\", \"2016-01-01\", \"2016-02-01\", \"2016-03-01\", \"2016-04-01\", \"2016-05-01\", \"2016-06-01\", \"2016-07-01\", \"2016-08-01\", \"2016-09-01\", \"2016-10-01\", \"2016-11-01\", \"2016-12-01\", \"2017-01-01\", \"2017-02-01\", \"2017-03-01\", \"2017-04-01\", \"2017-05-01\", \"2017-06-01\", \"2017-07-01\", \"2017-08-01\", \"2017-09-01\", \"2017-10-01\", \"2017-11-01\", \"2017-12-01\", \"2018-01-01\", \"2018-02-01\", \"2018-03-01\", \"2018-04-01\", \"2018-05-01\", \"2018-06-01\", \"2018-07-01\", \"2018-08-01\", \"2018-09-01\", \"2018-10-01\", \"2018-11-01\", \"2018-12-01\", \"2019-01-01\", \"2019-02-01\", \"2019-03-01\", \"2019-04-01\", \"2019-05-01\", \"2019-06-01\", \"2019-07-01\", \"2019-08-01\", \"2019-09-01\", \"2019-10-01\", \"2019-11-01\", \"2019-12-01\"], \"y\": [133.24, 47.59, 152.68, 324.62, 344.84, 356.29, 347.17, 325.18, 271.0, 178.55, 65.63, 121.37, 78.28, 50.86, 102.81, 171.91, 225.45, 220.04, 159.81, 146.51, 193.17, 111.46, 116.69, 94.18, 115.2, 65.74, 42.4, 82.11, 167.54, 156.99, 136.78, 110.47, 129.55, 178.07, 111.74, 152.8, 69.17, 95.19, 91.88, 123.31, 194.3, 159.88, 171.03, 173.07, 106.82, 157.57, 160.11, 91.12, 174.88, 117.49, 128.36, 114.09, 196.01, 184.44, 143.17, 189.3, 170.1, 209.81, 174.47, 136.29, 139.28, 79.6, 76.27, 118.17, 107.25, 121.44, 244.19, 193.95, 389.93, 287.1, 187.43, 141.5, 177.43, 113.8, 117.87, 125.0, 220.4, 262.74, 185.65, 272.51, 286.37, 264.6, 188.61, 274.1, 215.61, 176.14, 231.76, 175.87, 292.19, 521.77, 288.59, 227.81, 346.7, 259.07, 190.64, 163.42, 187.0, 168.29, 201.44, 244.39, 257.52, 279.95, 277.12, 306.01, 214.0, 224.2, 278.9, 209.01, 182.73, 110.49, 214.87, 141.49, 143.3, 159.37, 317.1, 298.85, 246.26, 199.57, 192.16, 209.53, 174.02, 142.08, 228.72, 236.92, 293.24, 256.51, 271.24, 321.66, 260.42, 320.63, 173.0, 278.57, 219.55, 227.41, 270.07, 284.27, 612.68, 446.56, 536.46, 362.68, 412.77, 392.89, 351.72, 243.96, 299.5, 187.68, 275.47, 418.0, 492.07, 537.49, 545.8, 451.73, 452.35, 352.48, 304.76, 274.07, 254.62, 260.82, 402.98, 347.23, 455.39, 440.73, 463.23, 344.75, 514.84, 457.92, 417.68, 358.34, 388.55, 244.24, 477.7, 525.58, 608.82, 652.05, 462.3, 464.6, 513.6, 545.39, 445.86, 360.72, 378.5, 357.43, 399.32, 469.1, 671.05, 534.86, 703.82, 691.38, 606.71, 732.56, 590.36, 460.39, 333.09, 355.0, 309.7, 604.02, 650.2, 618.28, 769.79, 619.41, 727.09, 578.55, 716.61, 505.53, 495.24, 269.93, 362.62, 709.27, 743.58, 918.2, 657.24, 847.0, 586.12, 532.71, 470.49, 408.17, 407.49, 300.53, 545.18, 468.73, 633.01, 620.17, 638.93, 429.74, 427.06, 527.73, 435.84, 386.6, 420.83, 281.04, 470.64, 452.2, 661.86, 568.49, 557.48, 462.0, 366.7, 277.46, 302.07, 372.0, 535.66, 240.44, 434.2, 470.11, 568.28, 472.62, 402.7, 426.04, 389.05, 423.42, 374.57, 236.11, 395.31, 481.51, 507.09, 614.21, 709.93, 630.04, 724.68, 619.15, 495.83, 437.84, 441.22, 567.23, 471.69, 314.02, 521.87, 500.72, 566.78, 543.8, 527.98, 471.88, 444.07, 476.88, 413.25, 543.73]}, {\"mode\": \"lines\", \"name\": \"soybean oil\", \"type\": \"scatter\", \"x\": [\"1997-01-01\", \"1997-02-01\", \"1997-03-01\", \"1997-04-01\", \"1997-05-01\", \"1997-06-01\", \"1997-07-01\", \"1997-08-01\", \"1997-09-01\", \"1997-10-01\", \"1997-11-01\", \"1997-12-01\", \"1998-01-01\", \"1998-02-01\", \"1998-03-01\", \"1998-04-01\", \"1998-05-01\", \"1998-06-01\", \"1998-07-01\", \"1998-08-01\", \"1998-09-01\", \"1998-10-01\", \"1998-11-01\", \"1998-12-01\", \"1999-01-01\", \"1999-02-01\", \"1999-03-01\", \"1999-04-01\", \"1999-05-01\", \"1999-06-01\", \"1999-07-01\", \"1999-08-01\", \"1999-09-01\", \"1999-10-01\", \"1999-11-01\", \"1999-12-01\", \"2000-01-01\", \"2000-02-01\", \"2000-03-01\", \"2000-04-01\", \"2000-05-01\", \"2000-06-01\", \"2000-07-01\", \"2000-08-01\", \"2000-09-01\", \"2000-10-01\", \"2000-11-01\", \"2000-12-01\", \"2001-01-01\", \"2001-02-01\", \"2001-03-01\", \"2001-04-01\", \"2001-05-01\", \"2001-06-01\", \"2001-07-01\", \"2001-08-01\", \"2001-09-01\", \"2001-10-01\", \"2001-11-01\", \"2001-12-01\", \"2002-01-01\", \"2002-02-01\", \"2002-03-01\", \"2002-04-01\", \"2002-05-01\", \"2002-06-01\", \"2002-07-01\", \"2002-08-01\", \"2002-09-01\", \"2002-10-01\", \"2002-11-01\", \"2002-12-01\", \"2003-01-01\", \"2003-02-01\", \"2003-03-01\", \"2003-04-01\", \"2003-05-01\", \"2003-06-01\", \"2003-07-01\", \"2003-08-01\", \"2003-09-01\", \"2003-10-01\", \"2003-11-01\", \"2003-12-01\", \"2004-01-01\", \"2004-02-01\", \"2004-03-01\", \"2004-04-01\", \"2004-05-01\", \"2004-06-01\", \"2004-07-01\", \"2004-08-01\", \"2004-09-01\", \"2004-10-01\", \"2004-11-01\", \"2004-12-01\", \"2005-01-01\", \"2005-02-01\", \"2005-03-01\", \"2005-04-01\", \"2005-05-01\", \"2005-06-01\", \"2005-07-01\", \"2005-08-01\", \"2005-09-01\", \"2005-10-01\", \"2005-11-01\", \"2005-12-01\", \"2006-01-01\", \"2006-02-01\", \"2006-03-01\", \"2006-04-01\", \"2006-05-01\", \"2006-06-01\", \"2006-07-01\", \"2006-08-01\", \"2006-09-01\", \"2006-10-01\", \"2006-11-01\", \"2006-12-01\", \"2007-01-01\", \"2007-02-01\", \"2007-03-01\", \"2007-04-01\", \"2007-05-01\", \"2007-06-01\", \"2007-07-01\", \"2007-08-01\", \"2007-09-01\", \"2007-10-01\", \"2007-11-01\", \"2007-12-01\", \"2008-01-01\", \"2008-02-01\", \"2008-03-01\", \"2008-04-01\", \"2008-05-01\", \"2008-06-01\", \"2008-07-01\", \"2008-08-01\", \"2008-09-01\", \"2008-10-01\", \"2008-11-01\", \"2008-12-01\", \"2009-01-01\", \"2009-02-01\", \"2009-03-01\", \"2009-04-01\", \"2009-05-01\", \"2009-06-01\", \"2009-07-01\", \"2009-08-01\", \"2009-09-01\", \"2009-10-01\", \"2009-11-01\", \"2009-12-01\", \"2010-01-01\", \"2010-02-01\", \"2010-03-01\", \"2010-04-01\", \"2010-05-01\", \"2010-06-01\", \"2010-07-01\", \"2010-08-01\", \"2010-09-01\", \"2010-10-01\", \"2010-11-01\", \"2010-12-01\", \"2011-01-01\", \"2011-02-01\", \"2011-03-01\", \"2011-04-01\", \"2011-05-01\", \"2011-06-01\", \"2011-07-01\", \"2011-08-01\", \"2011-09-01\", \"2011-10-01\", \"2011-11-01\", \"2011-12-01\", \"2012-01-01\", \"2012-02-01\", \"2012-03-01\", \"2012-04-01\", \"2012-05-01\", \"2012-06-01\", \"2012-07-01\", \"2012-08-01\", \"2012-09-01\", \"2012-10-01\", \"2012-11-01\", \"2012-12-01\", \"2013-01-01\", \"2013-02-01\", \"2013-03-01\", \"2013-04-01\", \"2013-05-01\", \"2013-06-01\", \"2013-07-01\", \"2013-08-01\", \"2013-09-01\", \"2013-10-01\", \"2013-11-01\", \"2013-12-01\", \"2014-01-01\", \"2014-02-01\", \"2014-03-01\", \"2014-04-01\", \"2014-05-01\", \"2014-06-01\", \"2014-07-01\", \"2014-08-01\", \"2014-09-01\", \"2014-10-01\", \"2014-11-01\", \"2014-12-01\", \"2015-01-01\", \"2015-02-01\", \"2015-03-01\", \"2015-04-01\", \"2015-05-01\", \"2015-06-01\", \"2015-07-01\", \"2015-08-01\", \"2015-09-01\", \"2015-10-01\", \"2015-11-01\", \"2015-12-01\", \"2016-01-01\", \"2016-02-01\", \"2016-03-01\", \"2016-04-01\", \"2016-05-01\", \"2016-06-01\", \"2016-07-01\", \"2016-08-01\", \"2016-09-01\", \"2016-10-01\", \"2016-11-01\", \"2016-12-01\", \"2017-01-01\", \"2017-02-01\", \"2017-03-01\", \"2017-04-01\", \"2017-05-01\", \"2017-06-01\", \"2017-07-01\", \"2017-08-01\", \"2017-09-01\", \"2017-10-01\", \"2017-11-01\", \"2017-12-01\", \"2018-01-01\", \"2018-02-01\", \"2018-03-01\", \"2018-04-01\", \"2018-05-01\", \"2018-06-01\", \"2018-07-01\", \"2018-08-01\", \"2018-09-01\", \"2018-10-01\", \"2018-11-01\", \"2018-12-01\", \"2019-01-01\", \"2019-02-01\", \"2019-03-01\", \"2019-04-01\", \"2019-05-01\", \"2019-06-01\", \"2019-07-01\", \"2019-08-01\", \"2019-09-01\", \"2019-10-01\", \"2019-11-01\", \"2019-12-01\"], \"y\": [34.72, 18.35, 11.66, 84.03, 81.41, 105.43, 94.71, 56.15, 64.02, 14.24, 10.3, 17.31, 13.6, 5.57, 26.9, 92.67, 65.27, 136.44, 139.99, 79.56, 82.35, 36.13, 60.03, 53.06, 37.92, 45.52, 48.47, 57.9, 97.31, 120.59, 13.76, 65.21, 38.89, 79.25, 12.17, 49.15, 13.13, 9.71, 16.25, 31.15, 40.17, 37.4, 39.87, 55.93, 24.97, 17.3, 34.12, 35.44, 27.44, 12.75, 30.98, 36.02, 33.56, 49.62, 35.32, 65.77, 47.23, 44.68, 45.77, 41.19, 20.48, 26.06, 23.53, 21.98, 40.64, 32.81, 75.33, 53.96, 202.23, 133.1, 87.12, 23.88, 110.09, 50.52, 59.24, 68.28, 101.35, 94.91, 114.55, 128.89, 100.22, 139.16, 87.4, 125.23, 85.92, 96.33, 106.47, 68.31, 87.77, 243.98, 147.04, 179.9, 124.09, 60.19, 91.73, 80.94, 79.71, 90.61, 103.08, 67.71, 110.44, 129.83, 136.68, 116.28, 73.2, 116.22, 114.32, 114.69, 70.53, 64.63, 93.55, 70.73, 61.61, 90.38, 140.43, 142.44, 92.39, 137.63, 117.24, 141.09, 36.54, 51.64, 120.88, 122.28, 176.31, 157.73, 194.0, 196.11, 162.95, 232.63, 170.3, 97.39, 232.9, 146.57, 140.69, 176.99, 274.25, 234.55, 391.37, 263.47, 308.21, 249.7, 136.77, 113.66, 85.95, 43.26, 121.21, 125.93, 103.23, 141.5, 190.26, 171.4, 83.64, 106.23, 40.47, 14.66, 16.04, 55.94, 53.37, 104.99, 110.16, 204.74, 225.92, 159.81, 106.5, 97.2, 128.34, 84.64, 102.36, 161.65, 186.05, 99.55, 209.72, 238.21, 244.22, 181.83, 242.92, 112.48, 212.48, 130.49, 112.71, 113.89, 225.18, 170.3, 380.23, 181.27, 191.48, 223.8, 151.61, 157.7, 92.25, 66.14, 39.31, 39.48, 154.67, 125.03, 141.43, 128.96, 121.15, 107.28, 164.26, 166.13, 91.25, 83.74, 72.1, 34.64, 113.44, 109.92, 112.17, 134.13, 130.85, 128.95, 59.34, 88.09, 79.79, 64.66, 79.2, 79.12, 49.78, 92.63, 91.85, 102.49, 70.18, 180.58, 111.05, 108.11, 73.66, 115.34, 52.66, 38.28, 79.22, 59.72, 128.76, 122.55, 61.06, 117.51, 108.26, 11.85, 58.47, 59.17, 60.55, 64.48, 89.65, 134.1, 89.79, 132.16, 114.81, 115.17, 22.94, 100.83, 66.74, 39.73, 42.21, 99.83, 84.49, 129.15, 96.9, 93.83, 151.1, 148.04, 62.18, 64.28, 21.02, 32.19, 32.2, 27.18, 56.43, 47.91, 133.64, 90.36, 82.39, 71.36, 53.72, 45.52, 17.69, 29.86]}],\n",
              "                        {\"template\": {\"data\": {\"bar\": [{\"error_x\": {\"color\": \"#2a3f5f\"}, \"error_y\": {\"color\": \"#2a3f5f\"}, \"marker\": {\"line\": {\"color\": \"#E5ECF6\", \"width\": 0.5}}, \"type\": \"bar\"}], \"barpolar\": [{\"marker\": {\"line\": {\"color\": \"#E5ECF6\", \"width\": 0.5}}, \"type\": \"barpolar\"}], \"carpet\": [{\"aaxis\": {\"endlinecolor\": \"#2a3f5f\", \"gridcolor\": \"white\", \"linecolor\": \"white\", \"minorgridcolor\": \"white\", \"startlinecolor\": \"#2a3f5f\"}, \"baxis\": {\"endlinecolor\": \"#2a3f5f\", \"gridcolor\": \"white\", \"linecolor\": \"white\", \"minorgridcolor\": \"white\", \"startlinecolor\": \"#2a3f5f\"}, \"type\": \"carpet\"}], \"choropleth\": [{\"colorbar\": {\"outlinewidth\": 0, \"ticks\": \"\"}, \"type\": \"choropleth\"}], \"contour\": [{\"colorbar\": {\"outlinewidth\": 0, \"ticks\": \"\"}, \"colorscale\": [[0.0, \"#0d0887\"], [0.1111111111111111, \"#46039f\"], [0.2222222222222222, \"#7201a8\"], [0.3333333333333333, \"#9c179e\"], [0.4444444444444444, \"#bd3786\"], [0.5555555555555556, \"#d8576b\"], [0.6666666666666666, \"#ed7953\"], [0.7777777777777778, \"#fb9f3a\"], [0.8888888888888888, \"#fdca26\"], [1.0, \"#f0f921\"]], \"type\": \"contour\"}], \"contourcarpet\": [{\"colorbar\": {\"outlinewidth\": 0, \"ticks\": \"\"}, \"type\": \"contourcarpet\"}], \"heatmap\": [{\"colorbar\": {\"outlinewidth\": 0, \"ticks\": \"\"}, \"colorscale\": [[0.0, \"#0d0887\"], [0.1111111111111111, \"#46039f\"], [0.2222222222222222, \"#7201a8\"], [0.3333333333333333, \"#9c179e\"], [0.4444444444444444, \"#bd3786\"], [0.5555555555555556, \"#d8576b\"], [0.6666666666666666, \"#ed7953\"], [0.7777777777777778, \"#fb9f3a\"], [0.8888888888888888, \"#fdca26\"], [1.0, \"#f0f921\"]], \"type\": \"heatmap\"}], \"heatmapgl\": [{\"colorbar\": {\"outlinewidth\": 0, \"ticks\": \"\"}, \"colorscale\": [[0.0, \"#0d0887\"], [0.1111111111111111, \"#46039f\"], [0.2222222222222222, \"#7201a8\"], [0.3333333333333333, \"#9c179e\"], [0.4444444444444444, \"#bd3786\"], [0.5555555555555556, \"#d8576b\"], [0.6666666666666666, \"#ed7953\"], [0.7777777777777778, \"#fb9f3a\"], [0.8888888888888888, \"#fdca26\"], [1.0, \"#f0f921\"]], \"type\": \"heatmapgl\"}], \"histogram\": [{\"marker\": {\"colorbar\": {\"outlinewidth\": 0, \"ticks\": \"\"}}, \"type\": \"histogram\"}], \"histogram2d\": [{\"colorbar\": {\"outlinewidth\": 0, \"ticks\": \"\"}, \"colorscale\": [[0.0, \"#0d0887\"], [0.1111111111111111, \"#46039f\"], [0.2222222222222222, \"#7201a8\"], [0.3333333333333333, \"#9c179e\"], [0.4444444444444444, \"#bd3786\"], [0.5555555555555556, \"#d8576b\"], [0.6666666666666666, \"#ed7953\"], [0.7777777777777778, \"#fb9f3a\"], [0.8888888888888888, \"#fdca26\"], [1.0, \"#f0f921\"]], \"type\": \"histogram2d\"}], \"histogram2dcontour\": [{\"colorbar\": {\"outlinewidth\": 0, \"ticks\": \"\"}, \"colorscale\": [[0.0, \"#0d0887\"], [0.1111111111111111, \"#46039f\"], [0.2222222222222222, \"#7201a8\"], [0.3333333333333333, \"#9c179e\"], [0.4444444444444444, \"#bd3786\"], [0.5555555555555556, \"#d8576b\"], [0.6666666666666666, \"#ed7953\"], [0.7777777777777778, \"#fb9f3a\"], [0.8888888888888888, \"#fdca26\"], [1.0, \"#f0f921\"]], \"type\": \"histogram2dcontour\"}], \"mesh3d\": [{\"colorbar\": {\"outlinewidth\": 0, \"ticks\": \"\"}, \"type\": \"mesh3d\"}], \"parcoords\": [{\"line\": {\"colorbar\": {\"outlinewidth\": 0, \"ticks\": \"\"}}, \"type\": \"parcoords\"}], \"pie\": [{\"automargin\": true, \"type\": \"pie\"}], \"scatter\": [{\"marker\": {\"colorbar\": {\"outlinewidth\": 0, \"ticks\": \"\"}}, \"type\": \"scatter\"}], \"scatter3d\": [{\"line\": {\"colorbar\": {\"outlinewidth\": 0, \"ticks\": \"\"}}, \"marker\": {\"colorbar\": {\"outlinewidth\": 0, \"ticks\": \"\"}}, \"type\": \"scatter3d\"}], \"scattercarpet\": [{\"marker\": {\"colorbar\": {\"outlinewidth\": 0, \"ticks\": \"\"}}, \"type\": \"scattercarpet\"}], \"scattergeo\": [{\"marker\": {\"colorbar\": {\"outlinewidth\": 0, \"ticks\": \"\"}}, \"type\": \"scattergeo\"}], \"scattergl\": [{\"marker\": {\"colorbar\": {\"outlinewidth\": 0, \"ticks\": \"\"}}, \"type\": \"scattergl\"}], \"scattermapbox\": [{\"marker\": {\"colorbar\": {\"outlinewidth\": 0, \"ticks\": \"\"}}, \"type\": \"scattermapbox\"}], \"scatterpolar\": [{\"marker\": {\"colorbar\": {\"outlinewidth\": 0, \"ticks\": \"\"}}, \"type\": \"scatterpolar\"}], \"scatterpolargl\": [{\"marker\": {\"colorbar\": {\"outlinewidth\": 0, \"ticks\": \"\"}}, \"type\": \"scatterpolargl\"}], \"scatterternary\": [{\"marker\": {\"colorbar\": {\"outlinewidth\": 0, \"ticks\": \"\"}}, \"type\": \"scatterternary\"}], \"surface\": [{\"colorbar\": {\"outlinewidth\": 0, \"ticks\": \"\"}, \"colorscale\": [[0.0, \"#0d0887\"], [0.1111111111111111, \"#46039f\"], [0.2222222222222222, \"#7201a8\"], [0.3333333333333333, \"#9c179e\"], [0.4444444444444444, \"#bd3786\"], [0.5555555555555556, \"#d8576b\"], [0.6666666666666666, \"#ed7953\"], [0.7777777777777778, \"#fb9f3a\"], [0.8888888888888888, \"#fdca26\"], [1.0, \"#f0f921\"]], \"type\": \"surface\"}], \"table\": [{\"cells\": {\"fill\": {\"color\": \"#EBF0F8\"}, \"line\": {\"color\": \"white\"}}, \"header\": {\"fill\": {\"color\": \"#C8D4E3\"}, \"line\": {\"color\": \"white\"}}, \"type\": \"table\"}]}, \"layout\": {\"annotationdefaults\": {\"arrowcolor\": \"#2a3f5f\", \"arrowhead\": 0, \"arrowwidth\": 1}, \"coloraxis\": {\"colorbar\": {\"outlinewidth\": 0, \"ticks\": \"\"}}, \"colorscale\": {\"diverging\": [[0, \"#8e0152\"], [0.1, \"#c51b7d\"], [0.2, \"#de77ae\"], [0.3, \"#f1b6da\"], [0.4, \"#fde0ef\"], [0.5, \"#f7f7f7\"], [0.6, \"#e6f5d0\"], [0.7, \"#b8e186\"], [0.8, \"#7fbc41\"], [0.9, \"#4d9221\"], [1, \"#276419\"]], \"sequential\": [[0.0, \"#0d0887\"], [0.1111111111111111, \"#46039f\"], [0.2222222222222222, \"#7201a8\"], [0.3333333333333333, \"#9c179e\"], [0.4444444444444444, \"#bd3786\"], [0.5555555555555556, \"#d8576b\"], [0.6666666666666666, \"#ed7953\"], [0.7777777777777778, \"#fb9f3a\"], [0.8888888888888888, \"#fdca26\"], [1.0, \"#f0f921\"]], \"sequentialminus\": [[0.0, \"#0d0887\"], [0.1111111111111111, \"#46039f\"], [0.2222222222222222, \"#7201a8\"], [0.3333333333333333, \"#9c179e\"], [0.4444444444444444, \"#bd3786\"], [0.5555555555555556, \"#d8576b\"], [0.6666666666666666, \"#ed7953\"], [0.7777777777777778, \"#fb9f3a\"], [0.8888888888888888, \"#fdca26\"], [1.0, \"#f0f921\"]]}, \"colorway\": [\"#636efa\", \"#EF553B\", \"#00cc96\", \"#ab63fa\", \"#FFA15A\", \"#19d3f3\", \"#FF6692\", \"#B6E880\", \"#FF97FF\", \"#FECB52\"], \"font\": {\"color\": \"#2a3f5f\"}, \"geo\": {\"bgcolor\": \"white\", \"lakecolor\": \"white\", \"landcolor\": \"#E5ECF6\", \"showlakes\": true, \"showland\": true, \"subunitcolor\": \"white\"}, \"hoverlabel\": {\"align\": \"left\"}, \"hovermode\": \"closest\", \"mapbox\": {\"style\": \"light\"}, \"paper_bgcolor\": \"white\", \"plot_bgcolor\": \"#E5ECF6\", \"polar\": {\"angularaxis\": {\"gridcolor\": \"white\", \"linecolor\": \"white\", \"ticks\": \"\"}, \"bgcolor\": \"#E5ECF6\", \"radialaxis\": {\"gridcolor\": \"white\", \"linecolor\": \"white\", \"ticks\": \"\"}}, \"scene\": {\"xaxis\": {\"backgroundcolor\": \"#E5ECF6\", \"gridcolor\": \"white\", \"gridwidth\": 2, \"linecolor\": \"white\", \"showbackground\": true, \"ticks\": \"\", \"zerolinecolor\": \"white\"}, \"yaxis\": {\"backgroundcolor\": \"#E5ECF6\", \"gridcolor\": \"white\", \"gridwidth\": 2, \"linecolor\": \"white\", \"showbackground\": true, \"ticks\": \"\", \"zerolinecolor\": \"white\"}, \"zaxis\": {\"backgroundcolor\": \"#E5ECF6\", \"gridcolor\": \"white\", \"gridwidth\": 2, \"linecolor\": \"white\", \"showbackground\": true, \"ticks\": \"\", \"zerolinecolor\": \"white\"}}, \"shapedefaults\": {\"line\": {\"color\": \"#2a3f5f\"}}, \"ternary\": {\"aaxis\": {\"gridcolor\": \"white\", \"linecolor\": \"white\", \"ticks\": \"\"}, \"baxis\": {\"gridcolor\": \"white\", \"linecolor\": \"white\", \"ticks\": \"\"}, \"bgcolor\": \"#E5ECF6\", \"caxis\": {\"gridcolor\": \"white\", \"linecolor\": \"white\", \"ticks\": \"\"}}, \"title\": {\"x\": 0.05}, \"xaxis\": {\"automargin\": true, \"gridcolor\": \"white\", \"linecolor\": \"white\", \"ticks\": \"\", \"title\": {\"standoff\": 15}, \"zerolinecolor\": \"white\", \"zerolinewidth\": 2}, \"yaxis\": {\"automargin\": true, \"gridcolor\": \"white\", \"linecolor\": \"white\", \"ticks\": \"\", \"title\": {\"standoff\": 15}, \"zerolinecolor\": \"white\", \"zerolinewidth\": 2}}}, \"title\": {\"text\": \"Brazil's soybean related products exports (monthly millon of USD)\"}, \"xaxis\": {\"showgrid\": true, \"showline\": true, \"showticklabels\": true, \"title\": {\"text\": \"date\"}, \"type\": \"category\", \"zeroline\": true}, \"yaxis\": {\"title\": {\"text\": \"USD Millions\"}, \"type\": \"log\"}},\n",
              "                        {\"responsive\": true}\n",
              "                    ).then(function(){\n",
              "                            \n",
              "var gd = document.getElementById('fdc984cd-6f04-454f-be0d-566e5f6a7f99');\n",
              "var x = new MutationObserver(function (mutations, observer) {{\n",
              "        var display = window.getComputedStyle(gd).display;\n",
              "        if (!display || display === 'none') {{\n",
              "            console.log([gd, 'removed!']);\n",
              "            Plotly.purge(gd);\n",
              "            observer.disconnect();\n",
              "        }}\n",
              "}});\n",
              "\n",
              "// Listen for the removal of the full notebook cells\n",
              "var notebookContainer = gd.closest('#notebook-container');\n",
              "if (notebookContainer) {{\n",
              "    x.observe(notebookContainer, {childList: true});\n",
              "}}\n",
              "\n",
              "// Listen for the clearing of the current output cell\n",
              "var outputEl = gd.closest('.output');\n",
              "if (outputEl) {{\n",
              "    x.observe(outputEl, {childList: true});\n",
              "}}\n",
              "\n",
              "                        })\n",
              "                };\n",
              "                \n",
              "            </script>\n",
              "        </div>\n",
              "</body>\n",
              "</html>"
            ]
          },
          "metadata": {
            "tags": []
          }
        }
      ]
    },
    {
      "cell_type": "markdown",
      "metadata": {
        "id": "yg1ldRmzGczy"
      },
      "source": [
        "#2.What are the 3 most important products exported by Brazil in the last 5 years?#"
      ]
    },
    {
      "cell_type": "code",
      "metadata": {
        "id": "4xJdMYghGcA9"
      },
      "source": [
        "import sqlite3\r\n"
      ],
      "execution_count": 1,
      "outputs": []
    },
    {
      "cell_type": "code",
      "metadata": {
        "colab": {
          "base_uri": "https://localhost:8080/",
          "height": 227
        },
        "id": "AlG2evTCGrhz",
        "outputId": "934c7e33-bb8a-4782-d880-68f209e1a12f"
      },
      "source": [
        "connection=sqlite3.connect('Brasildb.db')\r\n",
        "\r\n",
        "sql=\"SELECT product,type,SUM(total_tons) AS total_tons,SUM(total_usd) AS total_income,group_concat(distinct(year)) as years FROM (SELECT product,type,SUM(tons) AS total_tons,SUM(usd) AS total_usd,SUBSTR(date,1,4) as year FROM brasil WHERE type='Export' GROUP BY year,product ORDER BY year DESC limit 30) GROUP BY product ORDER BY total_income DESC\"\r\n",
        "df=pd.read_sql_query(sql,connection)\r\n",
        "df"
      ],
      "execution_count": 15,
      "outputs": [
        {
          "output_type": "execute_result",
          "data": {
            "text/html": [
              "<div>\n",
              "<style scoped>\n",
              "    .dataframe tbody tr th:only-of-type {\n",
              "        vertical-align: middle;\n",
              "    }\n",
              "\n",
              "    .dataframe tbody tr th {\n",
              "        vertical-align: top;\n",
              "    }\n",
              "\n",
              "    .dataframe thead th {\n",
              "        text-align: right;\n",
              "    }\n",
              "</style>\n",
              "<table border=\"1\" class=\"dataframe\">\n",
              "  <thead>\n",
              "    <tr style=\"text-align: right;\">\n",
              "      <th></th>\n",
              "      <th>product</th>\n",
              "      <th>type</th>\n",
              "      <th>total_tons</th>\n",
              "      <th>total_income</th>\n",
              "      <th>years</th>\n",
              "    </tr>\n",
              "  </thead>\n",
              "  <tbody>\n",
              "    <tr>\n",
              "      <th>0</th>\n",
              "      <td>soybeans</td>\n",
              "      <td>Export</td>\n",
              "      <td>3.263315e+08</td>\n",
              "      <td>123325529857</td>\n",
              "      <td>2019,2018,2017,2016,2015</td>\n",
              "    </tr>\n",
              "    <tr>\n",
              "      <th>1</th>\n",
              "      <td>sugar</td>\n",
              "      <td>Export</td>\n",
              "      <td>1.200336e+08</td>\n",
              "      <td>40938486021</td>\n",
              "      <td>2019,2018,2017,2016,2015</td>\n",
              "    </tr>\n",
              "    <tr>\n",
              "      <th>2</th>\n",
              "      <td>soybean_meal</td>\n",
              "      <td>Export</td>\n",
              "      <td>7.664749e+07</td>\n",
              "      <td>28407723437</td>\n",
              "      <td>2019,2018,2017,2016,2015</td>\n",
              "    </tr>\n",
              "    <tr>\n",
              "      <th>3</th>\n",
              "      <td>corn</td>\n",
              "      <td>Export</td>\n",
              "      <td>1.445993e+08</td>\n",
              "      <td>24447720910</td>\n",
              "      <td>2019,2018,2017,2016,2015</td>\n",
              "    </tr>\n",
              "    <tr>\n",
              "      <th>4</th>\n",
              "      <td>soybean_oil</td>\n",
              "      <td>Export</td>\n",
              "      <td>6.711428e+06</td>\n",
              "      <td>4795946873</td>\n",
              "      <td>2019,2018,2017,2016,2015</td>\n",
              "    </tr>\n",
              "    <tr>\n",
              "      <th>5</th>\n",
              "      <td>wheat</td>\n",
              "      <td>Export</td>\n",
              "      <td>3.885836e+06</td>\n",
              "      <td>726945386</td>\n",
              "      <td>2019,2018,2017,2016,2015</td>\n",
              "    </tr>\n",
              "  </tbody>\n",
              "</table>\n",
              "</div>"
            ],
            "text/plain": [
              "        product    type    total_tons  total_income                     years\n",
              "0      soybeans  Export  3.263315e+08  123325529857  2019,2018,2017,2016,2015\n",
              "1         sugar  Export  1.200336e+08   40938486021  2019,2018,2017,2016,2015\n",
              "2  soybean_meal  Export  7.664749e+07   28407723437  2019,2018,2017,2016,2015\n",
              "3          corn  Export  1.445993e+08   24447720910  2019,2018,2017,2016,2015\n",
              "4   soybean_oil  Export  6.711428e+06    4795946873  2019,2018,2017,2016,2015\n",
              "5         wheat  Export  3.885836e+06     726945386  2019,2018,2017,2016,2015"
            ]
          },
          "metadata": {
            "tags": []
          },
          "execution_count": 15
        }
      ]
    },
    {
      "cell_type": "markdown",
      "metadata": {
        "id": "kcmM62kpJTrS"
      },
      "source": [
        "Acording to this query, soybeans,sugar and soybean_meal are the products with more income betwen 2015 and 2019"
      ]
    },
    {
      "cell_type": "markdown",
      "metadata": {
        "id": "5WACz0FxPhf8"
      },
      "source": [
        "#3.What are the main routes through which Brazil have been exporting ‘corn’ in the last few years? Are there differences in the relative importancem of routes depending on the product?#"
      ]
    },
    {
      "cell_type": "markdown",
      "metadata": {
        "id": "SKX1ANOIW7Aj"
      },
      "source": [
        "Top 10 countries for Brasil's income (last 5 years)."
      ]
    },
    {
      "cell_type": "code",
      "metadata": {
        "colab": {
          "base_uri": "https://localhost:8080/",
          "height": 347
        },
        "id": "m9XJKp1zXVFC",
        "outputId": "a2390ad1-eafa-4b4c-97a7-7c18ee9b77b7"
      },
      "source": [
        "sql=\"SELECT product,country,type,SUM(total_tons),SUM(total_usd) AS income,group_concat(distinct(year)) AS years FROM (SELECT product,country,type,SUM(tons) AS total_tons,SUM(usd) AS total_usd,SUBSTR(date,1,4) AS year FROM brasil WHERE product='corn' AND type='Export'  GROUP BY country,year ORDER BY year DESC) WHERE year IN('2019','2018','2017','2016','2015') GROUP BY country ORDER BY income DESC limit 10;\"\r\n",
        "df=pd.read_sql_query(sql,connection)\r\n",
        "df"
      ],
      "execution_count": 19,
      "outputs": [
        {
          "output_type": "execute_result",
          "data": {
            "text/html": [
              "<div>\n",
              "<style scoped>\n",
              "    .dataframe tbody tr th:only-of-type {\n",
              "        vertical-align: middle;\n",
              "    }\n",
              "\n",
              "    .dataframe tbody tr th {\n",
              "        vertical-align: top;\n",
              "    }\n",
              "\n",
              "    .dataframe thead th {\n",
              "        text-align: right;\n",
              "    }\n",
              "</style>\n",
              "<table border=\"1\" class=\"dataframe\">\n",
              "  <thead>\n",
              "    <tr style=\"text-align: right;\">\n",
              "      <th></th>\n",
              "      <th>product</th>\n",
              "      <th>country</th>\n",
              "      <th>type</th>\n",
              "      <th>SUM(total_tons)</th>\n",
              "      <th>income</th>\n",
              "      <th>years</th>\n",
              "    </tr>\n",
              "  </thead>\n",
              "  <tbody>\n",
              "    <tr>\n",
              "      <th>0</th>\n",
              "      <td>corn</td>\n",
              "      <td>Iran</td>\n",
              "      <td>Export</td>\n",
              "      <td>2.542442e+07</td>\n",
              "      <td>4355009225</td>\n",
              "      <td>2019,2018,2017,2016,2015</td>\n",
              "    </tr>\n",
              "    <tr>\n",
              "      <th>1</th>\n",
              "      <td>corn</td>\n",
              "      <td>Vietnam</td>\n",
              "      <td>Export</td>\n",
              "      <td>1.715525e+07</td>\n",
              "      <td>2861495041</td>\n",
              "      <td>2019,2018,2017,2016,2015</td>\n",
              "    </tr>\n",
              "    <tr>\n",
              "      <th>2</th>\n",
              "      <td>corn</td>\n",
              "      <td>Japan</td>\n",
              "      <td>Export</td>\n",
              "      <td>1.514805e+07</td>\n",
              "      <td>2491580712</td>\n",
              "      <td>2019,2018,2017,2016,2015</td>\n",
              "    </tr>\n",
              "    <tr>\n",
              "      <th>3</th>\n",
              "      <td>corn</td>\n",
              "      <td>Egypt</td>\n",
              "      <td>Export</td>\n",
              "      <td>1.185411e+07</td>\n",
              "      <td>1960180368</td>\n",
              "      <td>2019,2018,2017,2016,2015</td>\n",
              "    </tr>\n",
              "    <tr>\n",
              "      <th>4</th>\n",
              "      <td>corn</td>\n",
              "      <td>South Korea</td>\n",
              "      <td>Export</td>\n",
              "      <td>1.075983e+07</td>\n",
              "      <td>1779314393</td>\n",
              "      <td>2019,2018,2017,2016,2015</td>\n",
              "    </tr>\n",
              "    <tr>\n",
              "      <th>5</th>\n",
              "      <td>corn</td>\n",
              "      <td>Spain</td>\n",
              "      <td>Export</td>\n",
              "      <td>9.489946e+06</td>\n",
              "      <td>1544011773</td>\n",
              "      <td>2019,2018,2017,2016,2015</td>\n",
              "    </tr>\n",
              "    <tr>\n",
              "      <th>6</th>\n",
              "      <td>corn</td>\n",
              "      <td>Taiwan</td>\n",
              "      <td>Export</td>\n",
              "      <td>8.652891e+06</td>\n",
              "      <td>1419631894</td>\n",
              "      <td>2019,2018,2017,2016,2015</td>\n",
              "    </tr>\n",
              "    <tr>\n",
              "      <th>7</th>\n",
              "      <td>corn</td>\n",
              "      <td>Malaysia</td>\n",
              "      <td>Export</td>\n",
              "      <td>7.529986e+06</td>\n",
              "      <td>1257990909</td>\n",
              "      <td>2019,2018,2017,2016,2015</td>\n",
              "    </tr>\n",
              "    <tr>\n",
              "      <th>8</th>\n",
              "      <td>corn</td>\n",
              "      <td>Bangladesh</td>\n",
              "      <td>Export</td>\n",
              "      <td>4.142142e+06</td>\n",
              "      <td>675448840</td>\n",
              "      <td>2019,2018,2017,2016,2015</td>\n",
              "    </tr>\n",
              "    <tr>\n",
              "      <th>9</th>\n",
              "      <td>corn</td>\n",
              "      <td>Saudi Arabia</td>\n",
              "      <td>Export</td>\n",
              "      <td>3.222762e+06</td>\n",
              "      <td>533725751</td>\n",
              "      <td>2019,2018,2017,2016,2015</td>\n",
              "    </tr>\n",
              "  </tbody>\n",
              "</table>\n",
              "</div>"
            ],
            "text/plain": [
              "  product       country  ...      income                     years\n",
              "0    corn          Iran  ...  4355009225  2019,2018,2017,2016,2015\n",
              "1    corn       Vietnam  ...  2861495041  2019,2018,2017,2016,2015\n",
              "2    corn         Japan  ...  2491580712  2019,2018,2017,2016,2015\n",
              "3    corn         Egypt  ...  1960180368  2019,2018,2017,2016,2015\n",
              "4    corn   South Korea  ...  1779314393  2019,2018,2017,2016,2015\n",
              "5    corn         Spain  ...  1544011773  2019,2018,2017,2016,2015\n",
              "6    corn        Taiwan  ...  1419631894  2019,2018,2017,2016,2015\n",
              "7    corn      Malaysia  ...  1257990909  2019,2018,2017,2016,2015\n",
              "8    corn    Bangladesh  ...   675448840  2019,2018,2017,2016,2015\n",
              "9    corn  Saudi Arabia  ...   533725751  2019,2018,2017,2016,2015\n",
              "\n",
              "[10 rows x 6 columns]"
            ]
          },
          "metadata": {
            "tags": []
          },
          "execution_count": 19
        }
      ]
    },
    {
      "cell_type": "markdown",
      "metadata": {
        "id": "OI2tjl2iYlC4"
      },
      "source": [
        "Are there differences in the relative importancem of routes depending on the product?\r\n",
        "\r\n",
        "Yes, depending of product, many countries have lack of certain products, depending if many facors like geolocation, due to growing population, Asia is the main destiny to brasilian Corn"
      ]
    },
    {
      "cell_type": "markdown",
      "metadata": {
        "id": "CmjSW6lPizMI"
      },
      "source": [
        "#4.Which countries have been the most important trade partners for Brazil in terms of ‘corn’ and ‘sugar’ in the last 3 years?#"
      ]
    },
    {
      "cell_type": "markdown",
      "metadata": {
        "id": "10xirToKi-bO"
      },
      "source": [
        "#CORN#"
      ]
    },
    {
      "cell_type": "markdown",
      "metadata": {
        "id": "AmCbvI6lrh_y"
      },
      "source": [
        "##export partners##"
      ]
    },
    {
      "cell_type": "code",
      "metadata": {
        "colab": {
          "base_uri": "https://localhost:8080/",
          "height": 406
        },
        "id": "IiZ7McpQXoel",
        "outputId": "edade333-58ed-4a8e-eb5a-bd5585ee9537"
      },
      "source": [
        "sql1=\"SELECT product,country,type,SUM(total_tons) AS total_tons_exported,SUM(total_usd) AS income,group_concat(DISTINCT(year)) AS years FROM(SELECT product,country,type,SUM(tons) as total_tons,SUM(usd) as total_usd,substr(date,1,4) as year FROM brasil WHERE product='corn' AND year IN('2019','2018','2017') AND type='Export' GROUP BY year,country) GROUP BY country ORDER BY income DESC\"\r\n",
        "df=pd.read_sql_query(sql1,connection)\r\n",
        "df"
      ],
      "execution_count": 24,
      "outputs": [
        {
          "output_type": "execute_result",
          "data": {
            "text/html": [
              "<div>\n",
              "<style scoped>\n",
              "    .dataframe tbody tr th:only-of-type {\n",
              "        vertical-align: middle;\n",
              "    }\n",
              "\n",
              "    .dataframe tbody tr th {\n",
              "        vertical-align: top;\n",
              "    }\n",
              "\n",
              "    .dataframe thead th {\n",
              "        text-align: right;\n",
              "    }\n",
              "</style>\n",
              "<table border=\"1\" class=\"dataframe\">\n",
              "  <thead>\n",
              "    <tr style=\"text-align: right;\">\n",
              "      <th></th>\n",
              "      <th>product</th>\n",
              "      <th>country</th>\n",
              "      <th>type</th>\n",
              "      <th>total_tons_exported</th>\n",
              "      <th>income</th>\n",
              "      <th>years</th>\n",
              "    </tr>\n",
              "  </thead>\n",
              "  <tbody>\n",
              "    <tr>\n",
              "      <th>0</th>\n",
              "      <td>corn</td>\n",
              "      <td>Iran</td>\n",
              "      <td>Export</td>\n",
              "      <td>1.642565e+07</td>\n",
              "      <td>2822336281</td>\n",
              "      <td>2017,2018,2019</td>\n",
              "    </tr>\n",
              "    <tr>\n",
              "      <th>1</th>\n",
              "      <td>corn</td>\n",
              "      <td>Japan</td>\n",
              "      <td>Export</td>\n",
              "      <td>9.676921e+06</td>\n",
              "      <td>1574975592</td>\n",
              "      <td>2017,2018,2019</td>\n",
              "    </tr>\n",
              "    <tr>\n",
              "      <th>2</th>\n",
              "      <td>corn</td>\n",
              "      <td>Vietnam</td>\n",
              "      <td>Export</td>\n",
              "      <td>9.446982e+06</td>\n",
              "      <td>1551035208</td>\n",
              "      <td>2017,2018,2019</td>\n",
              "    </tr>\n",
              "    <tr>\n",
              "      <th>3</th>\n",
              "      <td>corn</td>\n",
              "      <td>Egypt</td>\n",
              "      <td>Export</td>\n",
              "      <td>8.353797e+06</td>\n",
              "      <td>1375065136</td>\n",
              "      <td>2017,2018,2019</td>\n",
              "    </tr>\n",
              "    <tr>\n",
              "      <th>4</th>\n",
              "      <td>corn</td>\n",
              "      <td>Spain</td>\n",
              "      <td>Export</td>\n",
              "      <td>8.243941e+06</td>\n",
              "      <td>1335769607</td>\n",
              "      <td>2017,2018,2019</td>\n",
              "    </tr>\n",
              "    <tr>\n",
              "      <th>...</th>\n",
              "      <td>...</td>\n",
              "      <td>...</td>\n",
              "      <td>...</td>\n",
              "      <td>...</td>\n",
              "      <td>...</td>\n",
              "      <td>...</td>\n",
              "    </tr>\n",
              "    <tr>\n",
              "      <th>108</th>\n",
              "      <td>corn</td>\n",
              "      <td>Bahamas</td>\n",
              "      <td>Export</td>\n",
              "      <td>4.200000e-02</td>\n",
              "      <td>75</td>\n",
              "      <td>2019</td>\n",
              "    </tr>\n",
              "    <tr>\n",
              "      <th>109</th>\n",
              "      <td>corn</td>\n",
              "      <td>Norway</td>\n",
              "      <td>Export</td>\n",
              "      <td>2.000000e-02</td>\n",
              "      <td>56</td>\n",
              "      <td>2018,2019</td>\n",
              "    </tr>\n",
              "    <tr>\n",
              "      <th>110</th>\n",
              "      <td>corn</td>\n",
              "      <td>Bahrein</td>\n",
              "      <td>Export</td>\n",
              "      <td>2.200000e-02</td>\n",
              "      <td>15</td>\n",
              "      <td>2019</td>\n",
              "    </tr>\n",
              "    <tr>\n",
              "      <th>111</th>\n",
              "      <td>corn</td>\n",
              "      <td>Isle of Man</td>\n",
              "      <td>Export</td>\n",
              "      <td>6.000000e-03</td>\n",
              "      <td>14</td>\n",
              "      <td>2019</td>\n",
              "    </tr>\n",
              "    <tr>\n",
              "      <th>112</th>\n",
              "      <td>corn</td>\n",
              "      <td>Cayman Islands</td>\n",
              "      <td>Export</td>\n",
              "      <td>1.200000e-02</td>\n",
              "      <td>11</td>\n",
              "      <td>2019</td>\n",
              "    </tr>\n",
              "  </tbody>\n",
              "</table>\n",
              "<p>113 rows × 6 columns</p>\n",
              "</div>"
            ],
            "text/plain": [
              "    product         country  ...      income           years\n",
              "0      corn            Iran  ...  2822336281  2017,2018,2019\n",
              "1      corn           Japan  ...  1574975592  2017,2018,2019\n",
              "2      corn         Vietnam  ...  1551035208  2017,2018,2019\n",
              "3      corn           Egypt  ...  1375065136  2017,2018,2019\n",
              "4      corn           Spain  ...  1335769607  2017,2018,2019\n",
              "..      ...             ...  ...         ...             ...\n",
              "108    corn         Bahamas  ...          75            2019\n",
              "109    corn          Norway  ...          56       2018,2019\n",
              "110    corn         Bahrein  ...          15            2019\n",
              "111    corn     Isle of Man  ...          14            2019\n",
              "112    corn  Cayman Islands  ...          11            2019\n",
              "\n",
              "[113 rows x 6 columns]"
            ]
          },
          "metadata": {
            "tags": []
          },
          "execution_count": 24
        }
      ]
    },
    {
      "cell_type": "markdown",
      "metadata": {
        "id": "JQl5FwTurnU4"
      },
      "source": [
        "##Import partners##"
      ]
    },
    {
      "cell_type": "code",
      "metadata": {
        "colab": {
          "base_uri": "https://localhost:8080/",
          "height": 317
        },
        "id": "lq4TEmuuqRSj",
        "outputId": "042f74ca-93ba-46ca-9680-2d9b6549429b"
      },
      "source": [
        "sql2=\"SELECT product,country,type,SUM(total_tons) AS total_tons_imported,SUM(total_usd) AS outcome,group_concat(DISTINCT(year)) AS years FROM(SELECT product,country,type,SUM(tons) as total_tons,SUM(usd) as total_usd,substr(date,1,4) as year FROM brasil WHERE product='corn' AND year IN('2019','2018','2017') AND type='Import' GROUP BY year,country) GROUP BY country ORDER BY outcome DESC\"\r\n",
        "df=pd.read_sql_query(sql2,connection)\r\n",
        "df"
      ],
      "execution_count": 25,
      "outputs": [
        {
          "output_type": "execute_result",
          "data": {
            "text/html": [
              "<div>\n",
              "<style scoped>\n",
              "    .dataframe tbody tr th:only-of-type {\n",
              "        vertical-align: middle;\n",
              "    }\n",
              "\n",
              "    .dataframe tbody tr th {\n",
              "        vertical-align: top;\n",
              "    }\n",
              "\n",
              "    .dataframe thead th {\n",
              "        text-align: right;\n",
              "    }\n",
              "</style>\n",
              "<table border=\"1\" class=\"dataframe\">\n",
              "  <thead>\n",
              "    <tr style=\"text-align: right;\">\n",
              "      <th></th>\n",
              "      <th>product</th>\n",
              "      <th>country</th>\n",
              "      <th>type</th>\n",
              "      <th>total_tons_imported</th>\n",
              "      <th>outcome</th>\n",
              "      <th>years</th>\n",
              "    </tr>\n",
              "  </thead>\n",
              "  <tbody>\n",
              "    <tr>\n",
              "      <th>0</th>\n",
              "      <td>corn</td>\n",
              "      <td>Paraguay</td>\n",
              "      <td>Import</td>\n",
              "      <td>2842287.275</td>\n",
              "      <td>374158249</td>\n",
              "      <td>2017,2018,2019</td>\n",
              "    </tr>\n",
              "    <tr>\n",
              "      <th>1</th>\n",
              "      <td>corn</td>\n",
              "      <td>Argentina</td>\n",
              "      <td>Import</td>\n",
              "      <td>819267.684</td>\n",
              "      <td>154907150</td>\n",
              "      <td>2017,2018,2019</td>\n",
              "    </tr>\n",
              "    <tr>\n",
              "      <th>2</th>\n",
              "      <td>corn</td>\n",
              "      <td>United States</td>\n",
              "      <td>Import</td>\n",
              "      <td>2221.313</td>\n",
              "      <td>20830122</td>\n",
              "      <td>2017,2018,2019</td>\n",
              "    </tr>\n",
              "    <tr>\n",
              "      <th>3</th>\n",
              "      <td>corn</td>\n",
              "      <td>Bolivia</td>\n",
              "      <td>Import</td>\n",
              "      <td>955.531</td>\n",
              "      <td>2500841</td>\n",
              "      <td>2017,2018,2019</td>\n",
              "    </tr>\n",
              "    <tr>\n",
              "      <th>4</th>\n",
              "      <td>corn</td>\n",
              "      <td>Mexico</td>\n",
              "      <td>Import</td>\n",
              "      <td>10.295</td>\n",
              "      <td>139491</td>\n",
              "      <td>2017,2018,2019</td>\n",
              "    </tr>\n",
              "    <tr>\n",
              "      <th>5</th>\n",
              "      <td>corn</td>\n",
              "      <td>Spain</td>\n",
              "      <td>Import</td>\n",
              "      <td>4.698</td>\n",
              "      <td>10635</td>\n",
              "      <td>2018</td>\n",
              "    </tr>\n",
              "    <tr>\n",
              "      <th>6</th>\n",
              "      <td>corn</td>\n",
              "      <td>Brazil</td>\n",
              "      <td>Import</td>\n",
              "      <td>0.080</td>\n",
              "      <td>1956</td>\n",
              "      <td>2017</td>\n",
              "    </tr>\n",
              "    <tr>\n",
              "      <th>7</th>\n",
              "      <td>corn</td>\n",
              "      <td>Guatemala</td>\n",
              "      <td>Import</td>\n",
              "      <td>0.050</td>\n",
              "      <td>200</td>\n",
              "      <td>2018</td>\n",
              "    </tr>\n",
              "    <tr>\n",
              "      <th>8</th>\n",
              "      <td>corn</td>\n",
              "      <td>Belgium</td>\n",
              "      <td>Import</td>\n",
              "      <td>0.000</td>\n",
              "      <td>1</td>\n",
              "      <td>2019</td>\n",
              "    </tr>\n",
              "  </tbody>\n",
              "</table>\n",
              "</div>"
            ],
            "text/plain": [
              "  product        country  ...    outcome           years\n",
              "0    corn       Paraguay  ...  374158249  2017,2018,2019\n",
              "1    corn      Argentina  ...  154907150  2017,2018,2019\n",
              "2    corn  United States  ...   20830122  2017,2018,2019\n",
              "3    corn        Bolivia  ...    2500841  2017,2018,2019\n",
              "4    corn         Mexico  ...     139491  2017,2018,2019\n",
              "5    corn          Spain  ...      10635            2018\n",
              "6    corn         Brazil  ...       1956            2017\n",
              "7    corn      Guatemala  ...        200            2018\n",
              "8    corn        Belgium  ...          1            2019\n",
              "\n",
              "[9 rows x 6 columns]"
            ]
          },
          "metadata": {
            "tags": []
          },
          "execution_count": 25
        }
      ]
    },
    {
      "cell_type": "markdown",
      "metadata": {
        "id": "dpIp5MCgrrr4"
      },
      "source": [
        "\r\n",
        "\r\n",
        "#Payment balance (Import<->Export)#\r\n",
        "\r\n",
        "\r\n",
        "\r\n",
        "\r\n"
      ]
    },
    {
      "cell_type": "markdown",
      "metadata": {
        "id": "TVAE0sYYsQDY"
      },
      "source": [
        "Acording to this, from exports pointview Iran ,Japan, Vietnam,Egypt and Spain are great corn partners, but taking payment balance the countries would be Spain,Mexico,USA,Guatemala, And Belgium."
      ]
    },
    {
      "cell_type": "code",
      "metadata": {
        "colab": {
          "base_uri": "https://localhost:8080/",
          "height": 287
        },
        "id": "rQdjjjI-rzaZ",
        "outputId": "c9a0807d-bed2-4087-ba8f-145d60395625"
      },
      "source": [
        "sql3=\"SELECT e.product,e.country,e.income-i.outcome AS payment_balance FROM corn_exported AS e INNER JOIN corn_imported AS i ON e.country=i.country ORDER BY payment_balance DESC\"\r\n",
        "df=pd.read_sql_query(sql3,connection)\r\n",
        "df"
      ],
      "execution_count": 30,
      "outputs": [
        {
          "output_type": "execute_result",
          "data": {
            "text/html": [
              "<div>\n",
              "<style scoped>\n",
              "    .dataframe tbody tr th:only-of-type {\n",
              "        vertical-align: middle;\n",
              "    }\n",
              "\n",
              "    .dataframe tbody tr th {\n",
              "        vertical-align: top;\n",
              "    }\n",
              "\n",
              "    .dataframe thead th {\n",
              "        text-align: right;\n",
              "    }\n",
              "</style>\n",
              "<table border=\"1\" class=\"dataframe\">\n",
              "  <thead>\n",
              "    <tr style=\"text-align: right;\">\n",
              "      <th></th>\n",
              "      <th>product</th>\n",
              "      <th>country</th>\n",
              "      <th>payment_balance</th>\n",
              "    </tr>\n",
              "  </thead>\n",
              "  <tbody>\n",
              "    <tr>\n",
              "      <th>0</th>\n",
              "      <td>corn</td>\n",
              "      <td>Spain</td>\n",
              "      <td>1335758972</td>\n",
              "    </tr>\n",
              "    <tr>\n",
              "      <th>1</th>\n",
              "      <td>corn</td>\n",
              "      <td>Mexico</td>\n",
              "      <td>422219855</td>\n",
              "    </tr>\n",
              "    <tr>\n",
              "      <th>2</th>\n",
              "      <td>corn</td>\n",
              "      <td>United States</td>\n",
              "      <td>68128639</td>\n",
              "    </tr>\n",
              "    <tr>\n",
              "      <th>3</th>\n",
              "      <td>corn</td>\n",
              "      <td>Guatemala</td>\n",
              "      <td>58983155</td>\n",
              "    </tr>\n",
              "    <tr>\n",
              "      <th>4</th>\n",
              "      <td>corn</td>\n",
              "      <td>Belgium</td>\n",
              "      <td>4556685</td>\n",
              "    </tr>\n",
              "    <tr>\n",
              "      <th>5</th>\n",
              "      <td>corn</td>\n",
              "      <td>Bolivia</td>\n",
              "      <td>3394231</td>\n",
              "    </tr>\n",
              "    <tr>\n",
              "      <th>6</th>\n",
              "      <td>corn</td>\n",
              "      <td>Argentina</td>\n",
              "      <td>-136237096</td>\n",
              "    </tr>\n",
              "    <tr>\n",
              "      <th>7</th>\n",
              "      <td>corn</td>\n",
              "      <td>Paraguay</td>\n",
              "      <td>-279523110</td>\n",
              "    </tr>\n",
              "  </tbody>\n",
              "</table>\n",
              "</div>"
            ],
            "text/plain": [
              "  product        country  payment_balance\n",
              "0    corn          Spain       1335758972\n",
              "1    corn         Mexico        422219855\n",
              "2    corn  United States         68128639\n",
              "3    corn      Guatemala         58983155\n",
              "4    corn        Belgium          4556685\n",
              "5    corn        Bolivia          3394231\n",
              "6    corn      Argentina       -136237096\n",
              "7    corn       Paraguay       -279523110"
            ]
          },
          "metadata": {
            "tags": []
          },
          "execution_count": 30
        }
      ]
    },
    {
      "cell_type": "markdown",
      "metadata": {
        "id": "0vrkTcRAjAcW"
      },
      "source": [
        "#SUGAR#"
      ]
    },
    {
      "cell_type": "markdown",
      "metadata": {
        "id": "uJqL3x7LszSA"
      },
      "source": [
        "Export partners"
      ]
    },
    {
      "cell_type": "code",
      "metadata": {
        "colab": {
          "base_uri": "https://localhost:8080/",
          "height": 347
        },
        "id": "NC3K9U86jCac",
        "outputId": "6d33bf85-0692-4284-d355-c877dd00e6fd"
      },
      "source": [
        "sql1=\"SELECT product,country,type,SUM(total_tons) AS total_tons_exported,SUM(total_usd) AS income,group_concat(DISTINCT(year)) AS years FROM(SELECT product,country,type,SUM(tons) as total_tons,SUM(usd) as total_usd,substr(date,1,4) as year FROM brasil WHERE product='sugar' AND year IN('2019','2018','2017') AND type='Export' GROUP BY year,country) GROUP BY country ORDER BY income DESC limit 10\"\r\n",
        "df=pd.read_sql_query(sql1,connection)\r\n",
        "df"
      ],
      "execution_count": 35,
      "outputs": [
        {
          "output_type": "execute_result",
          "data": {
            "text/html": [
              "<div>\n",
              "<style scoped>\n",
              "    .dataframe tbody tr th:only-of-type {\n",
              "        vertical-align: middle;\n",
              "    }\n",
              "\n",
              "    .dataframe tbody tr th {\n",
              "        vertical-align: top;\n",
              "    }\n",
              "\n",
              "    .dataframe thead th {\n",
              "        text-align: right;\n",
              "    }\n",
              "</style>\n",
              "<table border=\"1\" class=\"dataframe\">\n",
              "  <thead>\n",
              "    <tr style=\"text-align: right;\">\n",
              "      <th></th>\n",
              "      <th>product</th>\n",
              "      <th>country</th>\n",
              "      <th>type</th>\n",
              "      <th>total_tons_exported</th>\n",
              "      <th>income</th>\n",
              "      <th>years</th>\n",
              "    </tr>\n",
              "  </thead>\n",
              "  <tbody>\n",
              "    <tr>\n",
              "      <th>0</th>\n",
              "      <td>sugar</td>\n",
              "      <td>Algeria</td>\n",
              "      <td>Export</td>\n",
              "      <td>6696854.262</td>\n",
              "      <td>2176380928</td>\n",
              "      <td>2017,2018,2019</td>\n",
              "    </tr>\n",
              "    <tr>\n",
              "      <th>1</th>\n",
              "      <td>sugar</td>\n",
              "      <td>Bangladesh</td>\n",
              "      <td>Export</td>\n",
              "      <td>6331640.155</td>\n",
              "      <td>2063174600</td>\n",
              "      <td>2017,2018,2019</td>\n",
              "    </tr>\n",
              "    <tr>\n",
              "      <th>2</th>\n",
              "      <td>sugar</td>\n",
              "      <td>India</td>\n",
              "      <td>Export</td>\n",
              "      <td>5111371.882</td>\n",
              "      <td>1696094938</td>\n",
              "      <td>2017,2018,2019</td>\n",
              "    </tr>\n",
              "    <tr>\n",
              "      <th>3</th>\n",
              "      <td>sugar</td>\n",
              "      <td>United Arab Emirates</td>\n",
              "      <td>Export</td>\n",
              "      <td>4545802.219</td>\n",
              "      <td>1538397895</td>\n",
              "      <td>2017,2018,2019</td>\n",
              "    </tr>\n",
              "    <tr>\n",
              "      <th>4</th>\n",
              "      <td>sugar</td>\n",
              "      <td>Saudi Arabia</td>\n",
              "      <td>Export</td>\n",
              "      <td>4249461.903</td>\n",
              "      <td>1380455693</td>\n",
              "      <td>2017,2018,2019</td>\n",
              "    </tr>\n",
              "    <tr>\n",
              "      <th>5</th>\n",
              "      <td>sugar</td>\n",
              "      <td>Nigeria</td>\n",
              "      <td>Export</td>\n",
              "      <td>4156814.026</td>\n",
              "      <td>1336515029</td>\n",
              "      <td>2017,2018,2019</td>\n",
              "    </tr>\n",
              "    <tr>\n",
              "      <th>6</th>\n",
              "      <td>sugar</td>\n",
              "      <td>Iraq</td>\n",
              "      <td>Export</td>\n",
              "      <td>3555241.197</td>\n",
              "      <td>1158541230</td>\n",
              "      <td>2017,2018,2019</td>\n",
              "    </tr>\n",
              "    <tr>\n",
              "      <th>7</th>\n",
              "      <td>sugar</td>\n",
              "      <td>Malaysia</td>\n",
              "      <td>Export</td>\n",
              "      <td>2981729.159</td>\n",
              "      <td>1039031070</td>\n",
              "      <td>2017,2018,2019</td>\n",
              "    </tr>\n",
              "    <tr>\n",
              "      <th>8</th>\n",
              "      <td>sugar</td>\n",
              "      <td>Egypt</td>\n",
              "      <td>Export</td>\n",
              "      <td>3071223.738</td>\n",
              "      <td>1010584065</td>\n",
              "      <td>2017,2018,2019</td>\n",
              "    </tr>\n",
              "    <tr>\n",
              "      <th>9</th>\n",
              "      <td>sugar</td>\n",
              "      <td>Morocco</td>\n",
              "      <td>Export</td>\n",
              "      <td>2850892.879</td>\n",
              "      <td>931580393</td>\n",
              "      <td>2017,2018,2019</td>\n",
              "    </tr>\n",
              "  </tbody>\n",
              "</table>\n",
              "</div>"
            ],
            "text/plain": [
              "  product               country  ...      income           years\n",
              "0   sugar               Algeria  ...  2176380928  2017,2018,2019\n",
              "1   sugar            Bangladesh  ...  2063174600  2017,2018,2019\n",
              "2   sugar                 India  ...  1696094938  2017,2018,2019\n",
              "3   sugar  United Arab Emirates  ...  1538397895  2017,2018,2019\n",
              "4   sugar          Saudi Arabia  ...  1380455693  2017,2018,2019\n",
              "5   sugar               Nigeria  ...  1336515029  2017,2018,2019\n",
              "6   sugar                  Iraq  ...  1158541230  2017,2018,2019\n",
              "7   sugar              Malaysia  ...  1039031070  2017,2018,2019\n",
              "8   sugar                 Egypt  ...  1010584065  2017,2018,2019\n",
              "9   sugar               Morocco  ...   931580393  2017,2018,2019\n",
              "\n",
              "[10 rows x 6 columns]"
            ]
          },
          "metadata": {
            "tags": []
          },
          "execution_count": 35
        }
      ]
    },
    {
      "cell_type": "markdown",
      "metadata": {
        "id": "I_rYFI7uwYAl"
      },
      "source": [
        "Import  partners"
      ]
    },
    {
      "cell_type": "code",
      "metadata": {
        "colab": {
          "base_uri": "https://localhost:8080/",
          "height": 347
        },
        "id": "N1AM19s7wYAx",
        "outputId": "11e718bb-62b3-45fd-80e8-e1467d2cdc0b"
      },
      "source": [
        "sql=\"SELECT product,country,type,SUM(total_tons) AS total_tons_imported,SUM(total_usd) AS outcome,group_concat(DISTINCT(year)) AS years FROM(SELECT product,country,type,SUM(tons) as total_tons,SUM(usd) as total_usd,substr(date,1,4) as year FROM brasil WHERE product='sugar' AND year IN('2019','2018','2017') AND type='Import' GROUP BY year,country) GROUP BY country ORDER BY outcome DESC limit 10\"\r\n",
        "df=pd.read_sql_query(sql,connection)\r\n",
        "df"
      ],
      "execution_count": 34,
      "outputs": [
        {
          "output_type": "execute_result",
          "data": {
            "text/html": [
              "<div>\n",
              "<style scoped>\n",
              "    .dataframe tbody tr th:only-of-type {\n",
              "        vertical-align: middle;\n",
              "    }\n",
              "\n",
              "    .dataframe tbody tr th {\n",
              "        vertical-align: top;\n",
              "    }\n",
              "\n",
              "    .dataframe thead th {\n",
              "        text-align: right;\n",
              "    }\n",
              "</style>\n",
              "<table border=\"1\" class=\"dataframe\">\n",
              "  <thead>\n",
              "    <tr style=\"text-align: right;\">\n",
              "      <th></th>\n",
              "      <th>product</th>\n",
              "      <th>country</th>\n",
              "      <th>type</th>\n",
              "      <th>total_tons_imported</th>\n",
              "      <th>outcome</th>\n",
              "      <th>years</th>\n",
              "    </tr>\n",
              "  </thead>\n",
              "  <tbody>\n",
              "    <tr>\n",
              "      <th>0</th>\n",
              "      <td>sugar</td>\n",
              "      <td>United States</td>\n",
              "      <td>Import</td>\n",
              "      <td>4266.959</td>\n",
              "      <td>3311692</td>\n",
              "      <td>2017,2018,2019</td>\n",
              "    </tr>\n",
              "    <tr>\n",
              "      <th>1</th>\n",
              "      <td>sugar</td>\n",
              "      <td>Chile</td>\n",
              "      <td>Import</td>\n",
              "      <td>700.000</td>\n",
              "      <td>610812</td>\n",
              "      <td>2017,2018,2019</td>\n",
              "    </tr>\n",
              "    <tr>\n",
              "      <th>2</th>\n",
              "      <td>sugar</td>\n",
              "      <td>Argentina</td>\n",
              "      <td>Import</td>\n",
              "      <td>598.400</td>\n",
              "      <td>512624</td>\n",
              "      <td>2017,2018</td>\n",
              "    </tr>\n",
              "    <tr>\n",
              "      <th>3</th>\n",
              "      <td>sugar</td>\n",
              "      <td>Italy</td>\n",
              "      <td>Import</td>\n",
              "      <td>291.596</td>\n",
              "      <td>355682</td>\n",
              "      <td>2017,2018,2019</td>\n",
              "    </tr>\n",
              "    <tr>\n",
              "      <th>4</th>\n",
              "      <td>sugar</td>\n",
              "      <td>Netherlands</td>\n",
              "      <td>Import</td>\n",
              "      <td>77.241</td>\n",
              "      <td>285032</td>\n",
              "      <td>2017,2018,2019</td>\n",
              "    </tr>\n",
              "    <tr>\n",
              "      <th>5</th>\n",
              "      <td>sugar</td>\n",
              "      <td>Germany</td>\n",
              "      <td>Import</td>\n",
              "      <td>86.012</td>\n",
              "      <td>270233</td>\n",
              "      <td>2017,2018,2019</td>\n",
              "    </tr>\n",
              "    <tr>\n",
              "      <th>6</th>\n",
              "      <td>sugar</td>\n",
              "      <td>Switzerland</td>\n",
              "      <td>Import</td>\n",
              "      <td>26.153</td>\n",
              "      <td>204303</td>\n",
              "      <td>2017,2018,2019</td>\n",
              "    </tr>\n",
              "    <tr>\n",
              "      <th>7</th>\n",
              "      <td>sugar</td>\n",
              "      <td>Guatemala</td>\n",
              "      <td>Import</td>\n",
              "      <td>320.000</td>\n",
              "      <td>112703</td>\n",
              "      <td>2019</td>\n",
              "    </tr>\n",
              "    <tr>\n",
              "      <th>8</th>\n",
              "      <td>sugar</td>\n",
              "      <td>Paraguay</td>\n",
              "      <td>Import</td>\n",
              "      <td>102.264</td>\n",
              "      <td>88778</td>\n",
              "      <td>2017,2018,2019</td>\n",
              "    </tr>\n",
              "    <tr>\n",
              "      <th>9</th>\n",
              "      <td>sugar</td>\n",
              "      <td>Indonesia</td>\n",
              "      <td>Import</td>\n",
              "      <td>34.020</td>\n",
              "      <td>71904</td>\n",
              "      <td>2019</td>\n",
              "    </tr>\n",
              "  </tbody>\n",
              "</table>\n",
              "</div>"
            ],
            "text/plain": [
              "  product        country    type  total_tons_imported  outcome           years\n",
              "0   sugar  United States  Import             4266.959  3311692  2017,2018,2019\n",
              "1   sugar          Chile  Import              700.000   610812  2017,2018,2019\n",
              "2   sugar      Argentina  Import              598.400   512624       2017,2018\n",
              "3   sugar          Italy  Import              291.596   355682  2017,2018,2019\n",
              "4   sugar    Netherlands  Import               77.241   285032  2017,2018,2019\n",
              "5   sugar        Germany  Import               86.012   270233  2017,2018,2019\n",
              "6   sugar    Switzerland  Import               26.153   204303  2017,2018,2019\n",
              "7   sugar      Guatemala  Import              320.000   112703            2019\n",
              "8   sugar       Paraguay  Import              102.264    88778  2017,2018,2019\n",
              "9   sugar      Indonesia  Import               34.020    71904            2019"
            ]
          },
          "metadata": {
            "tags": []
          },
          "execution_count": 34
        }
      ]
    },
    {
      "cell_type": "markdown",
      "metadata": {
        "id": "WcvRds9szHQB"
      },
      "source": [
        "\r\n",
        "\r\n",
        "#Payment balance (Import<->Export)#\r\n",
        "\r\n"
      ]
    },
    {
      "cell_type": "markdown",
      "metadata": {
        "id": "Vagii2Zg0Whi"
      },
      "source": [
        "Acording to this, from exports pointview ALgeria,Bangladesh,India,United Arab Emirates and Saudi Arabia are great sugar partners, but taking payment balance the countries would be India,Canada,China and USA"
      ]
    },
    {
      "cell_type": "code",
      "metadata": {
        "colab": {
          "base_uri": "https://localhost:8080/",
          "height": 347
        },
        "id": "GH7PQLB0zLhG",
        "outputId": "6394fa4c-c100-4cae-d073-d2e6b9821bb3"
      },
      "source": [
        "sql3=\"SELECT e.product,e.country,e.income-i.outcome AS payment_balance FROM sugar_exported AS e INNER JOIN sugar_imported AS i ON e.country=i.country ORDER BY payment_balance DESC limit 10\"\r\n",
        "df=pd.read_sql_query(sql3,connection)\r\n",
        "df"
      ],
      "execution_count": 33,
      "outputs": [
        {
          "output_type": "execute_result",
          "data": {
            "text/html": [
              "<div>\n",
              "<style scoped>\n",
              "    .dataframe tbody tr th:only-of-type {\n",
              "        vertical-align: middle;\n",
              "    }\n",
              "\n",
              "    .dataframe tbody tr th {\n",
              "        vertical-align: top;\n",
              "    }\n",
              "\n",
              "    .dataframe thead th {\n",
              "        text-align: right;\n",
              "    }\n",
              "</style>\n",
              "<table border=\"1\" class=\"dataframe\">\n",
              "  <thead>\n",
              "    <tr style=\"text-align: right;\">\n",
              "      <th></th>\n",
              "      <th>product</th>\n",
              "      <th>country</th>\n",
              "      <th>payment_balance</th>\n",
              "    </tr>\n",
              "  </thead>\n",
              "  <tbody>\n",
              "    <tr>\n",
              "      <th>0</th>\n",
              "      <td>sugar</td>\n",
              "      <td>India</td>\n",
              "      <td>1696094516</td>\n",
              "    </tr>\n",
              "    <tr>\n",
              "      <th>1</th>\n",
              "      <td>sugar</td>\n",
              "      <td>Canada</td>\n",
              "      <td>848568125</td>\n",
              "    </tr>\n",
              "    <tr>\n",
              "      <th>2</th>\n",
              "      <td>sugar</td>\n",
              "      <td>China</td>\n",
              "      <td>742184707</td>\n",
              "    </tr>\n",
              "    <tr>\n",
              "      <th>3</th>\n",
              "      <td>sugar</td>\n",
              "      <td>United States</td>\n",
              "      <td>514231159</td>\n",
              "    </tr>\n",
              "    <tr>\n",
              "      <th>4</th>\n",
              "      <td>sugar</td>\n",
              "      <td>Indonesia</td>\n",
              "      <td>402812011</td>\n",
              "    </tr>\n",
              "    <tr>\n",
              "      <th>5</th>\n",
              "      <td>sugar</td>\n",
              "      <td>Chile</td>\n",
              "      <td>76827191</td>\n",
              "    </tr>\n",
              "    <tr>\n",
              "      <th>6</th>\n",
              "      <td>sugar</td>\n",
              "      <td>United Kingdom</td>\n",
              "      <td>57761402</td>\n",
              "    </tr>\n",
              "    <tr>\n",
              "      <th>7</th>\n",
              "      <td>sugar</td>\n",
              "      <td>Spain</td>\n",
              "      <td>52130806</td>\n",
              "    </tr>\n",
              "    <tr>\n",
              "      <th>8</th>\n",
              "      <td>sugar</td>\n",
              "      <td>Romania</td>\n",
              "      <td>46228912</td>\n",
              "    </tr>\n",
              "    <tr>\n",
              "      <th>9</th>\n",
              "      <td>sugar</td>\n",
              "      <td>Netherlands</td>\n",
              "      <td>42173491</td>\n",
              "    </tr>\n",
              "  </tbody>\n",
              "</table>\n",
              "</div>"
            ],
            "text/plain": [
              "  product         country  payment_balance\n",
              "0   sugar           India       1696094516\n",
              "1   sugar          Canada        848568125\n",
              "2   sugar           China        742184707\n",
              "3   sugar   United States        514231159\n",
              "4   sugar       Indonesia        402812011\n",
              "5   sugar           Chile         76827191\n",
              "6   sugar  United Kingdom         57761402\n",
              "7   sugar           Spain         52130806\n",
              "8   sugar         Romania         46228912\n",
              "9   sugar     Netherlands         42173491"
            ]
          },
          "metadata": {
            "tags": []
          },
          "execution_count": 33
        }
      ]
    },
    {
      "cell_type": "markdown",
      "metadata": {
        "id": "4_sZzLom7Isc"
      },
      "source": [
        "#5.For each of the products in the dataset, show the 5 most important states in terms of exports?#"
      ]
    },
    {
      "cell_type": "markdown",
      "metadata": {
        "id": "d-Ld3YcGGvW2"
      },
      "source": [
        "The following query shows exports grouped per year,state and product"
      ]
    },
    {
      "cell_type": "code",
      "metadata": {
        "colab": {
          "base_uri": "https://localhost:8080/",
          "height": 406
        },
        "id": "-TsVzUaPGTkw",
        "outputId": "acdb847c-e6b2-471b-b7a3-acc6d7109678"
      },
      "source": [
        "sql=\"SELECT product, state, type,SUM(tons) as total_tons,SUM(usd) as total_usd,substr(date,1,4) as year FROM brasil WHERE type='Export'  GROUP BY year,state,product\"\r\n",
        "df=pd.read_sql_query(sql,connection)\r\n",
        "df"
      ],
      "execution_count": 112,
      "outputs": [
        {
          "output_type": "execute_result",
          "data": {
            "text/html": [
              "<div>\n",
              "<style scoped>\n",
              "    .dataframe tbody tr th:only-of-type {\n",
              "        vertical-align: middle;\n",
              "    }\n",
              "\n",
              "    .dataframe tbody tr th {\n",
              "        vertical-align: top;\n",
              "    }\n",
              "\n",
              "    .dataframe thead th {\n",
              "        text-align: right;\n",
              "    }\n",
              "</style>\n",
              "<table border=\"1\" class=\"dataframe\">\n",
              "  <thead>\n",
              "    <tr style=\"text-align: right;\">\n",
              "      <th></th>\n",
              "      <th>product</th>\n",
              "      <th>state</th>\n",
              "      <th>type</th>\n",
              "      <th>total_tons</th>\n",
              "      <th>total_usd</th>\n",
              "      <th>year</th>\n",
              "    </tr>\n",
              "  </thead>\n",
              "  <tbody>\n",
              "    <tr>\n",
              "      <th>0</th>\n",
              "      <td>sugar</td>\n",
              "      <td>AL</td>\n",
              "      <td>Export</td>\n",
              "      <td>6.235000e+04</td>\n",
              "      <td>19202493</td>\n",
              "      <td>1997</td>\n",
              "    </tr>\n",
              "    <tr>\n",
              "      <th>1</th>\n",
              "      <td>soybean_meal</td>\n",
              "      <td>BA</td>\n",
              "      <td>Export</td>\n",
              "      <td>1.038044e+05</td>\n",
              "      <td>28116003</td>\n",
              "      <td>1997</td>\n",
              "    </tr>\n",
              "    <tr>\n",
              "      <th>2</th>\n",
              "      <td>soybeans</td>\n",
              "      <td>BA</td>\n",
              "      <td>Export</td>\n",
              "      <td>1.795551e+05</td>\n",
              "      <td>56032292</td>\n",
              "      <td>1997</td>\n",
              "    </tr>\n",
              "    <tr>\n",
              "      <th>3</th>\n",
              "      <td>corn</td>\n",
              "      <td>DF</td>\n",
              "      <td>Export</td>\n",
              "      <td>7.000000e+02</td>\n",
              "      <td>526750</td>\n",
              "      <td>1997</td>\n",
              "    </tr>\n",
              "    <tr>\n",
              "      <th>4</th>\n",
              "      <td>soybean_meal</td>\n",
              "      <td>ES</td>\n",
              "      <td>Export</td>\n",
              "      <td>1.564746e+04</td>\n",
              "      <td>3692801</td>\n",
              "      <td>1997</td>\n",
              "    </tr>\n",
              "    <tr>\n",
              "      <th>...</th>\n",
              "      <td>...</td>\n",
              "      <td>...</td>\n",
              "      <td>...</td>\n",
              "      <td>...</td>\n",
              "      <td>...</td>\n",
              "      <td>...</td>\n",
              "    </tr>\n",
              "    <tr>\n",
              "      <th>1676</th>\n",
              "      <td>sugar</td>\n",
              "      <td>SP</td>\n",
              "      <td>Export</td>\n",
              "      <td>1.111413e+07</td>\n",
              "      <td>3144981666</td>\n",
              "      <td>2019</td>\n",
              "    </tr>\n",
              "    <tr>\n",
              "      <th>1677</th>\n",
              "      <td>wheat</td>\n",
              "      <td>SP</td>\n",
              "      <td>Export</td>\n",
              "      <td>6.298700e+01</td>\n",
              "      <td>34885</td>\n",
              "      <td>2019</td>\n",
              "    </tr>\n",
              "    <tr>\n",
              "      <th>1678</th>\n",
              "      <td>corn</td>\n",
              "      <td>TO</td>\n",
              "      <td>Export</td>\n",
              "      <td>4.768295e+05</td>\n",
              "      <td>78543697</td>\n",
              "      <td>2019</td>\n",
              "    </tr>\n",
              "    <tr>\n",
              "      <th>1679</th>\n",
              "      <td>soybean_meal</td>\n",
              "      <td>TO</td>\n",
              "      <td>Export</td>\n",
              "      <td>9.695965e+04</td>\n",
              "      <td>35801213</td>\n",
              "      <td>2019</td>\n",
              "    </tr>\n",
              "    <tr>\n",
              "      <th>1680</th>\n",
              "      <td>soybeans</td>\n",
              "      <td>TO</td>\n",
              "      <td>Export</td>\n",
              "      <td>2.213791e+06</td>\n",
              "      <td>772631894</td>\n",
              "      <td>2019</td>\n",
              "    </tr>\n",
              "  </tbody>\n",
              "</table>\n",
              "<p>1681 rows × 6 columns</p>\n",
              "</div>"
            ],
            "text/plain": [
              "           product state    type    total_tons   total_usd  year\n",
              "0            sugar    AL  Export  6.235000e+04    19202493  1997\n",
              "1     soybean_meal    BA  Export  1.038044e+05    28116003  1997\n",
              "2         soybeans    BA  Export  1.795551e+05    56032292  1997\n",
              "3             corn    DF  Export  7.000000e+02      526750  1997\n",
              "4     soybean_meal    ES  Export  1.564746e+04     3692801  1997\n",
              "...            ...   ...     ...           ...         ...   ...\n",
              "1676         sugar    SP  Export  1.111413e+07  3144981666  2019\n",
              "1677         wheat    SP  Export  6.298700e+01       34885  2019\n",
              "1678          corn    TO  Export  4.768295e+05    78543697  2019\n",
              "1679  soybean_meal    TO  Export  9.695965e+04    35801213  2019\n",
              "1680      soybeans    TO  Export  2.213791e+06   772631894  2019\n",
              "\n",
              "[1681 rows x 6 columns]"
            ]
          },
          "metadata": {
            "tags": []
          },
          "execution_count": 112
        }
      ]
    },
    {
      "cell_type": "code",
      "metadata": {
        "colab": {
          "base_uri": "https://localhost:8080/"
        },
        "id": "-Ddn3AhpHiaF",
        "outputId": "93ae5458-264c-44c1-a798-0c11997d41d1"
      },
      "source": [
        "products=[x for x in df['product'].drop_duplicates()]\r\n",
        "products"
      ],
      "execution_count": 110,
      "outputs": [
        {
          "output_type": "execute_result",
          "data": {
            "text/plain": [
              "['sugar', 'soybean_meal', 'soybeans', 'corn', 'soybean_oil', 'wheat']"
            ]
          },
          "metadata": {
            "tags": []
          },
          "execution_count": 110
        }
      ]
    },
    {
      "cell_type": "code",
      "metadata": {
        "id": "ufouLYrjWQPW"
      },
      "source": [
        "import operator"
      ],
      "execution_count": 119,
      "outputs": []
    },
    {
      "cell_type": "code",
      "metadata": {
        "id": "Yho0AiK4G5X-"
      },
      "source": [
        "\r\n",
        "def order_states(df,product):\r\n",
        "  df_product=df[df['product']==product]\r\n",
        "  states=[s for s in df_product['state'].drop_duplicates()]\r\n",
        "  state_dict={}\r\n",
        " \r\n",
        "  #print(\"------\",product,\"-----\")\r\n",
        "  for s in states:\r\n",
        "    df_prod_by_state=df_product[df_product['state']==s]\r\n",
        "    #print(s,':',sum(df_prod_by_state['total_usd']),' ',product)\r\n",
        "    state_dict[s]=sum(df_prod_by_state['total_usd'])\r\n",
        "  \r\n",
        "  sorted_by_state = sorted(state_dict.items(), key=operator.itemgetter(1),reverse=True)\r\n",
        "  return sorted_by_state\r\n",
        "  #print(df_product)\r\n",
        "  #print(states)\r\n"
      ],
      "execution_count": 125,
      "outputs": []
    },
    {
      "cell_type": "code",
      "metadata": {
        "colab": {
          "base_uri": "https://localhost:8080/"
        },
        "id": "RAtlSeQ1Midi",
        "outputId": "4b9fbd9b-c8c9-4d24-d057-4077e2c09e99"
      },
      "source": [
        "for p in products:\r\n",
        "  product_by_state=order_states(df,p)\r\n",
        "  print(\"--\",p,\"--(state,USD)\")\r\n",
        "  print(product_by_state[0:5])\r\n",
        "\r\n"
      ],
      "execution_count": 130,
      "outputs": [
        {
          "output_type": "stream",
          "text": [
            "-- sugar --(state,USD)\n",
            "[('SP', 66211861392), ('MG', 8559401218), ('PR', 8270778644), ('AL', 4826419200), ('MS', 3219034929)]\n",
            "-- soybean_meal --(state,USD)\n",
            "[('MT', 27994539842), ('PR', 24649962821), ('RS', 15007385729), ('GO', 9421430703), ('BA', 5439265638)]\n",
            "-- soybeans --(state,USD)\n",
            "[('MT', 80506781707), ('PR', 48484101052), ('RS', 46136733396), ('GO', 21268827303), ('MS', 13284815678)]\n",
            "-- corn --(state,USD)\n",
            "[('MT', 28375516035), ('PR', 9160511995), ('GO', 5706990655), ('MS', 3405430680), ('SP', 1511121926)]\n",
            "-- soybean_oil --(state,USD)\n",
            "[('PR', 11109102057), ('RS', 6281965055), ('MT', 5434513926), ('SC', 1238810673), ('GO', 855920734)]\n",
            "-- wheat --(state,USD)\n",
            "[('RS', 1555925283), ('PR', 183935397), ('SC', 25400089), ('SP', 2267024), ('MS', 275733)]\n"
          ],
          "name": "stdout"
        }
      ]
    },
    {
      "cell_type": "markdown",
      "metadata": {
        "id": "Ea1BvsUrbRsJ"
      },
      "source": [
        "#another solution#"
      ]
    },
    {
      "cell_type": "code",
      "metadata": {
        "colab": {
          "base_uri": "https://localhost:8080/"
        },
        "id": "vvU6vDKZUFHQ",
        "outputId": "230f3fde-2403-4630-f70f-5700730c1c5d"
      },
      "source": [
        "for p in products:\r\n",
        "  sql=\"SELECT product,state ,SUM(total_tons), SUM(total_usd) AS money  FROM (SELECT product, state, type,SUM(tons) as total_tons,SUM(usd) as total_usd,substr(date,1,4) as year FROM brasil WHERE type='Export'  GROUP BY year,state,product) WHERE product='\"+p+\"' GROUP BY state ORDER BY money DESC limit 5\"\r\n",
        "  df=pd.read_sql_query(sql,connection)\r\n",
        "  print(df)"
      ],
      "execution_count": 138,
      "outputs": [
        {
          "output_type": "stream",
          "text": [
            "  product state  SUM(total_tons)        money\n",
            "0   sugar    SP     1.879603e+08  66211861392\n",
            "1   sugar    MG     2.318293e+07   8559401218\n",
            "2   sugar    PR     2.198688e+07   8270778644\n",
            "3   sugar    AL     1.261794e+07   4826419200\n",
            "4   sugar    MS     8.406289e+06   3219034929\n",
            "        product state  SUM(total_tons)        money\n",
            "0  soybean_meal    MT     7.946227e+07  27994539842\n",
            "1  soybean_meal    PR     8.639237e+07  24649962821\n",
            "2  soybean_meal    RS     4.892746e+07  15007385729\n",
            "3  soybean_meal    GO     2.868658e+07   9421430703\n",
            "4  soybean_meal    BA     1.736806e+07   5439265638\n",
            "    product state  SUM(total_tons)        money\n",
            "0  soybeans    MT     2.157785e+08  80506781707\n",
            "1  soybeans    PR     1.345502e+08  48484101052\n",
            "2  soybeans    RS     1.196807e+08  46136733396\n",
            "3  soybeans    GO     5.702533e+07  21268827303\n",
            "4  soybeans    MS     3.421464e+07  13284815678\n",
            "  product state  SUM(total_tons)        money\n",
            "0    corn    MT     1.518234e+08  28375516035\n",
            "1    corn    PR     5.386247e+07   9160511995\n",
            "2    corn    GO     2.846462e+07   5706990655\n",
            "3    corn    MS     1.827060e+07   3405430680\n",
            "4    corn    SP     7.343888e+06   1511121926\n",
            "       product state  SUM(total_tons)        money\n",
            "0  soybean_oil    PR     1.648205e+07  11109102057\n",
            "1  soybean_oil    RS     9.279786e+06   6281965055\n",
            "2  soybean_oil    MT     7.423877e+06   5434513926\n",
            "3  soybean_oil    SC     1.786134e+06   1238810673\n",
            "4  soybean_oil    GO     1.094295e+06    855920734\n",
            "  product state  SUM(total_tons)       money\n",
            "0   wheat    RS      6734981.032  1555925283\n",
            "1   wheat    PR       824974.624   183935397\n",
            "2   wheat    SC        81340.920    25400089\n",
            "3   wheat    SP        10066.817     2267024\n",
            "4   wheat    MS          910.108      275733\n"
          ],
          "name": "stdout"
        }
      ]
    }
  ]
}